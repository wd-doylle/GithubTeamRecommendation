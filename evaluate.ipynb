{
 "cells": [
  {
   "attachments": {
    "818082-20180714160858982-321309463%5B1%5D.png": {
     "image/png": "[encoded data removed]"
    },
    "818082-20180714161256916-1278028213.png": {
     "image/png": "[encoded data removed]"
    },
    "818082-20180714161431962-254253731.png": {
     "image/png": "[encoded data removed]"
    },
    "818082-20180714161510722-2010593068.png": {
     "image/png": "[encoded data removed]"
    },
    "image.png": {
     "image/png": "[encoded data removed]"
    }
   },
   "cell_type": "markdown",
   "metadata": {
    "slideshow": {
     "slide_type": "-"
    }
   },
   "source": [
    "# 两种评价指标\n",
    "## (1) MRR: Mean Reciprocal Rank\n",
    "  Reciprocal rank是指第一个正确答案的排名的倒数。MRR是指多个查询语句的排名倒数的均值。公式如下：\n",
    "      ![image.png](attachment:image.png)\n",
    "  MRR假设每一个Query只有一个最标准的答案（每一个repo只有一个最匹配的team），与我们的问题不太一致，因此我根据NDCG对MRR做了一些改变。\n",
    "## (2) NDCG: Normalized Discounted Cumulative Gain\n",
    "### Cumulative Gain(CG)：\n",
    "  表示前p个位置累计得到的效益，公式如下：\n",
    "  ![818082-20180714160858982-321309463%5B1%5D.png](attachment:818082-20180714160858982-321309463%5B1%5D.png)\n",
    "  这里我取rel_i为1和0，分别表示推荐得到的team事实上有或没有参与该repo。\n",
    "### Discounted cumulative gain(DCG)：\n",
    "   ![818082-20180714161256916-1278028213.png](attachment:818082-20180714161256916-1278028213.png)\n",
    "   按排序给每个位置上的相关度加上了权重。由于rel_i取值{0,1}，分子的值也分别对应0和1。\n",
    "### Ideal DCG(IDCG)：\n",
    "   IDCG是理想情况下的DCG，即对于一个查询语句和p来说，DCG的最大值。公式如下： \n",
    "   ![818082-20180714161431962-254253731.png](attachment:818082-20180714161431962-254253731.png)\n",
    "   对于我们的实验来说，IDCG就是所有参与了当前repo的team都被推荐到列表最前列时计算出的DCG值。\n",
    "### Normalized DCG(nDCG)：\n",
    "   由于每个查询语句所能检索到的结果文档集合长度不一，p值的不同会对DCG的计算有较大的影响。所以不能对不同查询语句的DCG进行求平均，需要进行归一化处理。nDCG就是用IDCG进行归一化处理，表示当前DCG比IDCG还差多大的距离。公式如下：\n",
    "   ![818082-20180714161510722-2010593068.png](attachment:818082-20180714161510722-2010593068.png)"
   ]
  },
  {
   "cell_type": "code",
   "execution_count": 1,
   "metadata": {},
   "outputs": [
    {
     "name": "stdout",
     "output_type": "stream",
     "text": [
      "('[\"AMorporkian\", \"kharidiron\"]', 'Starbound-Dev/starbound-dev')\n",
      "('Starbound-Dev/starbound-dev', ['[\"joseph-ortiz\", \"tacksoo\"]', '[\"SimonGoring\", \"andydawson\", \"IceAgeEcologist\"]', '[\"pkoro\", \"skanct\", \"themiszamani\", \"dpavlos\", \"kkoumantaros\"]', '[\"IgorDePaula\", \"flavianohonorato\"]', '[\"Thooms\", \"flavray\", \"florent1933\", \"AntoineGirard\", \"Walz\", \"Wonskcalb\", \"Alterrien\", \"jordankevi\"]', '[\"dethe\", \"eddieantonio\", \"JarrettSpiker\", \"CelticMinstrel\", \"amaclean199\", \"kotarCreative\"]', '[\"bsyu1125\", \"oeon\"]', '[\"weaverbel\", \"ndalyrose\", \"evanwill\", \"alexandermendes\", \"kekoziar\", \"elizabethwilliams8\"]', '[\"HazCod\", \"danielfarrell\", \"shatran\", \"thephw\"]', '[\"only-a-ptr\", \"AnotherFoxGuy\", \"mikadou\"]', '[\"avernet\", \"ebruchez\", \"ajw625\"]', '[\"mxplusb\", \"seviet\", \"kartiklunkad26\", \"doddatpivotal\"]', '[\"sux13\", \"elmerehbi\"]', '[\"Jan0707\", \"jferiante\"]', '[\"ivanbarlog\", \"RamonSmit\"]', '[\"linytsysu\", \"MchCyLh\", \"SimbaScorpio\", \"ValenW\"]', '[\"jungor\", \"williamking\", \"WarpPrism\", \"lucifan\"]', '[\"jayjiahua\", \"BillBillBillBill\", \"dayinji\"]', '[\"Ckins\", \"1900zyh\", \"laiy\"]', '[\"54017\", \"dengal3\"]', '[\"cbroeren\", \"michaelw8\"]', '[\"drmohundro\", \"benjaminjrobin\"]', '[\"eluciano11\", \"digia\", \"gertjanwytynck\"]', '[\"thomaschampagne\", \"KamensekD\", \"j0nes2k\", \"glandais\", \"erikvankempen\"]', '[\"mrtns\", \"acruise\"]', '[\"chrisnicola\", \"saem\", \"tavisrudd\"]', '[\"CWSpear\", \"tubia\"]', '[\"khloke\", \"josutus\", \"maciex\", \"antoine-morisseau\"]', '[\"Deph0\", \"RobertMaaskant\"]', '[\"hashd\", \"vekon\", \"MohitSuhane\"]', '[\"mallowigi\", \"bmkmanoj\"]', '[\"scambra\", \"courtland\"]', '[\"lfuelling\", \"nicolaisueper\"]', '[\"nlepage\", \"EmrysMyrddin\"]', '[\"lawnsea\", \"savetheclocktower\", \"rmurphey\", \"brianarn\"]', '[\"pavlakis\", \"sdh100shaun\"]', '[\"akiroom\", \"ymrl\"]', '[\"jeffnv\", \"shawndromat\"]', '[\"Haseeb-Qureshi\", \"akingabramson\"]', '[\"deepakshrma\", \"DanielHindi\", \"sakshityagi\", \"jdm135\", \"kmtabish\", \"ahmadhmoud\"]', '[\"francois2metz\", \"avernois\", \"areski\", \"vinyll\", \"zyegfryed\", \"pointbar\", \"providenz\", \"thibault\", \"FrancoisDupayrat\", \"WolffThomas\", \"mjambert\", \"XavCC\", \"TheoVital\", \"cba85\", \"newick\", \"Rom1deTroyes\"]', '[\"JDM555\", \"lakshaydulani\", \"RJASeoud\", \"vish250491\"]', '[\"sburns\", \"briandailey\"]', '[\"sagarrayudu\", \"Gauravnag\"]', '[\"Mnw2212\", \"skeep\", \"himanshusingh2407\", \"ayushinigam\", \"vatsalya25\"]', '[\"jludwig\", \"damienmckenna\", \"Ashwini7\"]', '[\"bdaroz\", \"technonerdz\"]', '[\"sandeepchhapola\", \"ianblair44\", \"vineetasharma\"]', '[\"felipesoares6\", \"CaiqueMitsuoka\", \"juliofortunato\", \"mightyjimmy9\"]', '[\"BobbieBarker\", \"SystemDisc\"]'])\n"
     ]
    }
   ],
   "source": [
    "import pandas as pd\n",
    "import json\n",
    "\n",
    "recommendations = {}\n",
    "with open('recommenda_euclidean.json') as rj:\n",
    "    for l in rj.readlines():\n",
    "        line = l.strip().split('\\t')\n",
    "        repo = line[0]\n",
    "        recs = [json.loads(t)[1] for t in line[1:]]\n",
    "        recommendations[repo] = recs[::-1]\n",
    "        \n",
    "team_target = {}\n",
    "with open('team_profiles.json') as tj:\n",
    "    for tl in tj.readlines():\n",
    "        line = tl.split('\\t')\n",
    "        team = line[0]\n",
    "        profile = json.loads(line[1])\n",
    "        team_target[team] = profile['target']\n",
    "print(list(team_target.items())[0])\n",
    "print(list(recommendations.items())[0])"
   ]
  },
  {
   "cell_type": "code",
   "execution_count": 2,
   "metadata": {},
   "outputs": [
    {
     "name": "stdout",
     "output_type": "stream",
     "text": [
      "0.0\n"
     ]
    }
   ],
   "source": [
    "def NRR(repo,rec,team_target):\n",
    "    mrr = 0\n",
    "    for i,tm in enumerate(rec):\n",
    "        if tm in team_target and repo == team_target[tm]:\n",
    "            mrr += 1/(i+1)\n",
    "    target_cnt = 0\n",
    "    irr =  0\n",
    "    for tm in team_target:\n",
    "        target = team_target[tm]\n",
    "        if target == repo:\n",
    "            target_cnt += 1\n",
    "            irr += 1/target_cnt\n",
    "#     print(irr)\n",
    "    mrr /= irr\n",
    "    return mrr\n",
    "\n",
    "item = list(recommendations.items())[0]\n",
    "print(NRR(item[0],item[1],team_target))"
   ]
  },
  {
   "cell_type": "code",
   "execution_count": 3,
   "metadata": {},
   "outputs": [
    {
     "name": "stdout",
     "output_type": "stream",
     "text": [
      "0.0\n"
     ]
    }
   ],
   "source": [
    "import numpy as np\n",
    "def NDCG(repo,rec,team_target):\n",
    "    dcg = 0\n",
    "    for i,tm in enumerate(rec):\n",
    "        if tm in team_target and repo == team_target[tm]:\n",
    "            dcg += 1/np.log2(i+2)\n",
    "    target_cnt = 0\n",
    "    idcg =  0\n",
    "    for tm in team_target:\n",
    "        target = team_target[tm]\n",
    "        if target == repo:\n",
    "            target_cnt += 1\n",
    "            idcg += 1/np.log2(target_cnt+1)\n",
    "    dcg /= idcg\n",
    "    return dcg\n",
    "\n",
    "item = list(recommendations.items())[0]\n",
    "print(NDCG(item[0],item[1],team_target))"
   ]
  },
  {
   "cell_type": "code",
   "execution_count": 4,
   "metadata": {},
   "outputs": [
    {
     "data": {
      "text/plain": [
       "<Figure size 640x480 with 1 Axes>"
      ]
     },
     "metadata": {},
     "output_type": "display_data"
    }
   ],
   "source": [
    "from matplotlib import pyplot as plt\n",
    "\n",
    "NRRs = []\n",
    "for repo in recommendations:\n",
    "    NRRs.append(NRR(repo,recommendations[repo],team_target))\n",
    "plt.hist(NRRs)\n",
    "plt.show()"
   ]
  },
  {
   "cell_type": "code",
   "execution_count": 5,
   "metadata": {},
   "outputs": [
    {
     "data": {
      "image/png": "[encoded data removed]",
      "text/plain": [
       "<Figure size 432x288 with 1 Axes>"
      ]
     },
     "metadata": {
      "needs_background": "light"
     },
     "output_type": "display_data"
    }
   ],
   "source": [
    "NDCGs = []\n",
    "for repo in recommendations:\n",
    "    NDCGs.append(NDCG(repo,recommendations[repo],team_target))\n",
    "plt.hist(NDCGs)\n",
    "plt.show()"
   ]
  },
  {
   "cell_type": "code",
   "execution_count": 6,
   "metadata": {},
   "outputs": [
    {
     "data": {
      "image/png": "[encoded data removed]",
      "text/plain": [
       "<Figure size 432x288 with 1 Axes>"
      ]
     },
     "metadata": {
      "needs_background": "light"
     },
     "output_type": "display_data"
    }
   ],
   "source": [
    "recommendations = {}\n",
    "with open('recommend_svd.json') as rj:\n",
    "    for l in rj.readlines():\n",
    "        line = l.strip().split('\\t')\n",
    "        repo = line[0]\n",
    "        recs = [json.loads(t)[1] for t in line[1:]]\n",
    "        recommendations[repo] = recs[::-1]\n",
    "        \n",
    "NDCGs = []\n",
    "for repo in recommendations:\n",
    "    NDCGs.append(NDCG(repo,recommendations[repo],team_target))\n",
    "plt.hist(NDCGs)\n",
    "plt.show()"
   ]
  },
  {
   "cell_type": "code",
   "execution_count": null,
   "metadata": {},
   "outputs": [],
   "source": []
  }
 ],
 "metadata": {
  "celltoolbar": "Raw Cell Format",
  "kernelspec": {
   "display_name": "Python 3",
   "language": "python",
   "name": "python3"
  },
  "language_info": {
   "codemirror_mode": {
    "name": "ipython",
    "version": 3
   },
   "file_extension": ".py",
   "mimetype": "text/x-python",
   "name": "python",
   "nbconvert_exporter": "python",
   "pygments_lexer": "ipython3",
   "version": "3.7.0"
  }
 },
 "nbformat": 4,
 "nbformat_minor": 2
}
