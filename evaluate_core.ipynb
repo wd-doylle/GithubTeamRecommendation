{
 "cells": [
  {
   "cell_type": "code",
   "execution_count": 1,
   "metadata": {},
   "outputs": [],
   "source": [
    "import numpy as np\n",
    "from matplotlib import pyplot as plt\n",
    "import json"
   ]
  },
  {
   "cell_type": "code",
   "execution_count": 2,
   "metadata": {},
   "outputs": [],
   "source": [
    "repo_targets = {}\n",
    "with open(\"repo_target_core.json\") as tj:\n",
    "    for l in tj.readlines():\n",
    "        line = l.strip().split('\\t')\n",
    "        repo = line[0]\n",
    "        targets = set(line[1:])\n",
    "        repo_targets[repo] = targets"
   ]
  },
  {
   "cell_type": "code",
   "execution_count": 3,
   "metadata": {},
   "outputs": [],
   "source": [
    "def NDCG(repo,rec,repo_targets):\n",
    "    dcg = 0\n",
    "    for i,tm in enumerate(rec):\n",
    "        if tm in repo_targets[repo]:\n",
    "            dcg += 1/np.log2(i+2)\n",
    "    target_cnt = 0\n",
    "    idcg =  0\n",
    "    for tm in repo_targets[repo]:\n",
    "        target_cnt += 1\n",
    "        idcg += 1/np.log2(target_cnt+1)\n",
    "    dcg /= idcg\n",
    "    return dcg"
   ]
  },
  {
   "cell_type": "code",
   "execution_count": 4,
   "metadata": {},
   "outputs": [],
   "source": [
    "recommendations = {}\n",
    "with open('recommend_random_walk_core.json') as rj:\n",
    "    for l in rj.readlines():\n",
    "        line = l.strip().split('\\t')\n",
    "        repo = line[0]\n",
    "        recs = [json.loads(l)[0] for l in line[1:]]\n",
    "        recommendations[repo] = recs"
   ]
  },
  {
   "cell_type": "code",
   "execution_count": 5,
   "metadata": {},
   "outputs": [
    {
     "data": {
      "image/png": "[encoded data removed]",
      "text/plain": [
       "<Figure size 432x288 with 1 Axes>"
      ]
     },
     "metadata": {
      "needs_background": "light"
     },
     "output_type": "display_data"
    },
    {
     "name": "stdout",
     "output_type": "stream",
     "text": [
      "0.0 1.0\n"
     ]
    }
   ],
   "source": [
    "NDCGs = []\n",
    "for repo in recommendations:\n",
    "    NDCGs.append(NDCG(repo,recommendations[repo],repo_targets))\n",
    "plt.hist(NDCGs)\n",
    "plt.xlabel(\"nDCG\")\n",
    "plt.title(\"Evaluation of Core-Member-Based Social Recommendation\")\n",
    "plt.savefig('evaluate_core_3.jpg',bbox='tight')\n",
    "plt.show()\n",
    "print(min(NDCGs),max(NDCGs))"
   ]
  },
  {
   "cell_type": "code",
   "execution_count": null,
   "metadata": {},
   "outputs": [],
   "source": []
  }
 ],
 "metadata": {
  "kernelspec": {
   "display_name": "Python 3",
   "language": "python",
   "name": "python3"
  },
  "language_info": {
   "codemirror_mode": {
    "name": "ipython",
    "version": 3
   },
   "file_extension": ".py",
   "mimetype": "text/x-python",
   "name": "python",
   "nbconvert_exporter": "python",
   "pygments_lexer": "ipython3",
   "version": "3.7.4"
  }
 },
 "nbformat": 4,
 "nbformat_minor": 2
}
