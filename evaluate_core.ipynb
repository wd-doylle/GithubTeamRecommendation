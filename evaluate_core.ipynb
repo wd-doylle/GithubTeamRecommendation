{
 "cells": [
  {
   "cell_type": "code",
   "execution_count": 1,
   "metadata": {},
   "outputs": [],
   "source": [
    "import numpy as np\n",
    "from matplotlib import pyplot as plt\n",
    "import json\n",
    "from pymongo import MongoClient\n",
    "client = MongoClient()\n",
    "db = client['gtr']"
   ]
  },
  {
   "cell_type": "code",
   "execution_count": 2,
   "metadata": {},
   "outputs": [],
   "source": [
    "repo_targets = {}\n",
    "for doc in db['repo_core_targets'].find():\n",
    "    repo_targets[doc['repo']] = doc['target_teams']"
   ]
  },
  {
   "cell_type": "code",
   "execution_count": 3,
   "metadata": {},
   "outputs": [],
   "source": [
    "def NDCG(repo,rec,repo_targets):\n",
    "    dcg = 0\n",
    "    for i,tm in enumerate(rec):\n",
    "        if tm in repo_targets[repo]:\n",
    "            dcg += 1/np.log2(i+2)\n",
    "    target_cnt = 0\n",
    "    idcg =  0\n",
    "    for tm in repo_targets[repo]:\n",
    "        target_cnt += 1\n",
    "        idcg += 1/np.log2(target_cnt+1)\n",
    "    dcg /= idcg\n",
    "    return dcg"
   ]
  },
  {
   "cell_type": "code",
   "execution_count": 4,
   "metadata": {},
   "outputs": [],
   "source": [
    "recommendations = {}\n",
    "with open('sae_team_score_contri.json') as rj:\n",
    "    for l in rj.readlines():\n",
    "        line = l.strip().split('\\t')\n",
    "        repo = line[0]\n",
    "        recs = [json.loads(r)[0] for r in line[1:]]\n",
    "        recommendations[repo] = recs"
   ]
  },
  {
   "cell_type": "code",
   "execution_count": 6,
   "metadata": {},
   "outputs": [
    {
     "ename": "ZeroDivisionError",
     "evalue": "division by zero",
     "output_type": "error",
     "traceback": [
      "\u001b[1;31m---------------------------------------------------------------------------\u001b[0m",
      "\u001b[1;31mZeroDivisionError\u001b[0m                         Traceback (most recent call last)",
      "\u001b[1;32m<ipython-input-6-fa00974254ab>\u001b[0m in \u001b[0;36m<module>\u001b[1;34m\u001b[0m\n\u001b[0;32m      3\u001b[0m     \u001b[1;32mif\u001b[0m \u001b[1;32mnot\u001b[0m \u001b[0mrepo\u001b[0m \u001b[1;32min\u001b[0m \u001b[0mrepo_targets\u001b[0m\u001b[1;33m:\u001b[0m\u001b[1;33m\u001b[0m\u001b[1;33m\u001b[0m\u001b[0m\n\u001b[0;32m      4\u001b[0m         \u001b[1;32mcontinue\u001b[0m\u001b[1;33m\u001b[0m\u001b[1;33m\u001b[0m\u001b[0m\n\u001b[1;32m----> 5\u001b[1;33m     \u001b[0mNDCGs\u001b[0m\u001b[1;33m.\u001b[0m\u001b[0mappend\u001b[0m\u001b[1;33m(\u001b[0m\u001b[0mNDCG\u001b[0m\u001b[1;33m(\u001b[0m\u001b[0mrepo\u001b[0m\u001b[1;33m,\u001b[0m\u001b[0mrecommendations\u001b[0m\u001b[1;33m[\u001b[0m\u001b[0mrepo\u001b[0m\u001b[1;33m]\u001b[0m\u001b[1;33m,\u001b[0m\u001b[0mrepo_targets\u001b[0m\u001b[1;33m)\u001b[0m\u001b[1;33m)\u001b[0m\u001b[1;33m\u001b[0m\u001b[1;33m\u001b[0m\u001b[0m\n\u001b[0m\u001b[0;32m      6\u001b[0m \u001b[0mplt\u001b[0m\u001b[1;33m.\u001b[0m\u001b[0mhist\u001b[0m\u001b[1;33m(\u001b[0m\u001b[0mNDCGs\u001b[0m\u001b[1;33m)\u001b[0m\u001b[1;33m\u001b[0m\u001b[1;33m\u001b[0m\u001b[0m\n\u001b[0;32m      7\u001b[0m \u001b[0mplt\u001b[0m\u001b[1;33m.\u001b[0m\u001b[0mxlabel\u001b[0m\u001b[1;33m(\u001b[0m\u001b[1;34m\"nDCG\"\u001b[0m\u001b[1;33m)\u001b[0m\u001b[1;33m\u001b[0m\u001b[1;33m\u001b[0m\u001b[0m\n",
      "\u001b[1;32m<ipython-input-3-c830d9a481ba>\u001b[0m in \u001b[0;36mNDCG\u001b[1;34m(repo, rec, repo_targets)\u001b[0m\n\u001b[0;32m      9\u001b[0m         \u001b[0mtarget_cnt\u001b[0m \u001b[1;33m+=\u001b[0m \u001b[1;36m1\u001b[0m\u001b[1;33m\u001b[0m\u001b[1;33m\u001b[0m\u001b[0m\n\u001b[0;32m     10\u001b[0m         \u001b[0midcg\u001b[0m \u001b[1;33m+=\u001b[0m \u001b[1;36m1\u001b[0m\u001b[1;33m/\u001b[0m\u001b[0mnp\u001b[0m\u001b[1;33m.\u001b[0m\u001b[0mlog2\u001b[0m\u001b[1;33m(\u001b[0m\u001b[0mtarget_cnt\u001b[0m\u001b[1;33m+\u001b[0m\u001b[1;36m1\u001b[0m\u001b[1;33m)\u001b[0m\u001b[1;33m\u001b[0m\u001b[1;33m\u001b[0m\u001b[0m\n\u001b[1;32m---> 11\u001b[1;33m     \u001b[0mdcg\u001b[0m \u001b[1;33m/=\u001b[0m \u001b[0midcg\u001b[0m\u001b[1;33m\u001b[0m\u001b[1;33m\u001b[0m\u001b[0m\n\u001b[0m\u001b[0;32m     12\u001b[0m     \u001b[1;32mreturn\u001b[0m \u001b[0mdcg\u001b[0m\u001b[1;33m\u001b[0m\u001b[1;33m\u001b[0m\u001b[0m\n",
      "\u001b[1;31mZeroDivisionError\u001b[0m: division by zero"
     ]
    }
   ],
   "source": [
    "NDCGs = []\n",
    "for repo in recommendations:\n",
    "    if not repo in repo_targets:\n",
    "        continue\n",
    "    NDCGs.append(NDCG(repo,recommendations[repo],repo_targets))\n",
    "plt.hist(NDCGs)\n",
    "plt.xlabel(\"nDCG\")\n",
    "plt.title(\"Evaluation of SAE-Based FunkSVD (Weight by Contribution)\")\n",
    "plt.savefig('evaluate_interest_mean.jpg',bbox='tight')\n",
    "plt.show()\n",
    "print(min(NDCGs),max(NDCGs))"
   ]
  },
  {
   "cell_type": "code",
   "execution_count": null,
   "metadata": {},
   "outputs": [],
   "source": [
    "recommendations = {}\n",
    "with open('sae_team_score_degree.json') as rj:\n",
    "    for l in rj.readlines():\n",
    "        line = l.strip().split('\\t')\n",
    "        repo = line[0]\n",
    "        recs = [json.loads(r)[0] for r in line[1:]]\n",
    "        recommendations[repo] = recs"
   ]
  },
  {
   "cell_type": "code",
   "execution_count": null,
   "metadata": {},
   "outputs": [],
   "source": [
    "NDCGs = []\n",
    "for repo in recommendations:\n",
    "    NDCGs.append(NDCG(repo,recommendations[repo],repo_targets))\n",
    "plt.hist(NDCGs)\n",
    "plt.xlabel(\"nDCG\")\n",
    "plt.title(\"Evaluation of SAE-Based FunkSVD (Weighted by Degree)\")\n",
    "plt.savefig('evaluate_interest_contri.jpg',bbox='tight')\n",
    "plt.show()\n",
    "print(min(NDCGs),max(NDCGs))"
   ]
  },
  {
   "cell_type": "code",
   "execution_count": null,
   "metadata": {},
   "outputs": [],
   "source": [
    "recommendations = {}\n",
    "with open('sae_team_score_min.json') as rj:\n",
    "    for l in rj.readlines():\n",
    "        line = l.strip().split('\\t')\n",
    "        repo = line[0]\n",
    "        recs = [json.loads(r)[0] for r in line[1:]]\n",
    "        recommendations[repo] = recs"
   ]
  },
  {
   "cell_type": "code",
   "execution_count": null,
   "metadata": {},
   "outputs": [],
   "source": [
    "NDCGs = []\n",
    "for repo in recommendations:\n",
    "    NDCGs.append(NDCG(repo,recommendations[repo],repo_targets))\n",
    "plt.hist(NDCGs)\n",
    "plt.xlabel(\"nDCG\")\n",
    "plt.title(\"Evaluation of Interest-Based Recommendation (Min Interest)\")\n",
    "plt.savefig('evaluate_interest_degree.jpg',bbox='tight')\n",
    "plt.show()\n",
    "print(min(NDCGs),max(NDCGs))"
   ]
  },
  {
   "cell_type": "code",
   "execution_count": null,
   "metadata": {},
   "outputs": [],
   "source": [
    "recommendations = {}\n",
    "with open('sae_team_score_max.json') as rj:\n",
    "    for l in rj.readlines():\n",
    "        line = l.strip().split('\\t')\n",
    "        repo = line[0]\n",
    "        recs = [json.loads(r)[0] for r in line[1:]]\n",
    "        recommendations[repo] = recs"
   ]
  },
  {
   "cell_type": "code",
   "execution_count": null,
   "metadata": {},
   "outputs": [],
   "source": [
    "NDCGs = []\n",
    "for repo in recommendations:\n",
    "    NDCGs.append(NDCG(repo,recommendations[repo],repo_targets))\n",
    "plt.hist(NDCGs)\n",
    "plt.xlabel(\"nDCG\")\n",
    "plt.title(\"Evaluation of SAE-Based FunkSVD (Max Interest)\")\n",
    "plt.savefig('evaluate_interest_degree.jpg',bbox='tight')\n",
    "plt.show()\n",
    "print(min(NDCGs),max(NDCGs))"
   ]
  },
  {
   "cell_type": "code",
   "execution_count": null,
   "metadata": {},
   "outputs": [],
   "source": [
    "recommendations = {}\n",
    "with open('sae_team_score_mean.json') as rj:\n",
    "    for l in rj.readlines():\n",
    "        line = l.strip().split('\\t')\n",
    "        repo = line[0]\n",
    "        recs = [json.loads(r)[0] for r in line[1:]]\n",
    "        recommendations[repo] = recs"
   ]
  },
  {
   "cell_type": "code",
   "execution_count": null,
   "metadata": {},
   "outputs": [],
   "source": [
    "NDCGs = []\n",
    "for repo in recommendations:\n",
    "    NDCGs.append(NDCG(repo,recommendations[repo],repo_targets))\n",
    "plt.hist(NDCGs)\n",
    "plt.xlabel(\"nDCG\")\n",
    "plt.title(\"Evaluation of SAE-Based FunkSVD (Mean Interest)\")\n",
    "plt.savefig('evaluate_interest_degree.jpg',bbox='tight')\n",
    "plt.show()\n",
    "print(min(NDCGs),max(NDCGs))"
   ]
  }
 ],
 "metadata": {
  "kernelspec": {
   "display_name": "Python 3",
   "language": "python",
   "name": "python3"
  },
  "language_info": {
   "codemirror_mode": {
    "name": "ipython",
    "version": 3
   },
   "file_extension": ".py",
   "mimetype": "text/x-python",
   "name": "python",
   "nbconvert_exporter": "python",
   "pygments_lexer": "ipython3",
   "version": "3.7.4"
  }
 },
 "nbformat": 4,
 "nbformat_minor": 2
}
