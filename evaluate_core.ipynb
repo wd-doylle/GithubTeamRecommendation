{
 "cells": [
  {
   "cell_type": "code",
   "execution_count": 1,
   "metadata": {},
   "outputs": [],
   "source": [
    "import numpy as np\n",
    "from matplotlib import pyplot as plt\n",
    "import json\n",
    "from pymongo import MongoClient\n",
    "client = MongoClient()\n",
    "db = client['gtr']"
   ]
  },
  {
   "cell_type": "code",
   "execution_count": 2,
   "metadata": {},
   "outputs": [],
   "source": [
    "repo_targets = {}\n",
    "for doc in db['repo_core_targets'].find():\n",
    "    repo_targets[doc['repo']] = doc['targets']"
   ]
  },
  {
   "cell_type": "code",
   "execution_count": 3,
   "metadata": {},
   "outputs": [],
   "source": [
    "def NDCG(repo,rec,repo_targets):\n",
    "    dcg = 0\n",
    "    for i,tm in enumerate(rec):\n",
    "        if tm in repo_targets[repo]:\n",
    "            dcg += 1/np.log2(i+2)\n",
    "    target_cnt = 0\n",
    "    idcg =  0\n",
    "    for tm in repo_targets[repo]:\n",
    "        target_cnt += 1\n",
    "        idcg += 1/np.log2(target_cnt+1)\n",
    "    dcg /= idcg\n",
    "    return dcg"
   ]
  },
  {
   "cell_type": "code",
   "execution_count": 8,
   "metadata": {},
   "outputs": [],
   "source": [
    "recommendations = {}\n",
    "for doc in db['recommend_social_core'].find():\n",
    "    recommendations[doc['repo']] = [r[0] for r in doc['rec']]"
   ]
  },
  {
   "cell_type": "code",
   "execution_count": 9,
   "metadata": {},
   "outputs": [
    {
     "data": {
      "image/png": "[encoded data removed]",
      "text/plain": [
       "<Figure size 432x288 with 1 Axes>"
      ]
     },
     "metadata": {
      "needs_background": "light"
     },
     "output_type": "display_data"
    },
    {
     "name": "stdout",
     "output_type": "stream",
     "text": [
      "0.0 1.0\n"
     ]
    }
   ],
   "source": [
    "NDCGs = []\n",
    "for repo in recommendations:\n",
    "    if not repo in repo_targets:\n",
    "        continue\n",
    "    NDCGs.append(NDCG(repo,recommendations[repo],repo_targets))\n",
    "plt.hist(NDCGs)\n",
    "plt.xlabel(\"nDCG\")\n",
    "plt.title(\"Evaluation of Core-Member-Based Social Recommendation\")\n",
    "plt.savefig('evaluate_social.jpg',bbox='tight')\n",
    "plt.show()\n",
    "print(min(NDCGs),max(NDCGs))"
   ]
  },
  {
   "cell_type": "code",
   "execution_count": null,
   "metadata": {},
   "outputs": [],
   "source": []
  }
 ],
 "metadata": {
  "kernelspec": {
   "display_name": "Python 3",
   "language": "python",
   "name": "python3"
  },
  "language_info": {
   "codemirror_mode": {
    "name": "ipython",
    "version": 3
   },
   "file_extension": ".py",
   "mimetype": "text/x-python",
   "name": "python",
   "nbconvert_exporter": "python",
   "pygments_lexer": "ipython3",
   "version": "3.7.4"
  }
 },
 "nbformat": 4,
 "nbformat_minor": 2
}
