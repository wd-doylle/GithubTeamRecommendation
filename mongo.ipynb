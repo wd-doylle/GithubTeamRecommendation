{
 "cells": [
  {
   "cell_type": "code",
   "execution_count": 1,
   "metadata": {},
   "outputs": [],
   "source": [
    "import pymongo"
   ]
  },
  {
   "cell_type": "code",
   "execution_count": 2,
   "metadata": {},
   "outputs": [],
   "source": [
    "client = pymongo.MongoClient()"
   ]
  },
  {
   "cell_type": "code",
   "execution_count": 3,
   "metadata": {},
   "outputs": [],
   "source": [
    "db = client['test']\n",
    "user_profiles = db['user_profiles']"
   ]
  },
  {
   "cell_type": "code",
   "execution_count": 4,
   "metadata": {},
   "outputs": [
    {
     "data": {
      "text/plain": [
       "<pymongo.results.InsertOneResult at 0x1fcd7f22048>"
      ]
     },
     "execution_count": 4,
     "metadata": {},
     "output_type": "execute_result"
    }
   ],
   "source": [
    "u_p1 = {\n",
    "    'user': 'u1',\n",
    "    'topics':['t1','t2'],\n",
    "    'languages':['l1','l2'],\n",
    "    'repo_size':11.1,\n",
    "    'repo_forks':111.11,\n",
    "    'repo_watchers':112.22,\n",
    "    'repo_subscribers':333.22,\n",
    "}\n",
    "\n",
    "user_profiles.insert_one(u_p1)"
   ]
  },
  {
   "cell_type": "code",
   "execution_count": 5,
   "metadata": {},
   "outputs": [],
   "source": [
    "# user_profiles.insert_one(u_p1)"
   ]
  },
  {
   "cell_type": "code",
   "execution_count": 6,
   "metadata": {},
   "outputs": [
    {
     "data": {
      "text/plain": [
       "['user_profiles']"
      ]
     },
     "execution_count": 6,
     "metadata": {},
     "output_type": "execute_result"
    }
   ],
   "source": [
    "db.list_collection_names()"
   ]
  },
  {
   "cell_type": "code",
   "execution_count": 7,
   "metadata": {},
   "outputs": [
    {
     "data": {
      "text/plain": [
       "<pymongo.results.InsertManyResult at 0x1fcd7e07cc8>"
      ]
     },
     "execution_count": 7,
     "metadata": {},
     "output_type": "execute_result"
    }
   ],
   "source": [
    "u_p2 = {\n",
    "    'user': 'u2',\n",
    "    'topics':['t1','t2'],\n",
    "    'languages':['l1','l2'],\n",
    "    'repo_size':11.1,\n",
    "    'repo_forks':111.11,\n",
    "    'repo_watchers':112.22,\n",
    "    'repo_subscribers':333.22,\n",
    "}\n",
    "\n",
    "u_p3 = {\n",
    "    'user': 'u3',\n",
    "    'topics':['t1','t2'],\n",
    "    'languages':['l1','l2'],\n",
    "    'repo_size':11.1,\n",
    "    'repo_forks':111.11,\n",
    "    'repo_watchers':112.22,\n",
    "    'repo_subscribers':333.22,\n",
    "}\n",
    "\n",
    "u_ps = [u_p2,u_p3]\n",
    "\n",
    "user_profiles.insert_many(u_ps)"
   ]
  },
  {
   "cell_type": "code",
   "execution_count": 8,
   "metadata": {},
   "outputs": [
    {
     "name": "stdout",
     "output_type": "stream",
     "text": [
      "{'_id': ObjectId('5dfdc0acbd0cee4721892df7'), 'user': 'u1', 'topics': ['t1', 't2'], 'languages': ['l1', 'l2'], 'repo_size': 11.1, 'repo_forks': 111.11, 'repo_watchers': 112.22, 'repo_subscribers': 333.22}\n",
      "{'_id': ObjectId('5dfdc0acbd0cee4721892df8'), 'user': 'u2', 'topics': ['t1', 't2'], 'languages': ['l1', 'l2'], 'repo_size': 11.1, 'repo_forks': 111.11, 'repo_watchers': 112.22, 'repo_subscribers': 333.22}\n",
      "{'_id': ObjectId('5dfdc0acbd0cee4721892df9'), 'user': 'u3', 'topics': ['t1', 't2'], 'languages': ['l1', 'l2'], 'repo_size': 11.1, 'repo_forks': 111.11, 'repo_watchers': 112.22, 'repo_subscribers': 333.22}\n",
      "{'_id': ObjectId('5dfdc0e9dd174fe54d6570b6'), 'user': 'u1', 'topics': ['t1', 't2'], 'languages': ['l1', 'l2'], 'repo_size': 11.1, 'repo_forks': 111.11, 'repo_watchers': 112.22, 'repo_subscribers': 333.22}\n",
      "{'_id': ObjectId('5dfdc0eadd174fe54d6570b7'), 'user': 'u2', 'topics': ['t1', 't2'], 'languages': ['l1', 'l2'], 'repo_size': 11.1, 'repo_forks': 111.11, 'repo_watchers': 112.22, 'repo_subscribers': 333.22}\n",
      "{'_id': ObjectId('5dfdc0eadd174fe54d6570b8'), 'user': 'u3', 'topics': ['t1', 't2'], 'languages': ['l1', 'l2'], 'repo_size': 11.1, 'repo_forks': 111.11, 'repo_watchers': 112.22, 'repo_subscribers': 333.22}\n"
     ]
    }
   ],
   "source": [
    "for u_p in user_profiles.find():\n",
    "    print(u_p)"
   ]
  },
  {
   "cell_type": "code",
   "execution_count": 9,
   "metadata": {},
   "outputs": [
    {
     "data": {
      "text/plain": [
       "6"
      ]
     },
     "execution_count": 9,
     "metadata": {},
     "output_type": "execute_result"
    }
   ],
   "source": [
    "user_profiles.count_documents({})"
   ]
  },
  {
   "cell_type": "code",
   "execution_count": 10,
   "metadata": {},
   "outputs": [],
   "source": [
    "client.drop_database('test')"
   ]
  },
  {
   "cell_type": "code",
   "execution_count": 11,
   "metadata": {},
   "outputs": [
    {
     "data": {
      "text/plain": [
       "['admin', 'config', 'gtr', 'local']"
      ]
     },
     "execution_count": 11,
     "metadata": {},
     "output_type": "execute_result"
    }
   ],
   "source": [
    "client.list_database_names()"
   ]
  },
  {
   "cell_type": "code",
   "execution_count": null,
   "metadata": {},
   "outputs": [],
   "source": []
  }
 ],
 "metadata": {
  "kernelspec": {
   "display_name": "Python 3",
   "language": "python",
   "name": "python3"
  },
  "language_info": {
   "codemirror_mode": {
    "name": "ipython",
    "version": 3
   },
   "file_extension": ".py",
   "mimetype": "text/x-python",
   "name": "python",
   "nbconvert_exporter": "python",
   "pygments_lexer": "ipython3",
   "version": "3.7.4"
  }
 },
 "nbformat": 4,
 "nbformat_minor": 2
}
