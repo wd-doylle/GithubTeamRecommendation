{
 "cells": [
  {
   "cell_type": "code",
   "execution_count": null,
   "metadata": {},
   "outputs": [],
   "source": [
    "import json\n",
    "import pandas as pd\n",
    "\n",
    "ratings = []\n",
    "repos = []\n",
    "teams = set()\n",
    "repo_teams = {}\n",
    "with open('repo_profiles.json') as rj:\n",
    "    for rl in rj.readlines():\n",
    "        line = rl.split('\\t')\n",
    "        repo = line[0]\n",
    "        profile = json.loads(line[1])\n",
    "        repos.append(repo)\n",
    "        teams.update(profile['teams'])\n",
    "        repo_teams[repo] = set(profile['teams'])\n",
    "        for team in profile['teams']:\n",
    "            ratings.append([repo,team,1])"
   ]
  }
 ],
 "metadata": {
  "kernelspec": {
   "display_name": "Python 3",
   "language": "python",
   "name": "python3"
  },
  "language_info": {
   "codemirror_mode": {
    "name": "ipython",
    "version": 3
   },
   "file_extension": ".py",
   "mimetype": "text/x-python",
   "name": "python",
   "nbconvert_exporter": "python",
   "pygments_lexer": "ipython3",
   "version": "3.7.0"
  }
 },
 "nbformat": 4,
 "nbformat_minor": 2
}
