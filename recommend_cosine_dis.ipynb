{
 "cells": [
  {
   "cell_type": "code",
   "execution_count": 3,
   "metadata": {},
   "outputs": [],
   "source": [
    "import json\n",
    "\n",
    "# repo_profiles = {}\n",
    "# with open('repo_profiles.json') as rj:\n",
    "#     for rl in rj.readlines():\n",
    "#         line = rl.split('\\t')\n",
    "#         repo = line[0]\n",
    "#         profile = json.loads(line[1])\n",
    "#         repo_profiles[repo] = profile\n",
    "\n",
    "# team_profiles = []\n",
    "# with open('team_profiles.json') as tj:\n",
    "#     for tl in tj.readlines():\n",
    "#         line = tl.split('\\t')\n",
    "#         team = json.loads(line[0])\n",
    "#         profile = json.loads(line[1])\n",
    "#         team_profiles.append([team,profile])\n",
    "\n",
    "repo_profiles = {\n",
    "    'repo1':{'topics':['topic1','topic2'],'language':['lang1','lang2'],'size':100,'forks':10,'watchers':5,'subscribers':5},\n",
    "    'repo2':{'topics':['topic1','topic3'],'language':['lang3','lang2'],'size':200,'forks':20,'watchers':15,'subscribers':15}\n",
    "}\n",
    "\n",
    "team_profiles = [\n",
    "    [['t1m1','t1m2'],{'topics':['topic1','topic2'],'language':['lang1','lang2'],'repo_size':100,'forks':10,'watchers':5,'subscribers':5}],\n",
    "    [['t2m1,t2m2'],{'topics':['topic1','topic3'],'language':['lang3','lang2'],'repo_size':200,'forks':20,'watchers':15,'subscribers':15}]\n",
    "]"
   ]
  },
  {
   "cell_type": "code",
   "execution_count": null,
   "metadata": {},
   "outputs": [],
   "source": [
    "import numpy as np\n",
    "from queue import PriorityQueue\n",
    "\n",
    "team_recommendations = []\n",
    "for repo in repo_profiles:\n",
    "    rec = PriorityQueue()\n",
    "    for t_p in team_profiles:\n",
    "        team_profile = t_p[1]\n",
    "        team_profile['size'] = team_profile.pop('repo_size')\n",
    "        team_profile = team_profile.values()\n",
    "        repo_profile = repo_profiles[repo].values()\n",
    "        "
   ]
  }
 ],
 "metadata": {
  "kernelspec": {
   "display_name": "Python 3",
   "language": "python",
   "name": "python3"
  },
  "language_info": {
   "codemirror_mode": {
    "name": "ipython",
    "version": 3
   },
   "file_extension": ".py",
   "mimetype": "text/x-python",
   "name": "python",
   "nbconvert_exporter": "python",
   "pygments_lexer": "ipython3",
   "version": "3.7.0"
  }
 },
 "nbformat": 4,
 "nbformat_minor": 2
}
