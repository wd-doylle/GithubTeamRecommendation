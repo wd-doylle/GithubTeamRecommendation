{
 "cells": [
  {
   "cell_type": "code",
   "execution_count": 1,
   "metadata": {},
   "outputs": [],
   "source": [
    "import json\n",
    "import pandas as pd\n",
    "\n",
    "repo_profiles = {}\n",
    "with open('repo_profiles.json') as rj:\n",
    "    for rl in rj.readlines():\n",
    "        line = rl.split('\\t')\n",
    "        repo = line[0]\n",
    "        profile = json.loads(line[1])\n",
    "        repo_profiles[repo] = profile\n",
    "    \n",
    "team_profiles = []\n",
    "teams = []\n",
    "with open('team_profiles.json') as tj:\n",
    "    for tl in tj.readlines():\n",
    "        line = tl.split('\\t')\n",
    "        team = json.loads(line[0])\n",
    "        profile = json.loads(line[1])\n",
    "        team_profiles.append(profile)\n",
    "        teams.append(team)"
   ]
  },
  {
   "cell_type": "code",
   "execution_count": 2,
   "metadata": {},
   "outputs": [
    {
     "name": "stdout",
     "output_type": "stream",
     "text": [
      "forks                                                1.04356e-05\n",
      "languages      [HTML, Gherkin, Makefile, Python, CSS, Shell, ...\n",
      "size                                                 0.000276069\n",
      "subscribers                                          0.000933925\n",
      "topics                                                          \n",
      "watchers                                             3.37046e-06\n",
      "Name: ccnmtl/uelc, dtype: object\n",
      "languages      [HTML, CSS, Python, JavaScript]\n",
      "forks                              0.000122619\n",
      "size                               2.99895e-05\n",
      "subscribers                         0.00192622\n",
      "watchers                           0.000128078\n",
      "topics                                      []\n",
      "Name: ['AMorporkian', 'kharidiron'], dtype: object\n"
     ]
    }
   ],
   "source": [
    "repo_profiles_df = pd.DataFrame(repo_profiles).transpose()\n",
    "repo_profiles_df.fillna('',inplace=True)\n",
    "team_profiles_df = pd.DataFrame(team_profiles,index=[str(t) for t in teams])\n",
    "team_profiles_df.rename(columns={\n",
    "                                   'repo_size':'size',\n",
    "                                   'repo_forks':'forks',\n",
    "                                   'repo_subscribers':'subscribers',\n",
    "                                   'repo_watchers':'watchers',\n",
    "                                   'languages':'languages',\n",
    "                                   'topics':'topics'\n",
    "                               },inplace=True)\n",
    "numerics = ['size','forks','subscribers','watchers']\n",
    "min = repo_profiles_df[numerics].min()\n",
    "max = repo_profiles_df[numerics].max()\n",
    "repo_profiles_df[numerics] = (repo_profiles_df[numerics]-min)/(max-min)\n",
    "team_profiles_df[numerics] = (team_profiles_df[numerics]-min)/(max-min)\n",
    "\n",
    "print(repo_profiles_df.iloc[0])\n",
    "print(team_profiles_df.iloc[0])"
   ]
  },
  {
   "cell_type": "code",
   "execution_count": 3,
   "metadata": {},
   "outputs": [
    {
     "data": {
      "text/plain": [
       "array([[<matplotlib.axes._subplots.AxesSubplot object at 0x000002292CC9FA58>,\n",
       "        <matplotlib.axes._subplots.AxesSubplot object at 0x000002292D1FCBA8>],\n",
       "       [<matplotlib.axes._subplots.AxesSubplot object at 0x000002292D226EF0>,\n",
       "        <matplotlib.axes._subplots.AxesSubplot object at 0x000002292D2574A8>]],\n",
       "      dtype=object)"
      ]
     },
     "execution_count": 3,
     "metadata": {},
     "output_type": "execute_result"
    }
   ],
   "source": [
    "repo_profiles_df.hist()"
   ]
  },
  {
   "cell_type": "code",
   "execution_count": 4,
   "metadata": {},
   "outputs": [
    {
     "data": {
      "text/plain": [
       "array([[<matplotlib.axes._subplots.AxesSubplot object at 0x000002292D441C50>,\n",
       "        <matplotlib.axes._subplots.AxesSubplot object at 0x000002292D47A8D0>],\n",
       "       [<matplotlib.axes._subplots.AxesSubplot object at 0x000002292D4A3E10>,\n",
       "        <matplotlib.axes._subplots.AxesSubplot object at 0x000002292DB233C8>]],\n",
       "      dtype=object)"
      ]
     },
     "execution_count": 4,
     "metadata": {},
     "output_type": "execute_result"
    },
    {
     "data": {
      "image/png": "[encoded data removed]",
      "text/plain": [
       "<Figure size 432x288 with 4 Axes>"
      ]
     },
     "metadata": {
      "needs_background": "light"
     },
     "output_type": "display_data"
    }
   ],
   "source": [
    "team_profiles_df.hist()"
   ]
  },
  {
   "cell_type": "code",
   "execution_count": 5,
   "metadata": {},
   "outputs": [
    {
     "data": {
      "text/html": [
       "<div>\n",
       "<style scoped>\n",
       "    .dataframe tbody tr th:only-of-type {\n",
       "        vertical-align: middle;\n",
       "    }\n",
       "\n",
       "    .dataframe tbody tr th {\n",
       "        vertical-align: top;\n",
       "    }\n",
       "\n",
       "    .dataframe thead th {\n",
       "        text-align: right;\n",
       "    }\n",
       "</style>\n",
       "<table border=\"1\" class=\"dataframe\">\n",
       "  <thead>\n",
       "    <tr style=\"text-align: right;\">\n",
       "      <th></th>\n",
       "      <th>forks</th>\n",
       "      <th>size</th>\n",
       "      <th>subscribers</th>\n",
       "      <th>watchers</th>\n",
       "    </tr>\n",
       "  </thead>\n",
       "  <tbody>\n",
       "    <tr>\n",
       "      <th>count</th>\n",
       "      <td>83013.000000</td>\n",
       "      <td>83013.000000</td>\n",
       "      <td>83013.000000</td>\n",
       "      <td>83013.000000</td>\n",
       "    </tr>\n",
       "    <tr>\n",
       "      <th>mean</th>\n",
       "      <td>0.000705</td>\n",
       "      <td>0.000917</td>\n",
       "      <td>0.005607</td>\n",
       "      <td>0.001829</td>\n",
       "    </tr>\n",
       "    <tr>\n",
       "      <th>std</th>\n",
       "      <td>0.005159</td>\n",
       "      <td>0.005798</td>\n",
       "      <td>0.018888</td>\n",
       "      <td>0.010963</td>\n",
       "    </tr>\n",
       "    <tr>\n",
       "      <th>min</th>\n",
       "      <td>0.000000</td>\n",
       "      <td>0.000000</td>\n",
       "      <td>0.000000</td>\n",
       "      <td>0.000000</td>\n",
       "    </tr>\n",
       "    <tr>\n",
       "      <th>25%</th>\n",
       "      <td>0.000026</td>\n",
       "      <td>0.000010</td>\n",
       "      <td>0.000934</td>\n",
       "      <td>0.000010</td>\n",
       "    </tr>\n",
       "    <tr>\n",
       "      <th>50%</th>\n",
       "      <td>0.000120</td>\n",
       "      <td>0.000056</td>\n",
       "      <td>0.002101</td>\n",
       "      <td>0.000091</td>\n",
       "    </tr>\n",
       "    <tr>\n",
       "      <th>75%</th>\n",
       "      <td>0.000381</td>\n",
       "      <td>0.000371</td>\n",
       "      <td>0.004786</td>\n",
       "      <td>0.000650</td>\n",
       "    </tr>\n",
       "    <tr>\n",
       "      <th>max</th>\n",
       "      <td>1.000000</td>\n",
       "      <td>1.000000</td>\n",
       "      <td>1.000000</td>\n",
       "      <td>1.000000</td>\n",
       "    </tr>\n",
       "  </tbody>\n",
       "</table>\n",
       "</div>"
      ],
      "text/plain": [
       "              forks          size   subscribers      watchers\n",
       "count  83013.000000  83013.000000  83013.000000  83013.000000\n",
       "mean       0.000705      0.000917      0.005607      0.001829\n",
       "std        0.005159      0.005798      0.018888      0.010963\n",
       "min        0.000000      0.000000      0.000000      0.000000\n",
       "25%        0.000026      0.000010      0.000934      0.000010\n",
       "50%        0.000120      0.000056      0.002101      0.000091\n",
       "75%        0.000381      0.000371      0.004786      0.000650\n",
       "max        1.000000      1.000000      1.000000      1.000000"
      ]
     },
     "execution_count": 5,
     "metadata": {},
     "output_type": "execute_result"
    }
   ],
   "source": [
    "repo_profiles_df.describe()"
   ]
  },
  {
   "cell_type": "code",
   "execution_count": 6,
   "metadata": {},
   "outputs": [
    {
     "data": {
      "text/html": [
       "<div>\n",
       "<style scoped>\n",
       "    .dataframe tbody tr th:only-of-type {\n",
       "        vertical-align: middle;\n",
       "    }\n",
       "\n",
       "    .dataframe tbody tr th {\n",
       "        vertical-align: top;\n",
       "    }\n",
       "\n",
       "    .dataframe thead th {\n",
       "        text-align: right;\n",
       "    }\n",
       "</style>\n",
       "<table border=\"1\" class=\"dataframe\">\n",
       "  <thead>\n",
       "    <tr style=\"text-align: right;\">\n",
       "      <th></th>\n",
       "      <th>forks</th>\n",
       "      <th>size</th>\n",
       "      <th>subscribers</th>\n",
       "      <th>watchers</th>\n",
       "    </tr>\n",
       "  </thead>\n",
       "  <tbody>\n",
       "    <tr>\n",
       "      <th>count</th>\n",
       "      <td>22330.000000</td>\n",
       "      <td>2.233000e+04</td>\n",
       "      <td>22330.000000</td>\n",
       "      <td>22330.000000</td>\n",
       "    </tr>\n",
       "    <tr>\n",
       "      <th>mean</th>\n",
       "      <td>0.001999</td>\n",
       "      <td>1.710201e-03</td>\n",
       "      <td>0.011510</td>\n",
       "      <td>0.004689</td>\n",
       "    </tr>\n",
       "    <tr>\n",
       "      <th>std</th>\n",
       "      <td>0.004260</td>\n",
       "      <td>4.203524e-03</td>\n",
       "      <td>0.020819</td>\n",
       "      <td>0.014758</td>\n",
       "    </tr>\n",
       "    <tr>\n",
       "      <th>min</th>\n",
       "      <td>0.000000</td>\n",
       "      <td>3.429433e-07</td>\n",
       "      <td>0.000000</td>\n",
       "      <td>0.000000</td>\n",
       "    </tr>\n",
       "    <tr>\n",
       "      <th>25%</th>\n",
       "      <td>0.000245</td>\n",
       "      <td>1.999221e-04</td>\n",
       "      <td>0.002815</td>\n",
       "      <td>0.000240</td>\n",
       "    </tr>\n",
       "    <tr>\n",
       "      <th>50%</th>\n",
       "      <td>0.000789</td>\n",
       "      <td>6.011164e-04</td>\n",
       "      <td>0.005915</td>\n",
       "      <td>0.001209</td>\n",
       "    </tr>\n",
       "    <tr>\n",
       "      <th>75%</th>\n",
       "      <td>0.002131</td>\n",
       "      <td>1.573824e-03</td>\n",
       "      <td>0.012524</td>\n",
       "      <td>0.004808</td>\n",
       "    </tr>\n",
       "    <tr>\n",
       "      <th>max</th>\n",
       "      <td>0.143161</td>\n",
       "      <td>1.714984e-01</td>\n",
       "      <td>0.736896</td>\n",
       "      <td>0.750063</td>\n",
       "    </tr>\n",
       "  </tbody>\n",
       "</table>\n",
       "</div>"
      ],
      "text/plain": [
       "              forks          size   subscribers      watchers\n",
       "count  22330.000000  2.233000e+04  22330.000000  22330.000000\n",
       "mean       0.001999  1.710201e-03      0.011510      0.004689\n",
       "std        0.004260  4.203524e-03      0.020819      0.014758\n",
       "min        0.000000  3.429433e-07      0.000000      0.000000\n",
       "25%        0.000245  1.999221e-04      0.002815      0.000240\n",
       "50%        0.000789  6.011164e-04      0.005915      0.001209\n",
       "75%        0.002131  1.573824e-03      0.012524      0.004808\n",
       "max        0.143161  1.714984e-01      0.736896      0.750063"
      ]
     },
     "execution_count": 6,
     "metadata": {},
     "output_type": "execute_result"
    }
   ],
   "source": [
    "team_profiles_df.describe()"
   ]
  },
  {
   "cell_type": "code",
   "execution_count": 7,
   "metadata": {},
   "outputs": [
    {
     "name": "stdout",
     "output_type": "stream",
     "text": [
      "0.7071075401534226\n"
     ]
    }
   ],
   "source": [
    "import numpy as np\n",
    "\n",
    "def euclidean_distance(p1,p2):\n",
    "    distance = np.linalg.norm(p1[numerics]-p2[numerics])**2\n",
    "    langs = set(p1['languages']).union(p2['languages'])\n",
    "    topics = set(p1['topics']).union(p2['topics'])\n",
    "    p1_langs = pd.Series([lang in p1['languages'] for lang in langs])/np.sqrt(len(langs))\n",
    "    p2_langs = pd.Series([lang in p2['languages'] for lang in langs])/np.sqrt(len(langs))\n",
    "    p1_topics = pd.Series([topic in p1['topics'] for topic in topics])/np.sqrt(len(topics))\n",
    "    p2_topics = pd.Series([topic in p2['topics'] for topic in topics])/np.sqrt(len(topics))\n",
    "    distance += np.linalg.norm(p1_langs-p2_langs)**2 + np.linalg.norm(p1_topics-p2_topics)**2\n",
    "    distance = np.sqrt(distance)\n",
    "    \n",
    "    return distance\n",
    "    \n",
    "p1 = repo_profiles_df.iloc[0]\n",
    "p2 = team_profiles_df.iloc[0]\n",
    "print(euclidean_distance(p1,p2))"
   ]
  },
  {
   "cell_type": "code",
   "execution_count": 8,
   "metadata": {},
   "outputs": [
    {
     "name": "stdout",
     "output_type": "stream",
     "text": [
      "1\n",
      "2\n",
      "3\n",
      "4\n",
      "5\n",
      "6\n",
      "7\n",
      "8\n",
      "9\n",
      "10\n"
     ]
    }
   ],
   "source": [
    "from queue import PriorityQueue\n",
    "\n",
    "team_recommendations = []\n",
    "cnt = 0\n",
    "for repo,repo_profile in repo_profiles_df.iterrows():\n",
    "    cnt += 1\n",
    "    if cnt > 10:\n",
    "        break\n",
    "    print(cnt)\n",
    "    rec = []\n",
    "    queue = PriorityQueue()\n",
    "    for team,team_profile in team_profiles_df.iterrows():\n",
    "        dis = euclidean_distance(repo_profile,team_profile)\n",
    "        queue.put_nowait((-dis,team))\n",
    "        if queue.qsize() > 20:\n",
    "            queue.get_nowait()\n",
    "    while queue.qsize()>0:\n",
    "        rec.append(queue.get_nowait())\n",
    "    team_recommendations.append(rec)\n"
   ]
  },
  {
   "cell_type": "code",
   "execution_count": 9,
   "metadata": {
    "scrolled": false
   },
   "outputs": [
    {
     "name": "stdout",
     "output_type": "stream",
     "text": [
      "ccnmtl/uelc\t(-0.6666679641480108, \"['ariel-phet', 'jessegreenberg', 'phet-steele', 'dubson', 'terracoda', 'memo330179', 'mbarlow12', 'lmulhall-phet']\")\t(-0.6666679162402048, \"['pixelzoom', 'amanda-phet', 'jonathanolson', 'arouinfar', 'veillette', 'aaronsamuel137', 'zepumph', 'andrewadare', 'mattpen', 'aadish', 'schmitzware', 'Denz1994', 'andrealin', 'michaelm396']\")\t(-0.6666679162402048, \"['samreid', 'jbphet', 'andrey-zelenkov', 'AshrafSharf', 'arnabp', 'notsiddhartha', 'ChandrashekarBemagoni', 'davisv7', 'SaurabhTotey']\")\t(-0.6666675793242052, \"['Zrubi', 'Nukama', 'andrewdavidwong', 'omeg', 'desci', 'pgerber', 'gutsle', 'tokideveloper', 'na--', 'adubois']\")\t(-0.6455632894812708, \"['maethu', 'jone', 'toutpt', 'buchi', 'gbastien', 'rpatterson', 'mtrebron', 'Rotonen', 'Nachtalb']\")\t(-0.6324617533127542, \"['phgross', 'deiferni', 'mbaechtold', 'bierik', 'shylux', 'elioschmutz', 'phabegger', 'tschanzt', 'bbuehlmann', 'raphael-s', 'fguyer', 'tarnap', 'njohner']\")\t(-0.6324563005968928, \"['shyba', 'cz8s', 'bwagnerr', 'giovaneliberato', 'jeffhsta', 'tiagoferraz', 'fbernitt', 'neissi', 'kaeff']\")\t(-0.6126015224868399, \"['fabianschwarzfritz', 'shawngustaw', 'funkaoshi', 'emintham', 'JeffBain', 'RouganStriker', 'MartinPetkov', 'Gee19', 'harry-kim']\")\t(-0.6123820198037631, \"['nielsvanoch', 'gvangool', 'jgeskens', 'mrbox', 'bmoelans', 'kristofclaes', 'freeduerinckx']\")\t(-0.6123779080956637, \"['akreshuk', 'njase', 'k-dominik', 'FynnBe', 'wolny', 'Beinabih', 'paulhfu']\")\t(-0.612374993619667, \"['lsh-0', 'jhroot', 'gnott', 'Jenniferstrej']\")\t(-0.6030299023408936, \"['aweiteka', 'vpavlin', 'whitel', 'veillard', 'tkdchen', 'LalatenduMohanty', 'goern', 'bexelbie', 'riekrh']\")\t(-0.5774200168895305, \"['Demotive', 'nigelpain', 'Phemus', 'Pheonnexx', 'lendmeapound']\")\t(-0.5773562477138846, \"['alexandersoto', 'thebrianzeng', 'natebrennand', 'schlosser', 'eunicekokor', 'evantarrh', 'benlowkh']\")\t(-0.5000015402542256, \"['felixhammerl', 'albogabriel', 'cz8s', 'bwagnerr', 're-nobre', 'pmaia', 'pereiragislene', 'thaissiqueira', 'cacarrara', 'SweetVirginia']\")\t(-0.5000006546595954, \"['mathuin', 'tschuy', 'pop', 'MaraJade', 'LyonesGamer', 'aaroncohen73', 'clinew']\")\t(-0.5000005250344429, \"['kirang89', 'bravegnu', 'whiletruelearn', 'shrayasr', 'astronomersiva', 'igauravsehrawat', 'ajayk', 'gnurenga']\")\t(-0.5000002453921387, \"['rageshkrishna', 'amalfra', 'avinci', 'niranjan92', 'trriplejay', 'kanthchandra', 'prokopst', 'pranaypareek', 'himanshu0503', 'abhijitkini', 'a-murphy', 'scriptnull', 'shrivara', 'ankul-shippable', 'Riturajcse', 'Bharath92', 'jatindogra', 'deepikasl', 'ambarish2012']\")\t(-0.5000001026583958, \"['ric03uec', '0x-x0', 'stephanielingwood', 'Ranjansingh41', 'bindushree16', 'vijayreddy1991']\")\t(-0.4716148378282406, \"['keul', 'sgeulette', 'cedricmessiant', 'mitakas', 'gbastien', 'boulch', 'sdelcourt', 'spereverde', 'DieKatze']\")\t\n",
      "\n",
      "rafaecheve/startupstudygroup\t(-0.5000016021663138, \"['tamlyn', 'matthewglover', 'g-sam', 'BlueReZZ', 'diversemix', 'hdrury1', 'dryhten']\")\t(-0.5000010531955571, \"['billymeinke', 'janeatcc']\")\t(-0.5000009935543579, \"['kadmil', 'clbn', 'ptzn', 'hsw', 'berkus', 'urbansheep', 'dsumin']\")\t(-0.5000008817730536, \"['leosa83', 'Angamanga', 'miladf', 'superyass']\")\t(-0.5000008122647007, \"['sandeepchhapola', 'ianblair44', 'vineetasharma']\")\t(-0.5000007430390522, \"['jpere268', 'avill152', 'Mcond005', 'tmoor039', 'rvian003', 'vvega019']\")\t(-0.5000006602733283, \"['francois2metz', 'avernois', 'areski', 'vinyll', 'zyegfryed', 'pointbar', 'providenz', 'thibault', 'FrancoisDupayrat', 'WolffThomas', 'mjambert', 'XavCC', 'TheoVital', 'cba85', 'newick', 'Rom1deTroyes']\")\t(-0.5000005703122491, \"['JDM555', 'lakshaydulani', 'RJASeoud', 'vish250491']\")\t(-0.5000005499439866, \"['deepakshrma', 'DanielHindi', 'sakshityagi', 'jdm135', 'kmtabish', 'ahmadhmoud']\")\t(-0.5000004718087822, \"['rbaertsch', 'tedgoldstein', 'mokolodi1', 'e-t-k']\")\t(-0.5000003379393033, \"['ldionmarcil', 'TyMarc']\")\t(-0.5000001687029013, \"['asonas', 'unasuke', 'HolyGrail']\")\t(-0.5000000572227947, \"['chrisnicola', 'saem', 'tavisrudd']\")\t(-0.5000000572227947, \"['mrtns', 'acruise']\")\t(-0.5000000442880572, \"['airingursb', 'xmxxmxxmx', 'Nicole912', 'candy2512', 'JessieMelon', 'gzxiaolu', 'Soctlandblacksheep', 'Mr-Dylan', 'Klchemist', 'ningzixian', 'bbbbx', 'MoingYang', 'linjiyu97', 'shxie', 'yingfff', 'amy772147489', 'kasaimiluo', 'GaoHuangYolanda', 'Even1929']\")\t(-0.5000000363030626, \"['al-the-x', 'kellymurray', 'cmauban', 'ericksonk', 'drumslayert', 'ericquayson', 'rosalsm', 'pakesybot', 'Ricecoder', 'boshnivolo', 'ironyarder77', 's4dmw', 'ShayHall', 'nickycadavillo', 'jmcreasman', 'karjac14', 'jeremyrist', 'jeffworley']\")\t(-0.5000000304171212, \"['AlexeyAnshakov', 'rageofaxe', 'bhushano7', 'umairadeeb', 'spirinvladimir', 'madhu-lemosys', 'michbil', 'balthazzar', 'Xurma2']\")\t(-0.5000000036748401, \"['manavmanocha', 'nalinchhibber']\")\t(-0.007158433769302139, \"['kyungmin', 'cohitre', 'tildedave', 'rtymchyk', 'ethaMont', 'BrettBukowski']\")\t(-0.0010854692634305035, \"['enjikaka', 'jgillman']\")\t\n",
      "\n",
      "AtmosphereMessaging/Cumulus\t(-0.6324564186257673, \"['francois2metz', 'avernois', 'areski', 'vinyll', 'zyegfryed', 'pointbar', 'providenz', 'thibault', 'FrancoisDupayrat', 'WolffThomas', 'mjambert', 'XavCC', 'TheoVital', 'cba85', 'newick', 'Rom1deTroyes']\")\t(-0.632456413092909, \"['JDM555', 'lakshaydulani', 'RJASeoud', 'vish250491']\")\t(-0.6324564048039133, \"['Mnw2212', 'skeep', 'himanshusingh2407', 'ayushinigam', 'vatsalya25']\")\t(-0.6324564036004271, \"['deepakshrma', 'DanielHindi', 'sakshityagi', 'jdm135', 'kmtabish', 'ahmadhmoud']\")\t(-0.6324561376187654, \"['chrisnicola', 'saem', 'tavisrudd']\")\t(-0.6324561376187654, \"['mrtns', 'acruise']\")\t(-0.6324561221391716, \"['asonas', 'unasuke', 'HolyGrail']\")\t(-0.6324561081331529, \"['manavmanocha', 'nalinchhibber']\")\t(-0.6324559970536586, \"['AlexeyAnshakov', 'rageofaxe', 'bhushano7', 'umairadeeb', 'spirinvladimir', 'madhu-lemosys', 'michbil', 'balthazzar', 'Xurma2']\")\t(-0.6324559728322708, \"['airingursb', 'xmxxmxxmx', 'Nicole912', 'candy2512', 'JessieMelon', 'gzxiaolu', 'Soctlandblacksheep', 'Mr-Dylan', 'Klchemist', 'ningzixian', 'bbbbx', 'MoingYang', 'linjiyu97', 'shxie', 'yingfff', 'amy772147489', 'kasaimiluo', 'GaoHuangYolanda', 'Even1929']\")\t(-0.6324559423579843, \"['ldionmarcil', 'TyMarc']\")\t(-0.6324558897600214, \"['al-the-x', 'kellymurray', 'cmauban', 'ericksonk', 'drumslayert', 'ericquayson', 'rosalsm', 'pakesybot', 'Ricecoder', 'boshnivolo', 'ironyarder77', 's4dmw', 'ShayHall', 'nickycadavillo', 'jmcreasman', 'karjac14', 'jeremyrist', 'jeffworley']\")\t(-0.6324556811164601, \"['rbaertsch', 'tedgoldstein', 'mokolodi1', 'e-t-k']\")\t(-0.632455642286377, \"['billymeinke', 'janeatcc']\")\t(-0.6324556045495772, \"['jpere268', 'avill152', 'Mcond005', 'tmoor039', 'rvian003', 'vvega019']\")\t(-0.5773622047830366, \"['henricavalcante', 'suissa', 'antonellisantos', 'caiocutrim', 'graubassauro', 'DouglasHennrich', 'renatogravino', 'wbruno', 'renatogalvones', 'robsonbittencourt', 'nilkesede', 'davidsonsns', 'josecarlosweb', 'leandroprog', 'fauker', 'franklindias', 'guilhermepiovesan', 'guimafx', 'asfelix', 'delete', 'jackell', 'MarcoAurellio', 'jefferson-william', 'felipeands', 'Elvisley', 'jffsx', 'alxmiranda', 'heliomsolivas', 'romulomourao', 'hc3', 'JulianoPadilha', 'davidalves1', 'samverneck', 'sistemaon', 'tuchedsf', 'souzacristsf', 'tiagodurante', 'sostenesfreitas', 'marlomgirardi', 'diihfilipe', 'viniciusmazzeo', 'lcomino', 'falconeric', 'gpanassol', 'gabrielcmendes', 'carloshenriqueribeiro', 'ojaspion']\")\t(-0.4476717592004095, \"['Hazzamanic', 'SzymonSel']\")\t(-0.4476717592004095, \"['phillipsj', 'abhishekluv', 'wharri220', 'JRKelso']\")\t(-0.44743336338563733, \"['dalenewman', 'Piedone', 'mjy78', 'Xeevis', 'PaulDevenney']\")\t(-0.4472276068471352, \"['NikolayIT', 'Minkov', 'SimoPrG', 'cuklev', 'harshildarji']\")\t\n",
      "\n",
      "uqbar-project/wisit15-site-harpjs\t(-0.6324598150609438, \"['bsommardahl', 'gmahomarf', 'rsiwady29', 'justrdk', 'ferenckv']\")\t(-0.6324595732021336, \"['Wasapl', 'SergeGautherie']\")\t(-0.6324574016194363, \"['manojpandey', 'ExC0d3', 'akul08', 'ayush1997', 'htadg']\")\t(-0.632457212476358, \"['madhephaestus', 'acamilo']\")\t(-0.6324568705085278, \"['laurawhalin', 'bhargavisatpathy', 'Lydias303']\")\t(-0.6324568362722094, \"['dpickett', 'dreamingfurther']\")\t(-0.6324563079586091, \"['duanefields', 'igroff']\")\t(-0.6324561117791384, \"['LinuxMercedes', 'brhoades']\")\t(-0.632456012500926, \"['alexcu', 'macite', 'jakerenzella', 'lachlanwest', 'jarmstrong', 'AkshatBajaj']\")\t(-0.6324559195416113, \"['lvarayut', 'AlmogBaku', 'andrija-hers', 'VikramTiwari', 'rjVapes', 'emps', 'JrPribs', 'iolufemi', 'rncrtr', 'juarez9j', 'Ednas']\")\t(-0.632455864514381, \"['apj', 'hellola']\")\t(-0.6324557676246163, \"['amb26', 'maozillah', 'georgitodorov']\")\t(-0.6324557534794101, \"['andrewlimaza', 'eighty20results', 'contemplate', 'pbrocks', 'ideadude', 'kimcoleman', 'greathmaster']\")\t(-0.6324556516378138, \"['Ricky54326', 'LOZORD', 'katamaritaco', 'spwilson2', 'jdetter', 'bhans117', 'Squeakrats', 'MikeCook9994']\")\t(-0.632455631971457, \"['jobara', 'cindyli', 'michelled', 'jhung', 'acheetham', 'dayotte', 'maozillah', 'waharnum', 'grrrero', 'danailbd', 'shadxx7']\")\t(-0.5773695970786583, \"['krmaxwell', 'alexcpsec', 'blackfist']\")\t(-0.5000010636765674, \"['nsuitter', 'ncrhodes', 'aethomp', 'acoe', 'IsabelleSetti', 'nweinberger', 'benwhuynh', 'Pennylele', 'brossi1', 'jdirico', 'daphne4375', 'wentingz', 'hyoon13', 'rzubiate', 'lgh119120']\")\t(-0.4473571431214051, \"['hellatan', 'infinityfarm', 'antialias', 'robrichard', 'kostasmanionis', 'prestifidibs', 'twhid', 'ascagnel', 'nameofname', 'brettjashford', 'querybyexample', 'PeteJodo', 'alejandromaka']\")\t(-0.4472236826337496, \"['4Giedrius', 'vaidas-lungis', 'fordnox', 'zygintas']\")\t(-0.4472163294296726, \"['asimpson', 'robtarr', 'pfulton', 'yock', 'bryanbraun', 'patricksimpson', 'RobHarr', 'nrambeck', 'zastrow', 'aspencer116']\")\t\n",
      "\n",
      "daniel-cotton/polymer-redux-starter\t(-0.9701506524403721, \"['adibas03', 'lsaether', 'kosecki123', 'Bagaric']\")\t(-0.9701470942454705, \"['rabinrai44', 'aneagoie', 'thisisabdus', 'drood87', 'MattCSmith', 'juliangilquin', 'skylar01', 'tonydc1997']\")\t(-0.9701446392738328, \"['gdequeiroz', 'chucheria', 'hfrick']\")\t(-0.9701430291758631, \"['Stereck', 'aaron-martin', 'awesselburg']\")\t(-0.9682485239601007, \"['denisgranha', 'giacomolicari']\")\t(-0.9666464613805658, \"['vigzmv', 'TheoVitkovskiy']\")\t(-0.9661395161212214, \"['ryanoglesby08', 'githubjosh']\")\t(-0.9660920441515968, \"['ryandrewjohnson', 'thchia']\")\t(-0.9642591981893774, \"['ShMcK', 'llh911001']\")\t(-0.9636282488282443, \"['masad-frost', 'BrunoWilkinson']\")\t(-0.9622516679966263, \"['colllin', 'jwmann', 'RemeJuan', 'Sharlaan', 'hyjeko', 'TarikHuber', 'MaximilianPichler', 'p-funky']\")\t(-0.9608892641518427, \"['bbaia', 'vigneshnrfs']\")\t(-0.9574285842963376, \"['jmargolisvt', 'kbeaulieu802', 'smaraf', 'johnneed']\")\t(-0.9534681422268019, \"['jeffijoe', 'dburrows', 'cztomsik']\")\t(-0.9534659585532459, \"['JMEspiz', 'AlexR1712']\")\t(-0.9486841981278941, \"['tanyagupta', 'scottwestover', 'desdemonhu', 'khusbuchandra', 'sonalikatara']\")\t(-0.9428423615907516, \"['fgarci03', 'andrewglancy']\")\t(-0.9428204061829318, \"['carlio', 'mbertolacci', 'pconerly', 'lfrodrigues', 'smirolo', 'andrealmar', 'dopeboy', 'unklphil', 'DFilipeS']\")\t(-0.942809365936642, \"['kodeebo', 'narhen', 'runesto', 'oyvinmar', 'sebastianjg', 'oskarkvamme', 'IvarBorthen']\")\t(-0.9354146022249861, \"['kstigen', 'jnatten', 'chrpeter', 'kievu']\")\t\n",
      "\n",
      "elifesciences/elife-bot\t(-0.6324582992822881, \"['yourcelf', 'AndrewMagliozzi', 'dalloro', 'alexzaporozhets']\")\t(-0.6324580438767657, \"['Ricky54326', 'LOZORD', 'katamaritaco', 'spwilson2', 'jdetter', 'bhans117', 'Squeakrats', 'MikeCook9994']\")\t(-0.6324579518952582, \"['breyten', 'siccovansas', 'jurrian']\")\t(-0.6324579010752225, \"['EmbeddedAndroid', 'khilman', 'MiloCasagrande', 'mattface', 'gctucker', 'loysollivier', 'jeromebrunet', 'montjoie']\")\t(-0.6324575120088738, \"['jomann09', 'jvandermeulen']\")\t(-0.6324573866548567, \"['PaynePei', 'helloarys', 'MarkMa001']\")\t(-0.6324571872677925, \"['kikocorreoso', 'yamila-moreno', 'manugarri', 'eskerda', 'hershaw', 'jtascensao', 'PedroGFonseca']\")\t(-0.5773526790073679, \"['felixhammerl', 'albogabriel', 'cz8s', 'bwagnerr', 're-nobre', 'pmaia', 'pereiragislene', 'thaissiqueira', 'cacarrara', 'SweetVirginia']\")\t(-0.500028274272105, \"['natduca', 'petrcermak', 'eakuefner', 'aschulm', 'randomascii', 'Apeliotes', 'dave-2', 'benshayden', 'zeptonaut', 'simonhatch']\")\t(-0.5000177791074725, \"['naymesh', 'jeback1']\")\t(-0.500007807404356, \"['zeffii', 'mifth', 'nutti', 'meta-androcto', 'DolphinDream']\")\t(-0.5000076010178679, \"['88manpreet', 'ny2ko']\")\t(-0.5000064584487934, \"['iffy', 'mankyd']\")\t(-0.5000055280253047, \"['ecanzonieri', 'neoeahit']\")\t(-0.5000041438862042, \"['motivator', 'thekad']\")\t(-0.5000038890413302, \"['achalv', 'milanocookies93']\")\t(-0.5000030403520409, \"['diwu1989', 'NullSoldier', 'mgeist']\")\t(-0.5000030081678131, \"['Florin65', 'Ratler', 'fredrikt', 'dagbrown', 'stumbles', 'lhw828']\")\t(-0.5000019261162537, \"['pospi', 'fosterlynn', 'bhaugen']\")\t(-0.5000018081010641, \"['wuy1', 'sharkconi']\")\t\n",
      "\n",
      "straycat0000/ss13_cobra\t(-0.5774375145133916, \"['jobara', 'cindyli', 'michelled', 'jhung', 'acheetham', 'dayotte', 'maozillah', 'waharnum', 'grrrero', 'danailbd', 'shadxx7']\")\t(-0.5774352047981196, \"['WillEngler', 'geosir', 'HeyZoos', 'pbeckman']\")\t(-0.5774329147368511, \"['vcharpenay', 'domguinard', 'mmccool', 'draggett', 'sebastiankb', 'takuki']\")\t(-0.5774257965939065, \"['halsk', 'PharaohKJ', 'kenchif', 'smellman', '50river']\")\t(-0.5774173344943043, \"['allisoncorey', 'rchadwic', 'ty-', 'ljwolford', 'creighton', 'jonopoltrack']\")\t(-0.5774168241687977, \"['EfrenRey', 'davisein', 'gsanchezu', 'DiegoSanjuan']\")\t(-0.5774127982897255, \"['rollick', 'gannetson', 'aethemba', 'JhonM']\")\t(-0.5350194312197167, \"['redmunds', 'mvujovic', 'chrisbank', 'marekhrabe', 'joelrbrandt', 'jaredadobe', 'RafaelOlivra']\")\t(-0.5347555460086615, \"['faassen', 'keul', 'href', 'sureshvv', 'msom', 'naro', 'taschini']\")\t(-0.5346628514409516, \"['thusithak', 'harsha1979', 'hasinthaindrajee', 'danushkaf', 'ruwanta', 'emswbandara', 'IsurangaPerera']\")\t(-0.5346449153451898, \"['lfrancke', 'joewitt', 'trixpan', 'jvwing', 'trkurc', 'jskora', 'JPercivall', 'alopresto', 'mosermw', 'michalklempa']\")\t(-0.5346308892535498, \"['krmaxwell', 'alexcpsec', 'blackfist']\")\t(-0.534621259960177, \"['pixelzoom', 'amanda-phet', 'jonathanolson', 'arouinfar', 'veillette', 'aaronsamuel137', 'zepumph', 'andrewadare', 'mattpen', 'aadish', 'schmitzware', 'Denz1994', 'andrealin', 'michaelm396']\")\t(-0.534621259960177, \"['samreid', 'jbphet', 'andrey-zelenkov', 'AshrafSharf', 'arnabp', 'notsiddhartha', 'ChandrashekarBemagoni', 'davisv7', 'SaurabhTotey']\")\t(-0.534621103786306, \"['ariel-phet', 'jessegreenberg', 'phet-steele', 'dubson', 'terracoda', 'memo330179', 'mbarlow12', 'lmulhall-phet']\")\t(-0.5346204873076646, \"['rageshkrishna', 'amalfra', 'avinci', 'niranjan92', 'trriplejay', 'kanthchandra', 'prokopst', 'pranaypareek', 'himanshu0503', 'abhijitkini', 'a-murphy', 'scriptnull', 'shrivara', 'ankul-shippable', 'Riturajcse', 'Bharath92', 'jatindogra', 'deepikasl', 'ambarish2012']\")\t(-0.5346204553158767, \"['felixhammerl', 'albogabriel', 'cz8s', 'bwagnerr', 're-nobre', 'pmaia', 'pereiragislene', 'thaissiqueira', 'cacarrara', 'SweetVirginia']\")\t(-0.5346196943834969, \"['kirang89', 'bravegnu', 'whiletruelearn', 'shrayasr', 'astronomersiva', 'igauravsehrawat', 'ajayk', 'gnurenga']\")\t(-0.5346195996919264, \"['ric03uec', '0x-x0', 'stephanielingwood', 'Ranjansingh41', 'bindushree16', 'vijayreddy1991']\")\t(-0.5346087652385468, \"['mathuin', 'tschuy', 'pop', 'MaraJade', 'LyonesGamer', 'aaroncohen73', 'clinew']\")\t\n",
      "\n",
      "livestreet/livestreet-framework\t(-0.6324611880972293, \"['malvese', 'jenstornell', 'fabianmichael']\")\t(-0.632458048603498, \"['nimatg', 'ashishsthanp']\")\t(-0.632458048603498, \"['rabinstha', 'rabindratharu', 'romosamatya', 'mebishalnapit', 'saazaan7']\")\t(-0.6324575649115654, \"['vrcAlbert', 'Foine', 'Meroje', 'jguyomard', 'Seb-C', 'DOMEYD']\")\t(-0.6324571090337442, \"['miloskroulik', 'iBobik', 'miromichalicka', 'martincollar', 'radimklaska', 'petrillek', 'jakubsuchy', 'martin-klima', 'kmajzlik']\")\t(-0.6324568783985998, \"['fre5h', 'LogansUA', 'svatok13', 'stfalcon']\")\t(-0.6324565994939427, \"['kstover', 'jameslaws', 'kjohnson', 'wpnzach']\")\t(-0.632456508599283, \"['deb1990', 'dhavalsharma', 'bmnepali']\")\t(-0.6324564286581492, \"['neerukoul', 'sandeeprhbwsl']\")\t(-0.6324563352676853, \"['conantp', 'Jtmichel']\")\t(-0.6324562443880559, \"['richardbporter', 'joewhitsitt', 'markahrens', 'brandonneil', 'briand44', 'genjohnson', 'adamdelaney', 'dhannad', 'GaryRidgway']\")\t(-0.6324560546931572, \"['serverfire', 'alenoosh', 'IProSoft', 'svtlichnijj']\")\t(-0.6324555742434204, \"['dgmstuart', 'onishiweb', 'duncanjbrown', 'harry-m', 'mallorydxw', 'gazaston', 'tahb', 'robbiepaul', 'Stretch96', 'magdamaciaszczyk', 'leeky', 'RobjS']\")\t(-0.5773514746923049, \"['joshfinnie', 'andris9', 'danmactough', 'adunkman', 'Nearhan', 'robbiethegeek', 'kylehill', 'ddombrow', 'asheren']\")\t(-0.44723152218394696, \"['matthiaskunkel', 'wanze', 'colin-kiegel', 'Uwe-Kohnle', 'alex40724', 'smeyer-ilias', 'Amstutz', 'shecken', 'otruffer', 'fneumann', 'klees', 'alygin', 'jbraun-ilias', 'xus', 'eqsoft']\")\t(-0.4472175470832364, \"['reneolivo', 'swastikpareek', 'igorpavlov', 'tunbola', 'ajesamson']\")\t(-0.44721555964379767, \"['NateWr', 'jalperin', 'withanage', 'kaschioudi', 'Vitaliy-1', 'sssoz', 'samplet']\")\t(-0.4472137830511247, \"['beghelli', 'asmecher', 'ctgraham', 'marchitelli', 'lepidus', 'samueloph', 'bozana', 'selwyntcy', 'crism', 'WaDelma', 'forgive38', 'ali-sokhandan']\")\t(-0.4472137544906608, \"['jnugent', 'asmecher', 'gonetil', 'mtub', 'mittinatten', 'marchitelli', 'martinpub', 'vormia', 'ppv1979', 'josekarvalho', 'michaelmeneses', 'WaDelma', 'tgc', 'vedranvucic', 'mohammadrizki', 'pnault', 'MarHerUMR', 'szmigieldesign', 'paflov']\")\t(-0.44721373730923897, \"['NateWr', 'axfelix', 'jmacgreg', 'lilients', 'bozana', 'marcbria', 'mfelczak', 'ajnyga', 'defstat', 'RahulChakravarthy', 'carzamora']\")\t\n",
      "\n",
      "ezbuy/ezorm\t(-0.7071079294901531, \"['frenchfrywpepper', 'joeblubaugh', 'malafeev', 'danielamiao', 'MatthewDolan']\")\t(-0.7071078091620221, \"['andrei-m', 'BenjaminTrapani']\")\t(-0.7071077637551297, \"['abramhindle', 'murphygc', 'andyjko', 'timm', 'andymeneely', 'CaptainEmerson', 'lauriew', 'brusso123', 'baishakhir', 'cabird', 'barik', 'bramadams', 'aysebener', 'fayola21']\")\t(-0.7071077637551297, \"['rtholmes', 'sback', 'JimWhiteheadUCSC', 'rvprasad', 'prechelt', 'tzimmermsr', 'trevorcarnahan', 'pgbovine', 'pruneson46', 'taoxiease', 'siravegas', 'andreas-zeller', 'sdeal', 'wagnerst', 'minkull', 'theisencr', 'maoivo', 'nataliajuristo', 'tomFr', 'maleknaz']\")\t(-0.7071074897879961, \"['peterh', 'abates', 'ElPincheTopo', 'flisky', 'michaelmacinnis']\")\t(-0.7071070317822237, \"['yvasiyarov', 'bfitzsimmons', 'abdollar', 'jordanshoebox', 'mash', 'nazwa', 'bolshoy', 'yoshiyaka']\")\t(-0.7071070027180779, \"['divolgin', 'marccampbell', 'emosbaugh', 'mhald']\")\t(-0.7071067851673843, \"['docstun', 'fredv', 'gfrey', 'sacry-dyn', 'kennell']\")\t(-0.7071067851673843, \"['theSoenke', 'alexanderwilling', 'timleers']\")\t(-0.5773633188824845, \"['jacqueline-stripe', 'pantera-stripe']\")\t(-0.5773522556284191, \"['Mast3rPlan', 'Maescool']\")\t(-0.5773505671749958, \"['yuewko', 'jkraj', 'adsri']\")\t(-0.5773502866674992, \"['riethm', 'renier', 'minsikl', 'ivan-n16']\")\t(-0.5773502816706666, \"['Wuvist', 'dtynn']\")\t(-0.004963721804382494, \"['harmw', 'HarryKroes']\")\t(-0.004147069825977854, \"['d-sparks', 'rzendacott']\")\t(-0.0019992546072455605, \"['joshk0', 'jgraettinger']\")\t(-0.0009536907582139698, \"['JonathonReinhart', 'kiview']\")\t(-0.0006573193883572647, \"['dexhorthy', 'jadengore', 'areed', 'laverya']\")\t(-0.000554063640061094, \"['prateek', 'richardartoul', 'schallert', 'xichen2020', 'jeromefroe', 'cw9', 'martin-mao']\")\t\n",
      "\n",
      "ONSdigital/eq-survey-runner\t(-1.050810899624429, \"['mhausenblas', 'minyk', 'whyjustin', 'TimonVS', 'luhkevin', 'us3r', 'sibblegp', 'realmbgl', 'ryadav88', 'somnathmesos']\")\t(-1.0488092716760418, \"['drvinceknight', 'JasYoung314', 'timothyf1', 'geraintpalmer', 'marcharper', 'alcarney', 'Huaraz2', 'sluenenglish', 'mojones']\")\t(-1.0486749959104562, \"['leoc', 'rbray89', 'micw', 'l00mi', 'badele', 'lukas-hetzenecker', 'turbokongen', 'partofthething', 'seedzero', 'ishults', 'capellini', 'justweb1', 'Cinntax', 'Instagraeme']\")\t(-1.047364837959639, \"['jhgg', 'jkimbo', 'luisincrespo', 'danpalmer', 'marcoacierno', 'syrusakbary', 'patrick91', 'pizzapanther', 'blx', 'gjcarneiro', 'BossGrand', 'dfee', 'JamieRL', 'dan98765']\")\t(-1.0441460981632522, \"['benwerd', 'mapkyca', 'erinjo', 'physcocode', 'pierreozoux', 'srcr', 'tinokremer', 'cleverdevil', 'paulcmal', 'lil5']\")\t(-1.04083804183014, \"['eads', 'wilbertom', 'suymilk', 'brianboyer', 'bepetersn']\")\t(-1.0371874806519261, \"['aravindet', 'gargsms', 'asdofindia', 'karthikb351', 'miteshashar', 'ermauliks', 'knightsamar', 'abhi12ravi']\")\t(-1.0371873565416334, \"['iambibhas', 'shreyas-satish', 'jace', 'sindhus', 'samyakbhuta', 'iamsudip', 'vidya-ram', 'iAmMrinal0', 'zainabbawa']\")\t(-1.0124228819563466, \"['alexmorris', 'weapdiv-david', 'collisdigital', 'jonnyshaw89', 'ajmaddaford', 'yoganandkunche', 'gbanas', 'dcdarrell9', 'adoublebarrel', 'berianjones', 'ryangrundy7']\")\t(-1.0118349279067906, \"['maxious', 'nathf', 'matt-sm', 'marcoalfonso']\")\t(-1.0064039206171733, \"['caesar2164', 'dcadams', 'azimpradhan', 'sigberto', 'caseylitton', 'jspayd', 'karandikar', 'libremente', 'jlikhuva', 'potsui']\")\t(-1.0063997628617487, \"['dylanrhodes', 'stvstnfrd', 'jrbl', 'stanford-online-robot', 'kabirkhan', 'saharm1', 'tkim135']\")\t(-1.0000027321238198, \"['manishas', 'vivex', 'deepakpathania', 'harryi3t', 'balavignesh-s', 'ChaitanyaVootla']\")\t(-1.0000003163111373, \"['ric03uec', '0x-x0', 'stephanielingwood', 'Ranjansingh41', 'bindushree16', 'vijayreddy1991']\")\t(-1.0000001944220884, \"['rageshkrishna', 'amalfra', 'avinci', 'niranjan92', 'trriplejay', 'kanthchandra', 'prokopst', 'pranaypareek', 'himanshu0503', 'abhijitkini', 'a-murphy', 'scriptnull', 'shrivara', 'ankul-shippable', 'Riturajcse', 'Bharath92', 'jatindogra', 'deepikasl', 'ambarish2012']\")\t(-0.9847354176766662, \"['jgmize', 'bobsilverberg', 'stephendonner', 'camd', 'm8ttyB', 'rbillings', 'bebef1987', 'krupa', 'lmandel', 'klrmn', 'stupchiy', 'bitgeeky', 'oremj', 'auzelac91', 'justinpotts', 'karlht', 'tccharles', 'tarun1992', 'IamAdiSri', 'dudepare', 'terrameijar', 'kimberlythegeek']\")\t(-0.9511897507801489, \"['hamishtaplin', 'WickyNilliams', 'bennpearson', 'armstrongb', 'saedwards', 'leannecook', 'will-madebymoon', 'boxadesign']\")\t(-0.8987172244649357, \"['bitdivision', 'benhowes', 'michaelboulton']\")\t(-0.8257229606539808, \"['iwootten', 'dgunthor', 'davidcarboni', 'howellsaj']\")\t(-0.8017838998508262, \"['samiwel', 'SamGodwin2']\")\t\n",
      "\n"
     ]
    }
   ],
   "source": [
    "for i,rec in enumerate(team_recommendations):\n",
    "    print(repo_profiles_df.iloc[i].name,end='\\t')\n",
    "    for tm in rec:\n",
    "        print(tm,end='\\t')\n",
    "    print('\\n')"
   ]
  },
  {
   "cell_type": "code",
   "execution_count": null,
   "metadata": {},
   "outputs": [],
   "source": []
  }
 ],
 "metadata": {
  "kernelspec": {
   "display_name": "Python 3",
   "language": "python",
   "name": "python3"
  },
  "language_info": {
   "codemirror_mode": {
    "name": "ipython",
    "version": 3
   },
   "file_extension": ".py",
   "mimetype": "text/x-python",
   "name": "python",
   "nbconvert_exporter": "python",
   "pygments_lexer": "ipython3",
   "version": "3.7.0"
  }
 },
 "nbformat": 4,
 "nbformat_minor": 2
}
