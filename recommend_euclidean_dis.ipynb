{
 "cells": [
  {
   "cell_type": "code",
   "execution_count": 16,
   "metadata": {},
   "outputs": [],
   "source": [
    "import json\n",
    "import pandas as pd\n",
    "\n",
    "repo_profiles = {}\n",
    "with open('repo_profiles.json') as rj:\n",
    "    for rl in rj.readlines():\n",
    "        line = rl.split('\\t')\n",
    "        repo = line[0]\n",
    "        profile = json.loads(line[1])\n",
    "        repo_profiles[repo] = profile\n",
    "    \n",
    "team_profiles = []\n",
    "teams = []\n",
    "with open('team_profiles.json') as tj:\n",
    "    for tl in tj.readlines():\n",
    "        line = tl.split('\\t')\n",
    "        team = json.loads(line[0])\n",
    "        profile = json.loads(line[1])\n",
    "        team_profiles.append(profile)\n",
    "        teams.append(team)"
   ]
  },
  {
   "cell_type": "code",
   "execution_count": 17,
   "metadata": {},
   "outputs": [],
   "source": [
    "repo_profiles_df = pd.DataFrame(repo_profiles).transpose()\n",
    "repo_profiles_df.fillna('',inplace=True)\n",
    "team_profiles_df = pd.DataFrame(team_profiles,index=[str(t) for t in teams])\n",
    "team_profiles_df.rename(columns={\n",
    "                                   'repo_size':'size',\n",
    "                                   'repo_forks':'forks',\n",
    "                                   'repo_subscribers':'subscribers',\n",
    "                                   'repo_watchers':'watchers',\n",
    "                                   'languages':'languages',\n",
    "                                   'topics':'topics'\n",
    "                               },inplace=True)\n",
    "\n",
    "numerics = ['size','forks','subscribers','watchers']"
   ]
  },
  {
   "cell_type": "code",
   "execution_count": 18,
   "metadata": {},
   "outputs": [
    {
     "data": {
      "text/plain": [
       "array([[<matplotlib.axes._subplots.AxesSubplot object at 0x0000013E8763E710>,\n",
       "        <matplotlib.axes._subplots.AxesSubplot object at 0x0000013E84D979E8>],\n",
       "       [<matplotlib.axes._subplots.AxesSubplot object at 0x0000013E848670B8>,\n",
       "        <matplotlib.axes._subplots.AxesSubplot object at 0x0000013E844A2748>]],\n",
       "      dtype=object)"
      ]
     },
     "execution_count": 18,
     "metadata": {},
     "output_type": "execute_result"
    },
    {
     "data": {
      "image/png": "[encoded data removed]",
      "text/plain": [
       "<Figure size 432x288 with 4 Axes>"
      ]
     },
     "metadata": {
      "needs_background": "light"
     },
     "output_type": "display_data"
    }
   ],
   "source": [
    "repo_profiles_df[numerics].hist()"
   ]
  },
  {
   "cell_type": "code",
   "execution_count": 19,
   "metadata": {},
   "outputs": [
    {
     "data": {
      "text/plain": [
       "array([[<matplotlib.axes._subplots.AxesSubplot object at 0x0000013E833D0390>,\n",
       "        <matplotlib.axes._subplots.AxesSubplot object at 0x0000013E965CDA20>],\n",
       "       [<matplotlib.axes._subplots.AxesSubplot object at 0x0000013E918110F0>,\n",
       "        <matplotlib.axes._subplots.AxesSubplot object at 0x0000013E91819780>]],\n",
       "      dtype=object)"
      ]
     },
     "execution_count": 19,
     "metadata": {},
     "output_type": "execute_result"
    },
    {
     "data": {
      "image/png": "[encoded data removed]",
      "text/plain": [
       "<Figure size 432x288 with 4 Axes>"
      ]
     },
     "metadata": {
      "needs_background": "light"
     },
     "output_type": "display_data"
    }
   ],
   "source": [
    "team_profiles_df[numerics].hist()"
   ]
  },
  {
   "cell_type": "code",
   "execution_count": 15,
   "metadata": {},
   "outputs": [
    {
     "name": "stdout",
     "output_type": "stream",
     "text": [
      "forks                                                2.60891e-05\n",
      "languages                                                       \n",
      "size                                                   9.597e-05\n",
      "subscribers                                            0.0037357\n",
      "topics         [oxygenxml, git, oxygen-standalone-plugin, add...\n",
      "watchers                                             8.08912e-05\n",
      "Name: oxygenxml/oxygen-git-plugin, dtype: object\n",
      "languages      [HTML, CSS, Python, JavaScript]\n",
      "forks                              0.000122619\n",
      "size                               2.99895e-05\n",
      "subscribers                         0.00192622\n",
      "watchers                           0.000128078\n",
      "topics                                      []\n",
      "Name: ['AMorporkian', 'kharidiron'], dtype: object\n"
     ]
    }
   ],
   "source": [
    "min = repo_profiles_df[numerics].min()\n",
    "max = repo_profiles_df[numerics].max()\n",
    "repo_profiles_df[numerics] = (repo_profiles_df[numerics]-min)/(max-min)\n",
    "team_profiles_df[numerics] = (team_profiles_df[numerics]-min)/(max-min)\n",
    "\n",
    "print(repo_profiles_df.iloc[0])\n",
    "print(team_profiles_df.iloc[0])"
   ]
  },
  {
   "cell_type": "code",
   "execution_count": 3,
   "metadata": {
    "scrolled": true
   },
   "outputs": [
    {
     "data": {
      "text/html": [
       "<div>\n",
       "<style scoped>\n",
       "    .dataframe tbody tr th:only-of-type {\n",
       "        vertical-align: middle;\n",
       "    }\n",
       "\n",
       "    .dataframe tbody tr th {\n",
       "        vertical-align: top;\n",
       "    }\n",
       "\n",
       "    .dataframe thead th {\n",
       "        text-align: right;\n",
       "    }\n",
       "</style>\n",
       "<table border=\"1\" class=\"dataframe\">\n",
       "  <thead>\n",
       "    <tr style=\"text-align: right;\">\n",
       "      <th></th>\n",
       "      <th>forks</th>\n",
       "      <th>size</th>\n",
       "      <th>subscribers</th>\n",
       "      <th>watchers</th>\n",
       "    </tr>\n",
       "  </thead>\n",
       "  <tbody>\n",
       "    <tr>\n",
       "      <th>count</th>\n",
       "      <td>181323.000000</td>\n",
       "      <td>181323.000000</td>\n",
       "      <td>181323.000000</td>\n",
       "      <td>181323.000000</td>\n",
       "    </tr>\n",
       "    <tr>\n",
       "      <th>mean</th>\n",
       "      <td>0.000539</td>\n",
       "      <td>0.001451</td>\n",
       "      <td>0.004377</td>\n",
       "      <td>0.001476</td>\n",
       "    </tr>\n",
       "    <tr>\n",
       "      <th>std</th>\n",
       "      <td>0.003829</td>\n",
       "      <td>0.010532</td>\n",
       "      <td>0.015398</td>\n",
       "      <td>0.008520</td>\n",
       "    </tr>\n",
       "    <tr>\n",
       "      <th>min</th>\n",
       "      <td>0.000000</td>\n",
       "      <td>0.000000</td>\n",
       "      <td>0.000000</td>\n",
       "      <td>0.000000</td>\n",
       "    </tr>\n",
       "    <tr>\n",
       "      <th>25%</th>\n",
       "      <td>0.000005</td>\n",
       "      <td>0.000011</td>\n",
       "      <td>0.000350</td>\n",
       "      <td>0.000000</td>\n",
       "    </tr>\n",
       "    <tr>\n",
       "      <th>50%</th>\n",
       "      <td>0.000078</td>\n",
       "      <td>0.000072</td>\n",
       "      <td>0.001401</td>\n",
       "      <td>0.000044</td>\n",
       "    </tr>\n",
       "    <tr>\n",
       "      <th>75%</th>\n",
       "      <td>0.000297</td>\n",
       "      <td>0.000483</td>\n",
       "      <td>0.003736</td>\n",
       "      <td>0.000509</td>\n",
       "    </tr>\n",
       "    <tr>\n",
       "      <th>max</th>\n",
       "      <td>1.000000</td>\n",
       "      <td>1.000000</td>\n",
       "      <td>1.000000</td>\n",
       "      <td>1.000000</td>\n",
       "    </tr>\n",
       "  </tbody>\n",
       "</table>\n",
       "</div>"
      ],
      "text/plain": [
       "               forks           size    subscribers       watchers\n",
       "count  181323.000000  181323.000000  181323.000000  181323.000000\n",
       "mean        0.000539       0.001451       0.004377       0.001476\n",
       "std         0.003829       0.010532       0.015398       0.008520\n",
       "min         0.000000       0.000000       0.000000       0.000000\n",
       "25%         0.000005       0.000011       0.000350       0.000000\n",
       "50%         0.000078       0.000072       0.001401       0.000044\n",
       "75%         0.000297       0.000483       0.003736       0.000509\n",
       "max         1.000000       1.000000       1.000000       1.000000"
      ]
     },
     "execution_count": 3,
     "metadata": {},
     "output_type": "execute_result"
    }
   ],
   "source": [
    "repo_profiles_df.describe()"
   ]
  },
  {
   "cell_type": "code",
   "execution_count": 4,
   "metadata": {},
   "outputs": [
    {
     "data": {
      "text/html": [
       "<div>\n",
       "<style scoped>\n",
       "    .dataframe tbody tr th:only-of-type {\n",
       "        vertical-align: middle;\n",
       "    }\n",
       "\n",
       "    .dataframe tbody tr th {\n",
       "        vertical-align: top;\n",
       "    }\n",
       "\n",
       "    .dataframe thead th {\n",
       "        text-align: right;\n",
       "    }\n",
       "</style>\n",
       "<table border=\"1\" class=\"dataframe\">\n",
       "  <thead>\n",
       "    <tr style=\"text-align: right;\">\n",
       "      <th></th>\n",
       "      <th>forks</th>\n",
       "      <th>size</th>\n",
       "      <th>subscribers</th>\n",
       "      <th>watchers</th>\n",
       "    </tr>\n",
       "  </thead>\n",
       "  <tbody>\n",
       "    <tr>\n",
       "      <th>count</th>\n",
       "      <td>22330.000000</td>\n",
       "      <td>2.233000e+04</td>\n",
       "      <td>22330.000000</td>\n",
       "      <td>22330.000000</td>\n",
       "    </tr>\n",
       "    <tr>\n",
       "      <th>mean</th>\n",
       "      <td>0.001999</td>\n",
       "      <td>1.710201e-03</td>\n",
       "      <td>0.011510</td>\n",
       "      <td>0.004689</td>\n",
       "    </tr>\n",
       "    <tr>\n",
       "      <th>std</th>\n",
       "      <td>0.004260</td>\n",
       "      <td>4.203524e-03</td>\n",
       "      <td>0.020819</td>\n",
       "      <td>0.014758</td>\n",
       "    </tr>\n",
       "    <tr>\n",
       "      <th>min</th>\n",
       "      <td>0.000000</td>\n",
       "      <td>3.429433e-07</td>\n",
       "      <td>0.000000</td>\n",
       "      <td>0.000000</td>\n",
       "    </tr>\n",
       "    <tr>\n",
       "      <th>25%</th>\n",
       "      <td>0.000245</td>\n",
       "      <td>1.999221e-04</td>\n",
       "      <td>0.002815</td>\n",
       "      <td>0.000240</td>\n",
       "    </tr>\n",
       "    <tr>\n",
       "      <th>50%</th>\n",
       "      <td>0.000789</td>\n",
       "      <td>6.011164e-04</td>\n",
       "      <td>0.005915</td>\n",
       "      <td>0.001209</td>\n",
       "    </tr>\n",
       "    <tr>\n",
       "      <th>75%</th>\n",
       "      <td>0.002131</td>\n",
       "      <td>1.573824e-03</td>\n",
       "      <td>0.012524</td>\n",
       "      <td>0.004808</td>\n",
       "    </tr>\n",
       "    <tr>\n",
       "      <th>max</th>\n",
       "      <td>0.143161</td>\n",
       "      <td>1.714984e-01</td>\n",
       "      <td>0.736896</td>\n",
       "      <td>0.750063</td>\n",
       "    </tr>\n",
       "  </tbody>\n",
       "</table>\n",
       "</div>"
      ],
      "text/plain": [
       "              forks          size   subscribers      watchers\n",
       "count  22330.000000  2.233000e+04  22330.000000  22330.000000\n",
       "mean       0.001999  1.710201e-03      0.011510      0.004689\n",
       "std        0.004260  4.203524e-03      0.020819      0.014758\n",
       "min        0.000000  3.429433e-07      0.000000      0.000000\n",
       "25%        0.000245  1.999221e-04      0.002815      0.000240\n",
       "50%        0.000789  6.011164e-04      0.005915      0.001209\n",
       "75%        0.002131  1.573824e-03      0.012524      0.004808\n",
       "max        0.143161  1.714984e-01      0.736896      0.750063"
      ]
     },
     "execution_count": 4,
     "metadata": {},
     "output_type": "execute_result"
    }
   ],
   "source": [
    "team_profiles_df.describe()"
   ]
  },
  {
   "cell_type": "code",
   "execution_count": 5,
   "metadata": {},
   "outputs": [
    {
     "name": "stdout",
     "output_type": "stream",
     "text": [
      "1.4142147256033752\n"
     ]
    }
   ],
   "source": [
    "import numpy as np\n",
    "\n",
    "def euclidean_distance(p1,p2):\n",
    "    distance = np.linalg.norm(p1[numerics]-p2[numerics])**2\n",
    "    langs = set(p1['languages']).union(p2['languages'])\n",
    "    topics = set(p1['topics']).union(p2['topics'])\n",
    "    p1_langs = pd.Series([lang in p1['languages'] for lang in langs])/np.sqrt(len(langs))\n",
    "    p2_langs = pd.Series([lang in p2['languages'] for lang in langs])/np.sqrt(len(langs))\n",
    "    p1_topics = pd.Series([topic in p1['topics'] for topic in topics])/np.sqrt(len(topics))\n",
    "    p2_topics = pd.Series([topic in p2['topics'] for topic in topics])/np.sqrt(len(topics))\n",
    "    distance += np.linalg.norm(p1_langs-p2_langs)**2 + np.linalg.norm(p1_topics-p2_topics)**2\n",
    "    distance = np.sqrt(distance)\n",
    "    \n",
    "    return distance\n",
    "    \n",
    "p1 = repo_profiles_df.iloc[0]\n",
    "p2 = team_profiles_df.iloc[0]\n",
    "print(euclidean_distance(p1,p2))"
   ]
  },
  {
   "cell_type": "code",
   "execution_count": 6,
   "metadata": {},
   "outputs": [
    {
     "name": "stdout",
     "output_type": "stream",
     "text": [
      "1\n",
      "2\n",
      "3\n",
      "4\n",
      "5\n",
      "6\n",
      "7\n",
      "8\n",
      "9\n",
      "10\n"
     ]
    }
   ],
   "source": [
    "from queue import PriorityQueue\n",
    "\n",
    "team_recommendations = []\n",
    "cnt = 0\n",
    "for repo,repo_profile in repo_profiles_df.iterrows():\n",
    "    cnt += 1\n",
    "    if cnt > 10:\n",
    "        break\n",
    "    print(cnt)\n",
    "    rec = []\n",
    "    queue = PriorityQueue()\n",
    "    for team,team_profile in team_profiles_df.iterrows():\n",
    "        dis = euclidean_distance(repo_profile,team_profile)\n",
    "        queue.put_nowait((-dis,team))\n",
    "        if queue.qsize() > 20:\n",
    "            queue.get_nowait()\n",
    "    while queue.qsize()>0:\n",
    "        rec.append(queue.get_nowait())\n",
    "    team_recommendations.append(rec)\n"
   ]
  },
  {
   "cell_type": "code",
   "execution_count": 7,
   "metadata": {
    "scrolled": false
   },
   "outputs": [
    {
     "name": "stdout",
     "output_type": "stream",
     "text": [
      "oxygenxml/oxygen-git-plugin\t(-1.0000000073497037, \"['tspenov', 'LucoLe']\")\t(-1.0000000056802527, \"['tiagoshibata', 'ppathan', 'spryor', 'avanikp', 'mechaffin', 'isaac73', 'hathind-ms']\")\t(-1.0000000038092847, \"['JoanClaret', 'PablitoGS', 'nguasch', 'beatrizip', 'siscu']\")\t(-0.9929359497256668, \"['kivervinicius', 'shadowmaru', 'alinebastos', 'khaosdoctor', 'WendellAdriel', 'wilcorrea', 'angeliski', 'mikaelhadler', 'adeonir', 'giovannicruz97', 'lbighetti', 'lflimeira', 'kellfluz', 'Diego-Brocanelli', 'pacheco7']\")\t(-0.9746798367656732, \"['Hx66', 'mkruijt', 'Razpudding', 'ChrisOwen101', 'fversnel', 'eidosam']\")\t(-0.9661029323122489, \"['MartinHelmut', 'kotzendekrabbe', 'Alexpeschel']\")\t(-0.9636280149061522, \"['arjunkharbanda', '2jiwon', 'SamirJouni', 'ktran031', 'dimitristsaknakis']\")\t(-0.963625899760768, \"['rabinrai44', 'aneagoie', 'thisisabdus', 'drood87', 'MattCSmith', 'juliangilquin', 'skylar01', 'tonydc1997']\")\t(-0.9607725975606737, \"['alexanmtz', 'mthais', 'lucianojfj']\")\t(-0.9607694047726144, \"['tedchamb', 'wnjenkin']\")\t(-0.9538799615486232, \"['outofambit', 'aaronshekey']\")\t(-0.9534660238867818, \"['piedcipher', 'kkdroidgit', 'OjasviBhargava', 'vaishnavi-janardhan', 'sabdar18', 'kartikohri1712', 'Yashsonisoni', 'lifeLessCoder', 'ravishankar97']\")\t(-0.9486848727252053, \"['tkaria', 'daanaerts']\")\t(-0.9258719464434662, \"['FraGoTe', 'arslanbilal', 'wzhishen', 'awesome-bot', 'spyshiv', 'parrainc', 'biyiklioglu']\")\t(-0.9258261506608181, \"['y-zaky', 'mineshmshah']\")\t(-0.9258232920182698, \"['eliascodes', 'AseelM', 'BartBucknill', 'AbdullahChaudhry']\")\t(-0.9258225759959695, \"['jsms90', 'rebecacalvoquintero', 'rachaelcodes', 'ameliejyc', 'astroash', 'Jen-Harris', 'azayneeva', 'maxgerber', 'dangerdak', 'shannonjensen']\")\t(-0.925821666457658, \"['m4v15', 'macintoshhelper', 'Heathercoraje', 'sajedazoabi', 'matthewdking', 'KatiaAsh', 'rinoma', 'idantb101', 'Amirk390', 'lucymk', 'vlbee']\")\t(-0.925821417749809, \"['M3kH', 'remarcmij', 'malnajar', 'wouterkleijn']\")\t(-0.9258213059959588, \"['mattlub', 'JWLD', 'm4v15', 'Suuuuha', 'philawsophizing', 'RQ16', 'HilbertSpitzer', 'Karyum', 'MohamedOmarii']\")\t\n",
      "\n",
      "yang163email/LearningNotes\t(-0.00018899800976598767, \"['pengchengan', 'jjamay']\")\t(-0.00018522326953321995, \"['jemaf', 'arthurbrito99', 'wendervitor', 'raul4247', 'gustavo-depaula']\")\t(-0.00017958766937252273, \"['wisegb', 'graichen']\")\t(-0.00017829623644781946, \"['zactimeinc', 'cjmurphy42']\")\t(-0.00017820634882333427, \"['samfalconer', 'asmasattar', 'Jeremy-Friedman', 'amk5401']\")\t(-0.00017745188394865707, \"['egyptianbman', 'renuzit']\")\t(-0.000175660766263038, \"['viviant100', 'vickymyers', 'loriNakamura']\")\t(-0.0001713788131742423, \"['Gaohaoyang', 'TangMingliang95']\")\t(-0.00016275243724183232, \"['zenghou', 'HanYaodong']\")\t(-0.00014464688167234956, \"['franciscofranco', 'anton0kurilov']\")\t(-0.00012675267046170793, \"['jluangphasy', 'cmd-kvn']\")\t(-0.0001228403454719345, \"['brianlmacdonald', 'jvpepino', 'apdjz']\")\t(-0.00012029555501961326, \"['janie-t', 'anna-marie-vos', 'lucas-wills', 'MeghanHughes']\")\t(-0.00011944173961541404, \"['mtferreira', 'lucasinfoh']\")\t(-0.00011819204596219795, \"['dlozanoarenal', 'rcarballoc']\")\t(-0.00011785764048331526, \"['Mortymus', 'ingokru']\")\t(-0.00011785764048331526, \"['mmoscher', 'da-snap']\")\t(-0.00011697013947334562, \"['subdavis', 'cconsidine']\")\t(-8.286283469993914e-05, \"['Beeert', 'WhiteWolf3500']\")\t(-5.853082562850996e-05, \"['jiexray', '18822265922']\")\t\n",
      "\n",
      "swift-nav/librtcm\t(-0.7453598015230589, \"['casallas', 'rpavlik', 'Oberon00', 'vdudouyt', 'janoc', 'sradigan', 'cpldcpu']\")\t(-0.7453586676325212, \"['kimmoli', 'sledges', 'Nokius', 'martinbrook', 'alinelena', 'krnlyng', 'mlehtima', 'ballock']\")\t(-0.7071756543834669, \"['vuvova', 'kevgs', 'svoj', 'elenst', 'midenok', 'knielsen', 'dr-m', 'abarkov', 'sanja-byelkin', 'montywi', 'dbart']\")\t(-0.7071592244059751, \"['timthirion', 'bastienjacquet']\")\t(-0.7071524937103597, \"['fumieval', 'aavogt', 'jstolarek']\")\t(-0.707115380306641, \"['pinotree', 'HenryMiller1']\")\t(-0.707114293229157, \"['sumeet-jain-engineer', 'andrew-elder', 'grandcat', 'intel-ethernet', 'pinealservo', 'davidcemin', 'jdkoftinoff', 'MarcinMiklas', 'christopher-s-hall', 'kencarlino', 'RikusW', 'cirust20', 'mprinn', 'k-gupta', 'rhii', 'bdthomsen', 'jfornal', 'daejungkim', 'PawelModrzejewski', 'vvacharya', 'aditpape', 'freddeng', 'jongwook-lee']\")\t(-0.7071110566189798, \"['a-ilango', 'sydidelot', 'JoZie', 'aingerson', 'dmitrygladkov', 'vkrishna', 'fzago-cray']\")\t(-0.7071096723022171, \"['davidgfnet', 'artart78']\")\t(-0.7071087085567079, \"['cadejager', 'jti-lanl', 'gransom']\")\t(-0.7071086005450822, \"['kristiana-rendon', 'thewacokid', 'wfvining', 'jschlind411', 'gmfricke', 'Antonio-Griego', 'akilandrews', 'JCHJones']\")\t(-0.7071084737556828, \"['liesrock', 'alaurenzi', 'duncanjovial', 'nkashiri', 'm-shahbazi']\")\t(-0.7071082606746788, \"['cdondrup', 'mudrole1', 'heuristicus', 'MFernandezCarmona']\")\t(-0.7071074537397494, \"['LoicCadour', 'fcollot', 'msermesant', 'mathildemerle', 'mjuhoor', 'juliencastelneau']\")\t(-0.7071074537397494, \"['fvichot', 'papadop', 'ocommowi']\")\t(-0.7071070405486111, \"['wkrzemien', 'Alvarness', 'alekgajos', 'wictus', 'grey277', 'kkacprzak']\")\t(-0.6546955705787857, \"['donatieng', 'ithinuel', 'studavekar', 'maciejbocianski', 'fkjagodzinski', 'mprse', 'cmonr', 'jamesbeyond', 'hug-dev', 'gaborkertesz', 'shuoo']\")\t(-0.6546753410409201, \"['ahornung', 'christian-rauch', 'felixendres', 'wxmerkt', 'gtinchev']\")\t(-0.6546660722462896, \"['garyservin', 'tulku', 'romainreignier']\")\t(-0.5773503614349297, \"['bobismijnnaam', 'DennisdeW']\")\t\n",
      "\n",
      "bluepeppers/archey3\t(-0.0019245029830259907, \"['jagranata', 'jianli']\")\t(-0.0017329503371566264, \"['KaijenHsiao', 'po1', 'haidai', 'cinchcircuits', 'pbaughman']\")\t(-0.0016368274410379605, \"['tackin', 'vidister']\")\t(-0.0016361763385786922, \"['pchaigno', 'memelet', 'cpliakas', 'awailly', 'paskl47', 'eastokes']\")\t(-0.00145776836428983, \"['NicoHinderling', 'a--hoang', 'lkwatson', 'agoncharova', 'mhendrick98', 'maridematte']\")\t(-0.001402905814601604, \"['KhasanovBI', 'karitra']\")\t(-0.0011469906847299983, \"['sampathP', 'muroi']\")\t(-0.0011030784224908652, \"['zamiam69', 'zsoltn']\")\t(-0.0009652761934083076, \"['DeeJay', 'helenlynn', 'topshed', 'Dan-himself', 'tracygardner', 'jonwitts', 'lawsie', 'jameshay1']\")\t(-0.0007336628787854428, \"['tribeiro', 'wschoenell', 'phsilva', 'ankanaan']\")\t(-0.000678843411729864, \"['bobh0303', 'nrsiward']\")\t(-0.000596521175619684, \"['mfenniak', 'tlocke']\")\t(-0.0005456251683325647, \"['willfurnass', 'ptheywood', 'anthonybrookfield', 'mondus', 'twinkarma']\")\t(-0.0005442991893096149, \"['caohhung', 'martin-ducar-gd']\")\t(-0.000490602749258152, \"['weylin', 'katagatame']\")\t(-0.00043178184859916035, \"['StoneyJackson', 'andrewgalisa', 'collaj']\")\t(-0.0003852391645631178, \"['adamdevigili', 'TrevorBreton']\")\t(-0.0002961561658852518, \"['ldcastell', 'mwturvey']\")\t(-0.00025593854006429536, \"['Exterminus', 'Lucasgscruz']\")\t(-0.00012358322244106456, \"['philadams', 'Lertsenem', 'eeveeta', 'robertpateii', 'synacktic']\")\t\n",
      "\n",
      "exynos5410/android_device_samsung_ja3gduosctc\t(-0.00010883740991527135, \"['viviant100', 'vickymyers', 'loriNakamura']\")\t(-0.0001087743089087949, \"['jiexray', '18822265922']\")\t(-0.00010649246143563633, \"['zactimeinc', 'cjmurphy42']\")\t(-0.00010550116796546835, \"['mtferreira', 'lucasinfoh']\")\t(-0.00010395205459669672, \"['chuan9', 'nevets963', 'wagmarcel', 'arkocal', 'jelyoussefi', 'stevenbriscoe']\")\t(-9.956272488261969e-05, \"['dlozanoarenal', 'rcarballoc']\")\t(-9.800628166206812e-05, \"['jluangphasy', 'cmd-kvn']\")\t(-9.696898639688602e-05, \"['egyptianbman', 'renuzit']\")\t(-9.215095205495472e-05, \"['subdavis', 'cconsidine']\")\t(-8.75058326734126e-05, \"['Gaohaoyang', 'TangMingliang95']\")\t(-8.601300354695211e-05, \"['laurentvaills', 'sauthieg', 'violette']\")\t(-8.59254728072279e-05, \"['samfalconer', 'asmasattar', 'Jeremy-Friedman', 'amk5401']\")\t(-8.111707212309615e-05, \"['wisegb', 'graichen']\")\t(-8.064581777341048e-05, \"['Mortymus', 'ingokru']\")\t(-8.064581777341048e-05, \"['mmoscher', 'da-snap']\")\t(-7.091499531216674e-05, \"['grantcm', 'LauY99', 'aali195']\")\t(-7.091092859383412e-05, \"['Beeert', 'WhiteWolf3500']\")\t(-6.849134896074689e-05, \"['janie-t', 'anna-marie-vos', 'lucas-wills', 'MeghanHughes']\")\t(-6.368864569836159e-05, \"['pengchengan', 'jjamay']\")\t(-5.7889882789435215e-05, \"['brianlmacdonald', 'jvpepino', 'apdjz']\")\t\n",
      "\n",
      "Flet/standard-engine\t(-0.0012179310824598304, \"['bobeagan', 'chrisshiplet', 'chrisheninger']\")\t(-0.0012117286332342506, \"['courtenayt', 'rfriedel']\")\t(-0.0011701516620898375, \"['tkdan235', 'fshost', 'AckerApple']\")\t(-0.0010355395717727186, \"['glenselle', 'yawetse', 'tom5191', 'hortondust']\")\t(-0.0009467499536113472, \"['theoephraim', 'josmcg']\")\t(-0.0008869639512488896, \"['BrunoCartier', 'JohnCoker']\")\t(-0.0008263830199973958, \"['nicolashemonic', 'cruikshj']\")\t(-0.0008169102585816972, \"['tsironis', 'eavgerinos', 'KhaledElAnsari']\")\t(-0.0007821318140682443, \"['Yogu', 'syzer', 'Zertz', 'florianholzapfel', 'dvlsg', 'wesratcliff', 'smirea']\")\t(-0.000720316672361047, \"['s100', 'mattbaileyuk']\")\t(-0.000705463606009336, \"['samaxes', 'AlexDisler', 'tiagorico']\")\t(-0.0006470734788906655, \"['openam', 'mashu-daishi']\")\t(-0.0006453405420624588, \"['pchuri', 'mdravida19']\")\t(-0.0006222516580790483, \"['samuelralak', 'janat08', 'anbud', 'paranoico', 'gazhayes', 'geekyd', 'AshHimself', 'MadanBhandari', 'chamidu-supeshala']\")\t(-0.0005554724068922053, \"['gregra81', 'cyrillef', 'rozman1234', 'zivSher']\")\t(-0.0004759907520401848, \"['benjaminparnell', 'benedfit', 'jackbrewer']\")\t(-0.0004535517997789263, \"['jonpacker', 'NukaPunk']\")\t(-0.0004353212952628186, \"['underscorebrody', 'jintoppy']\")\t(-0.00020522581422663884, \"['brozeph', 'rmomii']\")\t(-0.00015094436662245909, \"['lukasz-wronski', 'hajekj', 'kalieye', 'jsmilovic']\")\t\n",
      "\n",
      "potree/PotreeConverter\t(-0.7637977990439457, \"['jasiek', 'marksteward', 'JasperWallace']\")\t(-0.7637796225924666, \"['quozl', 'AlanJAS', 'vikramahuja1001', 'ezequielpereira', 'devAbnull', 'rdrsadhu', 'dnarvaez', 'cristian99garcia', 'ortegaps', 'zeecoder606', 'vipulgupta2048', 'yashagrawal3', 'octamois', 'shivamchadha', 'pro-panda', 'avinashbharti97']\")\t(-0.7637748840603187, \"['sgress454', 'andyhu', 'vohof', 'boogerlad', 'Karnith', 'gayanhewa', 'thomasdashney', 'delight', 'Rafi993', 'pekpon', 'acekat', 'thecjharries']\")\t(-0.7637677165442605, \"['casallas', 'rpavlik', 'Oberon00', 'vdudouyt', 'janoc', 'sradigan', 'cpldcpu']\")\t(-0.7637656477620024, \"['rdegges', 'jheld', 'sasakalaba', 'tom-smith-okta']\")\t(-0.7637642265423586, \"['kossebau', 'adityab', 'piggz']\")\t(-0.7637631820871917, \"['apiri', 'randerzander', 'jdye64', 'thesolson', 'ottobackwards', 'achristianson']\")\t(-0.7388121422226158, \"['ccrisan', 'jogu', 'jasaw', 'inodlite']\")\t(-0.7385717004342754, \"['scottrobertson', 'marcqualie', 'MatthewBooth']\")\t(-0.7385628001652176, \"['xoarinn', 'Honeybunch', 'MattGuerrette', 'JamesMarcil']\")\t(-0.7385525176786988, \"['bougyman', 'the-maldridge', 'CMB', 'benkasminbullock', 'enguerrand', 'kulinacs', 'masato9000']\")\t(-0.7385521833477364, \"['threeqube', 'cmcavoy', 'samdoshi', 'tehn', 'scanner-darkly', 'burnsauce']\")\t(-0.7385512126109482, \"['taoeffect', 'phelixbtc', 'ryancdotorg', 'shannona']\")\t(-0.7385500609103987, \"['tzlaine', 'ned14', 'ldionne', 'blastrock', 'viboes', 'akrzemi1']\")\t(-0.7342718308122501, \"['xfxyjwf', 'mcos', 'markmandel', 'drobertduke', 'xyzzyz', 'mehrdada']\")\t(-0.7338037917544675, \"['igracia', 'jcaden', 'sancane', 'rbenitez', 'mparis', 'dfernandezlop', 'rvlad', 'pabuhler']\")\t(-0.674218203499215, \"['samdroid-apps', 'goutamnair7', 'godiard', 'tchx84', 'nemesiscodex', 'inkyfingers', 'FGrose', 'Boquete', 'ezequielpereira']\")\t(-0.6742074973746109, \"['requires', 'dshafik', 'zghosts', 'Webysther']\")\t(-0.6742005134629507, \"['rogueSkib', 'mgh', 'fairfieldt', 'lunarraid', 'yofreke', 'ravitejag', 'AlexTiTanium']\")\t(-0.6030794949418081, \"['Dees-Troy', 'CaptainThrowback', 'Kra1o5', 'bigbiff', 'andi34', 'nailyk-fr', 'djselbeck', 'that1', 'kotzir', 'steadfasterX', 'drmarble', 'ThePiGuy0']\")\t\n",
      "\n",
      "ValLaboratory/dokushokai\t(-0.000378811278053254, \"['qeqar', 'elementyang']\")\t(-0.00036753209169819445, \"['davelcpanelnet', 'naptastic']\")\t(-0.0003605332501183328, \"['RedSquirrelious', 'macrobug', 'pdimitratos', 'zhz2017']\")\t(-0.0003531994079251676, \"['cziegeler', 'jsedding']\")\t(-0.0003144638524767344, \"['nukaga', 'fumikito', 'lunaluna']\")\t(-0.00031182268525165177, \"['prasanthhs', 'guru5590', 'divyasrinivasan1986']\")\t(-0.0003105457632041812, \"['chadbratton', 'sivaOSI', 'brunoOSI', 'pierreOSI', 'VinhOSI', 'amanbop']\")\t(-0.000294709513271691, \"['deadlyicon', 'punitrathore', 'lumodon', 'DianaVashti', 'mKleinCreative', 'TrevorJamesH']\")\t(-0.0002850909822644533, \"['hharnisc', 'hamstu', 'kiriappeee', 'msanroman']\")\t(-0.00027203600428715046, \"['alasarr', 'ignaciodomingo', 'isapozuelo', 'padawannn', 'alejandrohall', 'josemazo', 'Josmorsot', 'dandelea', 'ajaest', 'borjaeguia']\")\t(-0.0002713260324690977, \"['TheYorkWei', 'Lokicity']\")\t(-0.00023222975324003057, \"['nicdoye', 'melahn']\")\t(-0.0002153564208978166, \"['panlinux', 'powersj', 'simpoir']\")\t(-0.00018324912092260615, \"['astolzberg', 'seanpg94']\")\t(-0.00017669561595915433, \"['unamaria', 'stewest']\")\t(-0.0001472352094057082, \"['edgibbs', 'Sushmareddy-OSI', 'eckdanny-osi', 'mlipardo', 'RamuKammagani-osi', 'karthik-sista']\")\t(-8.185424156409425e-05, \"['stefancocora', 'lbennett-hod', 'hod-shcraigen', 'andymarke']\")\t(-8.006244216133212e-05, \"['johntconklin', 'amybuck', 'jghalam', 'hpersh']\")\t(-7.402273204508341e-05, \"['rakeshdatta', 'GarrickHe', 'atanu-mandal', 'theucke']\")\t(-1.8713788852639835e-05, \"['KonstantinRyazantsev', 'AntonSivov', 'andrey-anokhin']\")\t\n",
      "\n",
      "nhibberd/mismi\t(-0.0001312783975903483, \"['callovarne', 'jcowley']\")\t(-0.00012087104346070295, \"['stein321', 'ebracho', 'xiiishaneiiix']\")\t(-0.00011844895827583785, \"['megducharme', 'therealrmac', 'ollieOsh']\")\t(-0.00011808074365024756, \"['diafygi', 'nuxi']\")\t(-8.825709422057414e-05, \"['pengchengan', 'jjamay']\")\t(-8.124005114154323e-05, \"['chuan9', 'nevets963', 'wagmarcel', 'arkocal', 'jelyoussefi', 'stevenbriscoe']\")\t(-7.811902156100403e-05, \"['Beeert', 'WhiteWolf3500']\")\t(-6.825827506407956e-05, \"['wisegb', 'graichen']\")\t(-6.545011615626537e-05, \"['samfalconer', 'asmasattar', 'Jeremy-Friedman', 'amk5401']\")\t(-6.237215307775596e-05, \"['zactimeinc', 'cjmurphy42']\")\t(-6.0182761683205116e-05, \"['jiexray', '18822265922']\")\t(-5.9060617693407735e-05, \"['viviant100', 'vickymyers', 'loriNakamura']\")\t(-3.9621789792751665e-05, \"['jluangphasy', 'cmd-kvn']\")\t(-3.4344673079180196e-05, \"['brianlmacdonald', 'jvpepino', 'apdjz']\")\t(-2.2810074987114717e-05, \"['janie-t', 'anna-marie-vos', 'lucas-wills', 'MeghanHughes']\")\t(-1.9847686925131236e-05, \"['mtferreira', 'lucasinfoh']\")\t(-1.563513396660081e-05, \"['dlozanoarenal', 'rcarballoc']\")\t(-1.4545316084383865e-05, \"['Mortymus', 'ingokru']\")\t(-1.4545316084383865e-05, \"['mmoscher', 'da-snap']\")\t(-8.851119117580158e-06, \"['subdavis', 'cconsidine']\")\t\n",
      "\n",
      "bull-mountain/hangoutsbot\t(-0.0018161946546974364, \"['hynek-urban', 'JirkaChadima']\")\t(-0.0018128579099316354, \"['mwhamgenomics', 'tcezard', 'paalmbj', 'katieemelianova']\")\t(-0.001697355202701045, \"['tebica', 'darjeeling', 'NohSeho', 'channprj', 'woojing', 'kucuny', 'Curzy', 'rikapo', 'iiogmgo', '0x1f440', 'makeajourney']\")\t(-0.001693575957891479, \"['christopherjwang', 'JasonStoltz']\")\t(-0.0015642764058879778, \"['MrSprigster', 'StateOfTheArt89']\")\t(-0.001536376963000561, \"['sinchb', 'taiyangc']\")\t(-0.0014681394721403097, \"['aldreth', 'ninaszymor']\")\t(-0.0014063311082635444, \"['kcratie', 'birdyhuang', 'JaikrishnaTS']\")\t(-0.0013968221366564663, \"['thomasgoirand', 'edmondsw']\")\t(-0.001163181595287445, \"['kstrauser', 'jvantuyl']\")\t(-0.0010939223422579672, \"['tjone270', 'em92']\")\t(-0.0010429896334004025, \"['hansmosh', 'bschnelle', 'kevincrabbe', 'cowleyk', 'karenbowen', 'ssclay']\")\t(-0.0010429896334004025, \"['mattdodge', 'adiazg', 'f1401martin', 'kyliedale', 'jennyknuth', 'tlugger', 'deliciousmonster', 'aaronranard']\")\t(-0.0010092751167999731, \"['tyoungNIO', 'dorzel']\")\t(-0.0009712571630650181, \"['seawolf42', 'costrouc', 'chalmerlowe', '808kimosan', 'JohnJohnsonIII']\")\t(-0.0007060926412916452, \"['mape2k', 'izzy']\")\t(-0.0005460411356278816, \"['lawrancejing', 'mhuin']\")\t(-0.00041297127399388654, \"['willshulman', 'gregbanks']\")\t(-0.0003562980228712292, \"['EmlynC', 'marshallhumble']\")\t(-0.0002421390574621159, \"['im85288', 'hawkeyexp']\")\t\n",
      "\n"
     ]
    }
   ],
   "source": [
    "for i,rec in enumerate(team_recommendations):\n",
    "    print(repo_profiles_df.iloc[i].name,end='\\t')\n",
    "    for tm in rec:\n",
    "        print(tm,end='\\t')\n",
    "    print('\\n')"
   ]
  }
 ],
 "metadata": {
  "kernelspec": {
   "display_name": "Python 3",
   "language": "python",
   "name": "python3"
  },
  "language_info": {
   "codemirror_mode": {
    "name": "ipython",
    "version": 3
   },
   "file_extension": ".py",
   "mimetype": "text/x-python",
   "name": "python",
   "nbconvert_exporter": "python",
   "pygments_lexer": "ipython3",
   "version": "3.7.0"
  }
 },
 "nbformat": 4,
 "nbformat_minor": 2
}
