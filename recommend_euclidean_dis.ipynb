{
 "cells": [
  {
   "cell_type": "code",
   "execution_count": 1,
   "metadata": {},
   "outputs": [],
   "source": [
    "import json\n",
    "import pandas as pd\n",
    "\n",
    "repo_profiles = {}\n",
    "repo_teams = {}\n",
    "with open('repo_profiles.json') as rj:\n",
    "    for rl in rj.readlines():\n",
    "        line = rl.split('\\t')\n",
    "        repo = line[0]\n",
    "        profile = json.loads(line[1])\n",
    "        repo_profiles[repo] = profile\n",
    "        repo_teams[repo] = repo_profiles[repo].pop('teams')\n",
    "    \n",
    "team_profiles = []\n",
    "teams = []\n",
    "with open('team_profiles.json') as tj:\n",
    "    for tl in tj.readlines():\n",
    "        line = tl.split('\\t')\n",
    "        team = line[0]\n",
    "        profile = json.loads(line[1])\n",
    "        team_profiles.append(profile)\n",
    "        teams.append(team)"
   ]
  },
  {
   "cell_type": "code",
   "execution_count": 2,
   "metadata": {},
   "outputs": [],
   "source": [
    "repo_profiles_df = pd.DataFrame(repo_profiles).transpose()\n",
    "repo_profiles_df.fillna('',inplace=True)\n",
    "team_profiles_df = pd.DataFrame(team_profiles,index=teams)\n",
    "team_profiles_df.rename(columns={\n",
    "                                   'repo_size':'size',\n",
    "                                   'repo_forks':'forks',\n",
    "                                   'repo_subscribers':'subscribers',\n",
    "                                   'repo_watchers':'watchers',\n",
    "                                   'languages':'languages',\n",
    "                                   'topics':'topics'\n",
    "                               },inplace=True)\n",
    "\n",
    "numerics = ['size','forks','subscribers','watchers']"
   ]
  },
  {
   "cell_type": "code",
   "execution_count": 3,
   "metadata": {},
   "outputs": [
    {
     "data": {
      "text/plain": [
       "array([[<matplotlib.axes._subplots.AxesSubplot object at 0x000001C3EF0DBC88>,\n",
       "        <matplotlib.axes._subplots.AxesSubplot object at 0x000001C3F8D08908>],\n",
       "       [<matplotlib.axes._subplots.AxesSubplot object at 0x000001C3F8D37D68>,\n",
       "        <matplotlib.axes._subplots.AxesSubplot object at 0x000001C3F8D66438>]],\n",
       "      dtype=object)"
      ]
     },
     "execution_count": 3,
     "metadata": {},
     "output_type": "execute_result"
    }
   ],
   "source": [
    "repo_profiles_df[numerics].hist()"
   ]
  },
  {
   "cell_type": "code",
   "execution_count": 4,
   "metadata": {},
   "outputs": [
    {
     "data": {
      "text/plain": [
       "array([[<matplotlib.axes._subplots.AxesSubplot object at 0x000001C3F8FCD748>,\n",
       "        <matplotlib.axes._subplots.AxesSubplot object at 0x000001C3F9035208>],\n",
       "       [<matplotlib.axes._subplots.AxesSubplot object at 0x000001C3F905D860>,\n",
       "        <matplotlib.axes._subplots.AxesSubplot object at 0x000001C3F9085EF0>]],\n",
       "      dtype=object)"
      ]
     },
     "execution_count": 4,
     "metadata": {},
     "output_type": "execute_result"
    },
    {
     "data": {
      "image/png": "[encoded data removed]",
      "text/plain": [
       "<Figure size 432x288 with 4 Axes>"
      ]
     },
     "metadata": {
      "needs_background": "light"
     },
     "output_type": "display_data"
    }
   ],
   "source": [
    "team_profiles_df[numerics].hist()"
   ]
  },
  {
   "cell_type": "code",
   "execution_count": 5,
   "metadata": {},
   "outputs": [
    {
     "name": "stdout",
     "output_type": "stream",
     "text": [
      "forks                                            0.000827615\n",
      "languages         [Shell, HTML, CSS, JavaScript, Dockerfile]\n",
      "size                                              6.3607e-05\n",
      "subscribers                                       0.00178486\n",
      "topics         [ember, screwdriver, ui, continuous-delivery]\n",
      "watchers                                         3.37048e-05\n",
      "Name: screwdriver-cd/ui, dtype: object\n",
      "languages            [CSS, HTML]\n",
      "forks                          0\n",
      "size                 5.66759e-06\n",
      "subscribers          0.000118991\n",
      "watchers                       0\n",
      "target         StarryPy/StarryPy\n",
      "topics                        []\n",
      "Name: [\"AMorporkian\", \"kharidiron\"], dtype: object\n"
     ]
    }
   ],
   "source": [
    "min = repo_profiles_df[numerics].min()\n",
    "max = repo_profiles_df[numerics].max()\n",
    "repo_profiles_df[numerics] = (repo_profiles_df[numerics]-min)/(max-min)\n",
    "team_profiles_df[numerics] = (team_profiles_df[numerics]-min)/(max-min)\n",
    "\n",
    "print(repo_profiles_df.iloc[0])\n",
    "print(team_profiles_df.iloc[0])"
   ]
  },
  {
   "cell_type": "code",
   "execution_count": 6,
   "metadata": {
    "scrolled": true
   },
   "outputs": [
    {
     "data": {
      "text/html": [
       "<div>\n",
       "<style scoped>\n",
       "    .dataframe tbody tr th:only-of-type {\n",
       "        vertical-align: middle;\n",
       "    }\n",
       "\n",
       "    .dataframe tbody tr th {\n",
       "        vertical-align: top;\n",
       "    }\n",
       "\n",
       "    .dataframe thead th {\n",
       "        text-align: right;\n",
       "    }\n",
       "</style>\n",
       "<table border=\"1\" class=\"dataframe\">\n",
       "  <thead>\n",
       "    <tr style=\"text-align: right;\">\n",
       "      <th></th>\n",
       "      <th>forks</th>\n",
       "      <th>size</th>\n",
       "      <th>subscribers</th>\n",
       "      <th>watchers</th>\n",
       "    </tr>\n",
       "  </thead>\n",
       "  <tbody>\n",
       "    <tr>\n",
       "      <th>count</th>\n",
       "      <td>14242.000000</td>\n",
       "      <td>14242.000000</td>\n",
       "      <td>14242.000000</td>\n",
       "      <td>14242.000000</td>\n",
       "    </tr>\n",
       "    <tr>\n",
       "      <th>mean</th>\n",
       "      <td>0.007300</td>\n",
       "      <td>0.001259</td>\n",
       "      <td>0.008071</td>\n",
       "      <td>0.002878</td>\n",
       "    </tr>\n",
       "    <tr>\n",
       "      <th>std</th>\n",
       "      <td>0.032253</td>\n",
       "      <td>0.009800</td>\n",
       "      <td>0.028054</td>\n",
       "      <td>0.017179</td>\n",
       "    </tr>\n",
       "    <tr>\n",
       "      <th>min</th>\n",
       "      <td>0.000000</td>\n",
       "      <td>0.000000</td>\n",
       "      <td>0.000000</td>\n",
       "      <td>0.000000</td>\n",
       "    </tr>\n",
       "    <tr>\n",
       "      <th>25%</th>\n",
       "      <td>0.000172</td>\n",
       "      <td>0.000021</td>\n",
       "      <td>0.000952</td>\n",
       "      <td>0.000013</td>\n",
       "    </tr>\n",
       "    <tr>\n",
       "      <th>50%</th>\n",
       "      <td>0.000966</td>\n",
       "      <td>0.000128</td>\n",
       "      <td>0.002499</td>\n",
       "      <td>0.000118</td>\n",
       "    </tr>\n",
       "    <tr>\n",
       "      <th>75%</th>\n",
       "      <td>0.003655</td>\n",
       "      <td>0.000718</td>\n",
       "      <td>0.006069</td>\n",
       "      <td>0.000927</td>\n",
       "    </tr>\n",
       "    <tr>\n",
       "      <th>max</th>\n",
       "      <td>1.000000</td>\n",
       "      <td>1.000000</td>\n",
       "      <td>1.000000</td>\n",
       "      <td>1.000000</td>\n",
       "    </tr>\n",
       "  </tbody>\n",
       "</table>\n",
       "</div>"
      ],
      "text/plain": [
       "              forks          size   subscribers      watchers\n",
       "count  14242.000000  14242.000000  14242.000000  14242.000000\n",
       "mean       0.007300      0.001259      0.008071      0.002878\n",
       "std        0.032253      0.009800      0.028054      0.017179\n",
       "min        0.000000      0.000000      0.000000      0.000000\n",
       "25%        0.000172      0.000021      0.000952      0.000013\n",
       "50%        0.000966      0.000128      0.002499      0.000118\n",
       "75%        0.003655      0.000718      0.006069      0.000927\n",
       "max        1.000000      1.000000      1.000000      1.000000"
      ]
     },
     "execution_count": 6,
     "metadata": {},
     "output_type": "execute_result"
    }
   ],
   "source": [
    "repo_profiles_df.describe()"
   ]
  },
  {
   "cell_type": "code",
   "execution_count": 7,
   "metadata": {},
   "outputs": [
    {
     "data": {
      "text/html": [
       "<div>\n",
       "<style scoped>\n",
       "    .dataframe tbody tr th:only-of-type {\n",
       "        vertical-align: middle;\n",
       "    }\n",
       "\n",
       "    .dataframe tbody tr th {\n",
       "        vertical-align: top;\n",
       "    }\n",
       "\n",
       "    .dataframe thead th {\n",
       "        text-align: right;\n",
       "    }\n",
       "</style>\n",
       "<table border=\"1\" class=\"dataframe\">\n",
       "  <thead>\n",
       "    <tr style=\"text-align: right;\">\n",
       "      <th></th>\n",
       "      <th>forks</th>\n",
       "      <th>size</th>\n",
       "      <th>subscribers</th>\n",
       "      <th>watchers</th>\n",
       "    </tr>\n",
       "  </thead>\n",
       "  <tbody>\n",
       "    <tr>\n",
       "      <th>count</th>\n",
       "      <td>22330.000000</td>\n",
       "      <td>2.233000e+04</td>\n",
       "      <td>22330.000000</td>\n",
       "      <td>22330.000000</td>\n",
       "    </tr>\n",
       "    <tr>\n",
       "      <th>mean</th>\n",
       "      <td>0.013568</td>\n",
       "      <td>1.720402e-03</td>\n",
       "      <td>0.011914</td>\n",
       "      <td>0.004737</td>\n",
       "    </tr>\n",
       "    <tr>\n",
       "      <th>std</th>\n",
       "      <td>0.034628</td>\n",
       "      <td>4.398662e-03</td>\n",
       "      <td>0.023722</td>\n",
       "      <td>0.015095</td>\n",
       "    </tr>\n",
       "    <tr>\n",
       "      <th>min</th>\n",
       "      <td>0.000000</td>\n",
       "      <td>1.985461e-07</td>\n",
       "      <td>0.000000</td>\n",
       "      <td>0.000000</td>\n",
       "    </tr>\n",
       "    <tr>\n",
       "      <th>25%</th>\n",
       "      <td>0.001224</td>\n",
       "      <td>1.669288e-04</td>\n",
       "      <td>0.002538</td>\n",
       "      <td>0.000150</td>\n",
       "    </tr>\n",
       "    <tr>\n",
       "      <th>50%</th>\n",
       "      <td>0.004552</td>\n",
       "      <td>5.566098e-04</td>\n",
       "      <td>0.005593</td>\n",
       "      <td>0.001011</td>\n",
       "    </tr>\n",
       "    <tr>\n",
       "      <th>75%</th>\n",
       "      <td>0.013471</td>\n",
       "      <td>1.531566e-03</td>\n",
       "      <td>0.012301</td>\n",
       "      <td>0.004406</td>\n",
       "    </tr>\n",
       "    <tr>\n",
       "      <th>max</th>\n",
       "      <td>1.103756</td>\n",
       "      <td>1.211710e-01</td>\n",
       "      <td>0.668134</td>\n",
       "      <td>0.666754</td>\n",
       "    </tr>\n",
       "  </tbody>\n",
       "</table>\n",
       "</div>"
      ],
      "text/plain": [
       "              forks          size   subscribers      watchers\n",
       "count  22330.000000  2.233000e+04  22330.000000  22330.000000\n",
       "mean       0.013568  1.720402e-03      0.011914      0.004737\n",
       "std        0.034628  4.398662e-03      0.023722      0.015095\n",
       "min        0.000000  1.985461e-07      0.000000      0.000000\n",
       "25%        0.001224  1.669288e-04      0.002538      0.000150\n",
       "50%        0.004552  5.566098e-04      0.005593      0.001011\n",
       "75%        0.013471  1.531566e-03      0.012301      0.004406\n",
       "max        1.103756  1.211710e-01      0.668134      0.666754"
      ]
     },
     "execution_count": 7,
     "metadata": {},
     "output_type": "execute_result"
    }
   ],
   "source": [
    "team_profiles_df.describe()"
   ]
  },
  {
   "cell_type": "code",
   "execution_count": 8,
   "metadata": {},
   "outputs": [
    {
     "name": "stdout",
     "output_type": "stream",
     "text": [
      "1.2649124335594584\n"
     ]
    }
   ],
   "source": [
    "import numpy as np\n",
    "\n",
    "def euclidean_distance(p1,p2):\n",
    "    distance = np.linalg.norm(p1[numerics]-p2[numerics])**2\n",
    "    langs = set(p1['languages']).union(p2['languages'])\n",
    "    topics = set(p1['topics']).union(p2['topics'])\n",
    "    p1_langs = pd.Series([lang in p1['languages'] for lang in langs])/np.sqrt(len(langs))\n",
    "    p2_langs = pd.Series([lang in p2['languages'] for lang in langs])/np.sqrt(len(langs))\n",
    "    p1_topics = pd.Series([topic in p1['topics'] for topic in topics])/np.sqrt(len(topics))\n",
    "    p2_topics = pd.Series([topic in p2['topics'] for topic in topics])/np.sqrt(len(topics))\n",
    "    distance += np.linalg.norm(p1_langs-p2_langs)**2 + np.linalg.norm(p1_topics-p2_topics)**2\n",
    "    distance = np.sqrt(distance)\n",
    "    \n",
    "    return distance\n",
    "    \n",
    "p1 = repo_profiles_df.iloc[0]\n",
    "p2 = team_profiles_df.iloc[0]\n",
    "print(euclidean_distance(p1,p2))"
   ]
  },
  {
   "cell_type": "code",
   "execution_count": 9,
   "metadata": {},
   "outputs": [
    {
     "name": "stdout",
     "output_type": "stream",
     "text": [
      "1\n"
     ]
    }
   ],
   "source": [
    "from queue import PriorityQueue\n",
    "\n",
    "team_recommendations = []\n",
    "cnt = 0\n",
    "for repo,repo_profile in repo_profiles_df.iterrows():\n",
    "    cnt += 1\n",
    "    if cnt > 1:\n",
    "        break\n",
    "    print(cnt)\n",
    "    rec = []\n",
    "    queue = PriorityQueue()\n",
    "    for team,team_profile in team_profiles_df.iterrows():\n",
    "        if team in repo_teams[repo]:\n",
    "            continue\n",
    "        dis = euclidean_distance(repo_profile,team_profile)\n",
    "        queue.put_nowait((-dis,team))\n",
    "        if queue.qsize() > 20:\n",
    "            queue.get_nowait()\n",
    "    while queue.qsize()>0:\n",
    "        rec.append(queue.get_nowait())\n",
    "    team_recommendations.append(rec)\n"
   ]
  },
  {
   "cell_type": "code",
   "execution_count": 10,
   "metadata": {
    "scrolled": false
   },
   "outputs": [
    {
     "name": "stdout",
     "output_type": "stream",
     "text": [
      "screwdriver-cd/ui\t[-1.0005736091016377, \"[\\\"yeion7\\\", \\\"jlengstorf\\\", \\\"marisamorby\\\", \\\"mottox2\\\", \\\"nico29\\\", \\\"shinytoyrobots\\\"]\"]\t[-1.0002434789124999, \"[\\\"garris\\\", \\\"shanemcgraw\\\"]\"]\t[-1.0001594986389972, \"[\\\"rauchg\\\", \\\"millette\\\", \\\"albinekb\\\", \\\"mrmartineau\\\", \\\"chabou\\\", \\\"sergiodxa\\\", \\\"leo\\\", \\\"ntwcklng\\\", \\\"flybayer\\\", \\\"aurelienbottazini\\\", \\\"mikemcbride\\\", \\\"timothyis\\\", \\\"ppot\\\", \\\"brandonmp\\\", \\\"matheuss\\\", \\\"henrikdahl\\\", \\\"evilrabbit\\\", \\\"sreeramjayan\\\", \\\"sonnyg\\\", \\\"MAPESO\\\", \\\"neil-orans\\\"]\"]\t[-1.0000202689492503, \"[\\\"LowProfileDog\\\", \\\"jimthoburn\\\", \\\"Taekyoon\\\", \\\"sanghisha145\\\"]\"]\t[-1.0000160678005583, \"[\\\"Pheonix7284\\\", \\\"minimart\\\"]\"]\t[-1.0000124156162071, \"[\\\"Antwnis\\\", \\\"chdask\\\", \\\"andmarios\\\", \\\"jglambed\\\"]\"]\t[-1.0000089474095646, \"[\\\"spencern\\\", \\\"prosf\\\", \\\"duanhong169\\\", \\\"stevaras\\\", \\\"lcampanis\\\", \\\"rhenshaw56\\\", \\\"dancastellon\\\"]\"]\t[-1.0000057822136403, \"[\\\"momchil-sap\\\", \\\"martin-d-aleksandrov\\\"]\"]\t[-1.0000041879656776, \"[\\\"hexparrot\\\", \\\"Siliconheart\\\"]\"]\t[-1.000003293065037, \"[\\\"voischev\\\", \\\"ilyar\\\", \\\"Realetive\\\", \\\"belozer\\\", \\\"vithar\\\", \\\"belyanskii\\\", \\\"imamatory\\\"]\"]\t[-1.0000014361184768, \"[\\\"rivkatzur\\\", \\\"dvorad\\\"]\"]\t[-1.0000014284241088, \"[\\\"mikemurray\\\", \\\"i-a-n\\\", \\\"zenweasel\\\", \\\"cooloney\\\", \\\"hrath2015\\\", \\\"nialexsan\\\", \\\"kieckhafer\\\", \\\"lcampanis\\\", \\\"kieha\\\", \\\"rymorgan\\\", \\\"EpifaniaCollection\\\", \\\"abdulsemiu-atanda\\\", \\\"joykare\\\", \\\"awadesmoline\\\", \\\"impactmass\\\", \\\"jm-wanja\\\", \\\"codejockie\\\", \\\"foladipo\\\", \\\"aanchirinah\\\", \\\"efalayi\\\"]\"]\t[-1.0000013635439127, \"[\\\"magnedavidsen\\\", \\\"ehamberg\\\"]\"]\t[-1.0000009308959308, \"[\\\"tuxpiper\\\", \\\"crcommons\\\", \\\"willdoran\\\", \\\"Angamanga\\\", \\\"rowasc\\\", \\\"kinstelli\\\"]\"]\t[-1.0000007778038502, \"[\\\"abh1kg\\\", \\\"muralisc\\\", \\\"pranjaljain\\\", \\\"subhankarc\\\", \\\"ashishjain14\\\", \\\"akskap\\\", \\\"jagadish-kb\\\", \\\"kamath-prasad\\\", \\\"sauravmndl\\\", \\\"challa\\\", \\\"pritishmishra\\\", \\\"ketakig12\\\", \\\"georgi-lozev\\\", \\\"amitmalav\\\", \\\"aishwaryjoshi94\\\", \\\"jayeshjk\\\"]\"]\t[-1.0000007393930244, \"[\\\"amb26\\\", \\\"maozillah\\\", \\\"georgitodorov\\\"]\"]\t[-1.0000006638732506, \"[\\\"rmeissn\\\", \\\"ali1k\\\", \\\"TBoonX\\\", \\\"bwulff\\\", \\\"abijames\\\", \\\"kadevgraaf\\\", \\\"dpaun\\\", \\\"DaryaTarasowa\\\", \\\"schatzopoulos\\\", \\\"mmeimaris\\\", \\\"stavmars\\\", \\\"sednanref\\\", \\\"kprist\\\", \\\"urashidmir\\\", \\\"athird\\\", \\\"paulbaptista\\\", \\\"huwf\\\"]\"]\t[-1.0000000692699365, \"[\\\"jobara\\\", \\\"cindyli\\\", \\\"michelled\\\", \\\"jhung\\\", \\\"acheetham\\\", \\\"dayotte\\\", \\\"maozillah\\\", \\\"waharnum\\\", \\\"grrrero\\\", \\\"danailbd\\\", \\\"shadxx7\\\"]\"]\t[-1.000000034083581, \"[\\\"dazwin\\\", \\\"rjVapes\\\", \\\"adskjohn\\\", \\\"ADSKLowenthal\\\", \\\"clowenhg\\\", \\\"pashist\\\"]\"]\t[-0.9901120038052749, \"[\\\"nicoder\\\", \\\"hoppy-kamper\\\", \\\"tyleri\\\", \\\"rwieruch\\\", \\\"solojungle\\\", \\\"dnsbty\\\", \\\"nhuntwalker\\\", \\\"wagenaartje\\\", \\\"romerorocha\\\", \\\"mshaaban088\\\", \\\"tienpham94\\\"]\"]\t\n",
      "\n"
     ]
    }
   ],
   "source": [
    "for i,rec in enumerate(team_recommendations):\n",
    "    print(repo_profiles_df.iloc[i].name,end='\\t')\n",
    "    for tm in rec:\n",
    "        print(json.dumps(list(tm)),end='\\t')\n",
    "    print('\\n')"
   ]
  },
  {
   "cell_type": "code",
   "execution_count": null,
   "metadata": {},
   "outputs": [],
   "source": []
  }
 ],
 "metadata": {
  "kernelspec": {
   "display_name": "Python 3",
   "language": "python",
   "name": "python3"
  },
  "language_info": {
   "codemirror_mode": {
    "name": "ipython",
    "version": 3
   },
   "file_extension": ".py",
   "mimetype": "text/x-python",
   "name": "python",
   "nbconvert_exporter": "python",
   "pygments_lexer": "ipython3",
   "version": "3.7.0"
  }
 },
 "nbformat": 4,
 "nbformat_minor": 2
}
