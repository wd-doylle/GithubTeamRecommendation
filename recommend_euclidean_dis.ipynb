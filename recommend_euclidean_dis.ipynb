{
 "cells": [
  {
   "cell_type": "code",
<<<<<<< HEAD
   "execution_count": 16,
=======
   "execution_count": 1,
>>>>>>> c849f31281632f98c226baba69733d917cc315bf
   "metadata": {},
   "outputs": [],
   "source": [
    "import json\n",
    "import pandas as pd\n",
    "\n",
    "repo_profiles = {}\n",
    "with open('repo_profiles.json') as rj:\n",
    "    for rl in rj.readlines():\n",
    "        line = rl.split('\\t')\n",
    "        repo = line[0]\n",
    "        profile = json.loads(line[1])\n",
    "        repo_profiles[repo] = profile\n",
    "    \n",
    "team_profiles = []\n",
    "teams = []\n",
    "with open('team_profiles.json') as tj:\n",
    "    for tl in tj.readlines():\n",
    "        line = tl.split('\\t')\n",
    "        team = json.loads(line[0])\n",
    "        profile = json.loads(line[1])\n",
    "        team_profiles.append(profile)\n",
    "        teams.append(team)"
   ]
  },
  {
   "cell_type": "code",
<<<<<<< HEAD
   "execution_count": 17,
   "metadata": {},
   "outputs": [],
=======
   "execution_count": 2,
   "metadata": {},
   "outputs": [
    {
     "name": "stdout",
     "output_type": "stream",
     "text": [
      "forks                                                1.04356e-05\n",
      "languages      [HTML, Gherkin, Makefile, Python, CSS, Shell, ...\n",
      "size                                                 0.000276069\n",
      "subscribers                                          0.000933925\n",
      "topics                                                          \n",
      "watchers                                             3.37046e-06\n",
      "Name: ccnmtl/uelc, dtype: object\n",
      "languages      [HTML, CSS, Python, JavaScript]\n",
      "forks                              0.000122619\n",
      "size                               2.99895e-05\n",
      "subscribers                         0.00192622\n",
      "watchers                           0.000128078\n",
      "topics                                      []\n",
      "Name: ['AMorporkian', 'kharidiron'], dtype: object\n"
     ]
    }
   ],
>>>>>>> c849f31281632f98c226baba69733d917cc315bf
   "source": [
    "repo_profiles_df = pd.DataFrame(repo_profiles).transpose()\n",
    "repo_profiles_df.fillna('',inplace=True)\n",
    "team_profiles_df = pd.DataFrame(team_profiles,index=[str(t) for t in teams])\n",
    "team_profiles_df.rename(columns={\n",
    "                                   'repo_size':'size',\n",
    "                                   'repo_forks':'forks',\n",
    "                                   'repo_subscribers':'subscribers',\n",
    "                                   'repo_watchers':'watchers',\n",
    "                                   'languages':'languages',\n",
    "                                   'topics':'topics'\n",
    "                               },inplace=True)\n",
<<<<<<< HEAD
    "\n",
    "numerics = ['size','forks','subscribers','watchers']"
=======
    "numerics = ['size','forks','subscribers','watchers']\n",
    "min = repo_profiles_df[numerics].min()\n",
    "max = repo_profiles_df[numerics].max()\n",
    "repo_profiles_df[numerics] = (repo_profiles_df[numerics]-min)/(max-min)\n",
    "team_profiles_df[numerics] = (team_profiles_df[numerics]-min)/(max-min)\n",
    "\n",
    "print(repo_profiles_df.iloc[0])\n",
    "print(team_profiles_df.iloc[0])"
>>>>>>> c849f31281632f98c226baba69733d917cc315bf
   ]
  },
  {
   "cell_type": "code",
<<<<<<< HEAD
   "execution_count": 18,
=======
   "execution_count": 3,
>>>>>>> c849f31281632f98c226baba69733d917cc315bf
   "metadata": {},
   "outputs": [
    {
     "data": {
      "text/plain": [
<<<<<<< HEAD
       "array([[<matplotlib.axes._subplots.AxesSubplot object at 0x0000013E8763E710>,\n",
       "        <matplotlib.axes._subplots.AxesSubplot object at 0x0000013E84D979E8>],\n",
       "       [<matplotlib.axes._subplots.AxesSubplot object at 0x0000013E848670B8>,\n",
       "        <matplotlib.axes._subplots.AxesSubplot object at 0x0000013E844A2748>]],\n",
       "      dtype=object)"
      ]
     },
     "execution_count": 18,
     "metadata": {},
     "output_type": "execute_result"
    },
    {
     "data": {
      "image/png": "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\n",
      "text/plain": [
       "<Figure size 432x288 with 4 Axes>"
      ]
     },
     "metadata": {
      "needs_background": "light"
     },
     "output_type": "display_data"
    }
   ],
   "source": [
    "repo_profiles_df[numerics].hist()"
=======
       "array([[<matplotlib.axes._subplots.AxesSubplot object at 0x000002292CC9FA58>,\n",
       "        <matplotlib.axes._subplots.AxesSubplot object at 0x000002292D1FCBA8>],\n",
       "       [<matplotlib.axes._subplots.AxesSubplot object at 0x000002292D226EF0>,\n",
       "        <matplotlib.axes._subplots.AxesSubplot object at 0x000002292D2574A8>]],\n",
       "      dtype=object)"
      ]
     },
     "execution_count": 3,
     "metadata": {},
     "output_type": "execute_result"
    }
   ],
   "source": [
    "repo_profiles_df.hist()"
>>>>>>> c849f31281632f98c226baba69733d917cc315bf
   ]
  },
  {
   "cell_type": "code",
<<<<<<< HEAD
   "execution_count": 19,
=======
   "execution_count": 4,
>>>>>>> c849f31281632f98c226baba69733d917cc315bf
   "metadata": {},
   "outputs": [
    {
     "data": {
      "text/plain": [
<<<<<<< HEAD
       "array([[<matplotlib.axes._subplots.AxesSubplot object at 0x0000013E833D0390>,\n",
       "        <matplotlib.axes._subplots.AxesSubplot object at 0x0000013E965CDA20>],\n",
       "       [<matplotlib.axes._subplots.AxesSubplot object at 0x0000013E918110F0>,\n",
       "        <matplotlib.axes._subplots.AxesSubplot object at 0x0000013E91819780>]],\n",
       "      dtype=object)"
      ]
     },
     "execution_count": 19,
=======
       "array([[<matplotlib.axes._subplots.AxesSubplot object at 0x000002292D441C50>,\n",
       "        <matplotlib.axes._subplots.AxesSubplot object at 0x000002292D47A8D0>],\n",
       "       [<matplotlib.axes._subplots.AxesSubplot object at 0x000002292D4A3E10>,\n",
       "        <matplotlib.axes._subplots.AxesSubplot object at 0x000002292DB233C8>]],\n",
       "      dtype=object)"
      ]
     },
     "execution_count": 4,
>>>>>>> c849f31281632f98c226baba69733d917cc315bf
     "metadata": {},
     "output_type": "execute_result"
    },
    {
     "data": {
<<<<<<< HEAD
      "image/png": "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\n",
=======
      "image/png": "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\n",
>>>>>>> c849f31281632f98c226baba69733d917cc315bf
      "text/plain": [
       "<Figure size 432x288 with 4 Axes>"
      ]
     },
     "metadata": {
      "needs_background": "light"
     },
     "output_type": "display_data"
    }
   ],
   "source": [
<<<<<<< HEAD
    "team_profiles_df[numerics].hist()"
=======
    "team_profiles_df.hist()"
>>>>>>> c849f31281632f98c226baba69733d917cc315bf
   ]
  },
  {
   "cell_type": "code",
<<<<<<< HEAD
   "execution_count": 15,
   "metadata": {},
   "outputs": [
    {
     "name": "stdout",
     "output_type": "stream",
     "text": [
      "forks                                                2.60891e-05\n",
      "languages                                                       \n",
      "size                                                   9.597e-05\n",
      "subscribers                                            0.0037357\n",
      "topics         [oxygenxml, git, oxygen-standalone-plugin, add...\n",
      "watchers                                             8.08912e-05\n",
      "Name: oxygenxml/oxygen-git-plugin, dtype: object\n",
      "languages      [HTML, CSS, Python, JavaScript]\n",
      "forks                              0.000122619\n",
      "size                               2.99895e-05\n",
      "subscribers                         0.00192622\n",
      "watchers                           0.000128078\n",
      "topics                                      []\n",
      "Name: ['AMorporkian', 'kharidiron'], dtype: object\n"
     ]
    }
   ],
   "source": [
    "min = repo_profiles_df[numerics].min()\n",
    "max = repo_profiles_df[numerics].max()\n",
    "repo_profiles_df[numerics] = (repo_profiles_df[numerics]-min)/(max-min)\n",
    "team_profiles_df[numerics] = (team_profiles_df[numerics]-min)/(max-min)\n",
    "\n",
    "print(repo_profiles_df.iloc[0])\n",
    "print(team_profiles_df.iloc[0])"
   ]
  },
  {
   "cell_type": "code",
   "execution_count": 3,
   "metadata": {
    "scrolled": true
   },
   "outputs": [
    {
=======
   "execution_count": 5,
   "metadata": {},
   "outputs": [
    {
>>>>>>> c849f31281632f98c226baba69733d917cc315bf
     "data": {
      "text/html": [
       "<div>\n",
       "<style scoped>\n",
       "    .dataframe tbody tr th:only-of-type {\n",
       "        vertical-align: middle;\n",
       "    }\n",
       "\n",
       "    .dataframe tbody tr th {\n",
       "        vertical-align: top;\n",
       "    }\n",
       "\n",
       "    .dataframe thead th {\n",
       "        text-align: right;\n",
       "    }\n",
       "</style>\n",
       "<table border=\"1\" class=\"dataframe\">\n",
       "  <thead>\n",
       "    <tr style=\"text-align: right;\">\n",
       "      <th></th>\n",
       "      <th>forks</th>\n",
       "      <th>size</th>\n",
       "      <th>subscribers</th>\n",
       "      <th>watchers</th>\n",
       "    </tr>\n",
       "  </thead>\n",
       "  <tbody>\n",
       "    <tr>\n",
       "      <th>count</th>\n",
<<<<<<< HEAD
       "      <td>181323.000000</td>\n",
       "      <td>181323.000000</td>\n",
       "      <td>181323.000000</td>\n",
       "      <td>181323.000000</td>\n",
       "    </tr>\n",
       "    <tr>\n",
       "      <th>mean</th>\n",
       "      <td>0.000539</td>\n",
       "      <td>0.001451</td>\n",
       "      <td>0.004377</td>\n",
       "      <td>0.001476</td>\n",
       "    </tr>\n",
       "    <tr>\n",
       "      <th>std</th>\n",
       "      <td>0.003829</td>\n",
       "      <td>0.010532</td>\n",
       "      <td>0.015398</td>\n",
       "      <td>0.008520</td>\n",
=======
       "      <td>83013.000000</td>\n",
       "      <td>83013.000000</td>\n",
       "      <td>83013.000000</td>\n",
       "      <td>83013.000000</td>\n",
       "    </tr>\n",
       "    <tr>\n",
       "      <th>mean</th>\n",
       "      <td>0.000705</td>\n",
       "      <td>0.000917</td>\n",
       "      <td>0.005607</td>\n",
       "      <td>0.001829</td>\n",
       "    </tr>\n",
       "    <tr>\n",
       "      <th>std</th>\n",
       "      <td>0.005159</td>\n",
       "      <td>0.005798</td>\n",
       "      <td>0.018888</td>\n",
       "      <td>0.010963</td>\n",
>>>>>>> c849f31281632f98c226baba69733d917cc315bf
       "    </tr>\n",
       "    <tr>\n",
       "      <th>min</th>\n",
       "      <td>0.000000</td>\n",
       "      <td>0.000000</td>\n",
       "      <td>0.000000</td>\n",
       "      <td>0.000000</td>\n",
       "    </tr>\n",
       "    <tr>\n",
       "      <th>25%</th>\n",
<<<<<<< HEAD
       "      <td>0.000005</td>\n",
       "      <td>0.000011</td>\n",
       "      <td>0.000350</td>\n",
       "      <td>0.000000</td>\n",
       "    </tr>\n",
       "    <tr>\n",
       "      <th>50%</th>\n",
       "      <td>0.000078</td>\n",
       "      <td>0.000072</td>\n",
       "      <td>0.001401</td>\n",
       "      <td>0.000044</td>\n",
       "    </tr>\n",
       "    <tr>\n",
       "      <th>75%</th>\n",
       "      <td>0.000297</td>\n",
       "      <td>0.000483</td>\n",
       "      <td>0.003736</td>\n",
       "      <td>0.000509</td>\n",
=======
       "      <td>0.000026</td>\n",
       "      <td>0.000010</td>\n",
       "      <td>0.000934</td>\n",
       "      <td>0.000010</td>\n",
       "    </tr>\n",
       "    <tr>\n",
       "      <th>50%</th>\n",
       "      <td>0.000120</td>\n",
       "      <td>0.000056</td>\n",
       "      <td>0.002101</td>\n",
       "      <td>0.000091</td>\n",
       "    </tr>\n",
       "    <tr>\n",
       "      <th>75%</th>\n",
       "      <td>0.000381</td>\n",
       "      <td>0.000371</td>\n",
       "      <td>0.004786</td>\n",
       "      <td>0.000650</td>\n",
>>>>>>> c849f31281632f98c226baba69733d917cc315bf
       "    </tr>\n",
       "    <tr>\n",
       "      <th>max</th>\n",
       "      <td>1.000000</td>\n",
       "      <td>1.000000</td>\n",
       "      <td>1.000000</td>\n",
       "      <td>1.000000</td>\n",
       "    </tr>\n",
       "  </tbody>\n",
       "</table>\n",
       "</div>"
      ],
      "text/plain": [
<<<<<<< HEAD
       "               forks           size    subscribers       watchers\n",
       "count  181323.000000  181323.000000  181323.000000  181323.000000\n",
       "mean        0.000539       0.001451       0.004377       0.001476\n",
       "std         0.003829       0.010532       0.015398       0.008520\n",
       "min         0.000000       0.000000       0.000000       0.000000\n",
       "25%         0.000005       0.000011       0.000350       0.000000\n",
       "50%         0.000078       0.000072       0.001401       0.000044\n",
       "75%         0.000297       0.000483       0.003736       0.000509\n",
       "max         1.000000       1.000000       1.000000       1.000000"
      ]
     },
     "execution_count": 3,
=======
       "              forks          size   subscribers      watchers\n",
       "count  83013.000000  83013.000000  83013.000000  83013.000000\n",
       "mean       0.000705      0.000917      0.005607      0.001829\n",
       "std        0.005159      0.005798      0.018888      0.010963\n",
       "min        0.000000      0.000000      0.000000      0.000000\n",
       "25%        0.000026      0.000010      0.000934      0.000010\n",
       "50%        0.000120      0.000056      0.002101      0.000091\n",
       "75%        0.000381      0.000371      0.004786      0.000650\n",
       "max        1.000000      1.000000      1.000000      1.000000"
      ]
     },
     "execution_count": 5,
>>>>>>> c849f31281632f98c226baba69733d917cc315bf
     "metadata": {},
     "output_type": "execute_result"
    }
   ],
   "source": [
    "repo_profiles_df.describe()"
   ]
  },
  {
   "cell_type": "code",
<<<<<<< HEAD
   "execution_count": 4,
=======
   "execution_count": 6,
>>>>>>> c849f31281632f98c226baba69733d917cc315bf
   "metadata": {},
   "outputs": [
    {
     "data": {
      "text/html": [
       "<div>\n",
       "<style scoped>\n",
       "    .dataframe tbody tr th:only-of-type {\n",
       "        vertical-align: middle;\n",
       "    }\n",
       "\n",
       "    .dataframe tbody tr th {\n",
       "        vertical-align: top;\n",
       "    }\n",
       "\n",
       "    .dataframe thead th {\n",
       "        text-align: right;\n",
       "    }\n",
       "</style>\n",
       "<table border=\"1\" class=\"dataframe\">\n",
       "  <thead>\n",
       "    <tr style=\"text-align: right;\">\n",
       "      <th></th>\n",
       "      <th>forks</th>\n",
       "      <th>size</th>\n",
       "      <th>subscribers</th>\n",
       "      <th>watchers</th>\n",
       "    </tr>\n",
       "  </thead>\n",
       "  <tbody>\n",
       "    <tr>\n",
       "      <th>count</th>\n",
       "      <td>22330.000000</td>\n",
       "      <td>2.233000e+04</td>\n",
       "      <td>22330.000000</td>\n",
       "      <td>22330.000000</td>\n",
       "    </tr>\n",
       "    <tr>\n",
       "      <th>mean</th>\n",
       "      <td>0.001999</td>\n",
       "      <td>1.710201e-03</td>\n",
       "      <td>0.011510</td>\n",
       "      <td>0.004689</td>\n",
       "    </tr>\n",
       "    <tr>\n",
       "      <th>std</th>\n",
       "      <td>0.004260</td>\n",
       "      <td>4.203524e-03</td>\n",
       "      <td>0.020819</td>\n",
       "      <td>0.014758</td>\n",
       "    </tr>\n",
       "    <tr>\n",
       "      <th>min</th>\n",
       "      <td>0.000000</td>\n",
       "      <td>3.429433e-07</td>\n",
       "      <td>0.000000</td>\n",
       "      <td>0.000000</td>\n",
       "    </tr>\n",
       "    <tr>\n",
       "      <th>25%</th>\n",
       "      <td>0.000245</td>\n",
       "      <td>1.999221e-04</td>\n",
       "      <td>0.002815</td>\n",
       "      <td>0.000240</td>\n",
       "    </tr>\n",
       "    <tr>\n",
       "      <th>50%</th>\n",
       "      <td>0.000789</td>\n",
       "      <td>6.011164e-04</td>\n",
       "      <td>0.005915</td>\n",
       "      <td>0.001209</td>\n",
       "    </tr>\n",
       "    <tr>\n",
       "      <th>75%</th>\n",
       "      <td>0.002131</td>\n",
       "      <td>1.573824e-03</td>\n",
       "      <td>0.012524</td>\n",
       "      <td>0.004808</td>\n",
       "    </tr>\n",
       "    <tr>\n",
       "      <th>max</th>\n",
       "      <td>0.143161</td>\n",
       "      <td>1.714984e-01</td>\n",
       "      <td>0.736896</td>\n",
       "      <td>0.750063</td>\n",
       "    </tr>\n",
       "  </tbody>\n",
       "</table>\n",
       "</div>"
      ],
      "text/plain": [
       "              forks          size   subscribers      watchers\n",
       "count  22330.000000  2.233000e+04  22330.000000  22330.000000\n",
       "mean       0.001999  1.710201e-03      0.011510      0.004689\n",
       "std        0.004260  4.203524e-03      0.020819      0.014758\n",
       "min        0.000000  3.429433e-07      0.000000      0.000000\n",
       "25%        0.000245  1.999221e-04      0.002815      0.000240\n",
       "50%        0.000789  6.011164e-04      0.005915      0.001209\n",
       "75%        0.002131  1.573824e-03      0.012524      0.004808\n",
       "max        0.143161  1.714984e-01      0.736896      0.750063"
      ]
     },
<<<<<<< HEAD
     "execution_count": 4,
=======
     "execution_count": 6,
>>>>>>> c849f31281632f98c226baba69733d917cc315bf
     "metadata": {},
     "output_type": "execute_result"
    }
   ],
   "source": [
    "team_profiles_df.describe()"
   ]
  },
  {
   "cell_type": "code",
<<<<<<< HEAD
   "execution_count": 5,
=======
   "execution_count": 7,
>>>>>>> c849f31281632f98c226baba69733d917cc315bf
   "metadata": {},
   "outputs": [
    {
     "name": "stdout",
     "output_type": "stream",
     "text": [
<<<<<<< HEAD
      "1.4142147256033752\n"
=======
      "0.7071075401534226\n"
>>>>>>> c849f31281632f98c226baba69733d917cc315bf
     ]
    }
   ],
   "source": [
    "import numpy as np\n",
    "\n",
    "def euclidean_distance(p1,p2):\n",
    "    distance = np.linalg.norm(p1[numerics]-p2[numerics])**2\n",
    "    langs = set(p1['languages']).union(p2['languages'])\n",
    "    topics = set(p1['topics']).union(p2['topics'])\n",
    "    p1_langs = pd.Series([lang in p1['languages'] for lang in langs])/np.sqrt(len(langs))\n",
    "    p2_langs = pd.Series([lang in p2['languages'] for lang in langs])/np.sqrt(len(langs))\n",
    "    p1_topics = pd.Series([topic in p1['topics'] for topic in topics])/np.sqrt(len(topics))\n",
    "    p2_topics = pd.Series([topic in p2['topics'] for topic in topics])/np.sqrt(len(topics))\n",
    "    distance += np.linalg.norm(p1_langs-p2_langs)**2 + np.linalg.norm(p1_topics-p2_topics)**2\n",
    "    distance = np.sqrt(distance)\n",
    "    \n",
    "    return distance\n",
    "    \n",
    "p1 = repo_profiles_df.iloc[0]\n",
    "p2 = team_profiles_df.iloc[0]\n",
    "print(euclidean_distance(p1,p2))"
   ]
  },
  {
   "cell_type": "code",
<<<<<<< HEAD
   "execution_count": 6,
=======
   "execution_count": 8,
>>>>>>> c849f31281632f98c226baba69733d917cc315bf
   "metadata": {},
   "outputs": [
    {
     "name": "stdout",
     "output_type": "stream",
     "text": [
      "1\n",
      "2\n",
      "3\n",
      "4\n",
      "5\n",
      "6\n",
      "7\n",
      "8\n",
      "9\n",
      "10\n"
     ]
    }
   ],
   "source": [
    "from queue import PriorityQueue\n",
    "\n",
    "team_recommendations = []\n",
    "cnt = 0\n",
    "for repo,repo_profile in repo_profiles_df.iterrows():\n",
    "    cnt += 1\n",
    "    if cnt > 10:\n",
    "        break\n",
    "    print(cnt)\n",
    "    rec = []\n",
    "    queue = PriorityQueue()\n",
    "    for team,team_profile in team_profiles_df.iterrows():\n",
    "        dis = euclidean_distance(repo_profile,team_profile)\n",
    "        queue.put_nowait((-dis,team))\n",
    "        if queue.qsize() > 20:\n",
    "            queue.get_nowait()\n",
    "    while queue.qsize()>0:\n",
    "        rec.append(queue.get_nowait())\n",
    "    team_recommendations.append(rec)\n"
   ]
  },
  {
   "cell_type": "code",
<<<<<<< HEAD
   "execution_count": 7,
=======
   "execution_count": 9,
>>>>>>> c849f31281632f98c226baba69733d917cc315bf
   "metadata": {
    "scrolled": false
   },
   "outputs": [
    {
     "name": "stdout",
     "output_type": "stream",
     "text": [
<<<<<<< HEAD
      "oxygenxml/oxygen-git-plugin\t(-1.0000000073497037, \"['tspenov', 'LucoLe']\")\t(-1.0000000056802527, \"['tiagoshibata', 'ppathan', 'spryor', 'avanikp', 'mechaffin', 'isaac73', 'hathind-ms']\")\t(-1.0000000038092847, \"['JoanClaret', 'PablitoGS', 'nguasch', 'beatrizip', 'siscu']\")\t(-0.9929359497256668, \"['kivervinicius', 'shadowmaru', 'alinebastos', 'khaosdoctor', 'WendellAdriel', 'wilcorrea', 'angeliski', 'mikaelhadler', 'adeonir', 'giovannicruz97', 'lbighetti', 'lflimeira', 'kellfluz', 'Diego-Brocanelli', 'pacheco7']\")\t(-0.9746798367656732, \"['Hx66', 'mkruijt', 'Razpudding', 'ChrisOwen101', 'fversnel', 'eidosam']\")\t(-0.9661029323122489, \"['MartinHelmut', 'kotzendekrabbe', 'Alexpeschel']\")\t(-0.9636280149061522, \"['arjunkharbanda', '2jiwon', 'SamirJouni', 'ktran031', 'dimitristsaknakis']\")\t(-0.963625899760768, \"['rabinrai44', 'aneagoie', 'thisisabdus', 'drood87', 'MattCSmith', 'juliangilquin', 'skylar01', 'tonydc1997']\")\t(-0.9607725975606737, \"['alexanmtz', 'mthais', 'lucianojfj']\")\t(-0.9607694047726144, \"['tedchamb', 'wnjenkin']\")\t(-0.9538799615486232, \"['outofambit', 'aaronshekey']\")\t(-0.9534660238867818, \"['piedcipher', 'kkdroidgit', 'OjasviBhargava', 'vaishnavi-janardhan', 'sabdar18', 'kartikohri1712', 'Yashsonisoni', 'lifeLessCoder', 'ravishankar97']\")\t(-0.9486848727252053, \"['tkaria', 'daanaerts']\")\t(-0.9258719464434662, \"['FraGoTe', 'arslanbilal', 'wzhishen', 'awesome-bot', 'spyshiv', 'parrainc', 'biyiklioglu']\")\t(-0.9258261506608181, \"['y-zaky', 'mineshmshah']\")\t(-0.9258232920182698, \"['eliascodes', 'AseelM', 'BartBucknill', 'AbdullahChaudhry']\")\t(-0.9258225759959695, \"['jsms90', 'rebecacalvoquintero', 'rachaelcodes', 'ameliejyc', 'astroash', 'Jen-Harris', 'azayneeva', 'maxgerber', 'dangerdak', 'shannonjensen']\")\t(-0.925821666457658, \"['m4v15', 'macintoshhelper', 'Heathercoraje', 'sajedazoabi', 'matthewdking', 'KatiaAsh', 'rinoma', 'idantb101', 'Amirk390', 'lucymk', 'vlbee']\")\t(-0.925821417749809, \"['M3kH', 'remarcmij', 'malnajar', 'wouterkleijn']\")\t(-0.9258213059959588, \"['mattlub', 'JWLD', 'm4v15', 'Suuuuha', 'philawsophizing', 'RQ16', 'HilbertSpitzer', 'Karyum', 'MohamedOmarii']\")\t\n",
      "\n",
      "yang163email/LearningNotes\t(-0.00018899800976598767, \"['pengchengan', 'jjamay']\")\t(-0.00018522326953321995, \"['jemaf', 'arthurbrito99', 'wendervitor', 'raul4247', 'gustavo-depaula']\")\t(-0.00017958766937252273, \"['wisegb', 'graichen']\")\t(-0.00017829623644781946, \"['zactimeinc', 'cjmurphy42']\")\t(-0.00017820634882333427, \"['samfalconer', 'asmasattar', 'Jeremy-Friedman', 'amk5401']\")\t(-0.00017745188394865707, \"['egyptianbman', 'renuzit']\")\t(-0.000175660766263038, \"['viviant100', 'vickymyers', 'loriNakamura']\")\t(-0.0001713788131742423, \"['Gaohaoyang', 'TangMingliang95']\")\t(-0.00016275243724183232, \"['zenghou', 'HanYaodong']\")\t(-0.00014464688167234956, \"['franciscofranco', 'anton0kurilov']\")\t(-0.00012675267046170793, \"['jluangphasy', 'cmd-kvn']\")\t(-0.0001228403454719345, \"['brianlmacdonald', 'jvpepino', 'apdjz']\")\t(-0.00012029555501961326, \"['janie-t', 'anna-marie-vos', 'lucas-wills', 'MeghanHughes']\")\t(-0.00011944173961541404, \"['mtferreira', 'lucasinfoh']\")\t(-0.00011819204596219795, \"['dlozanoarenal', 'rcarballoc']\")\t(-0.00011785764048331526, \"['Mortymus', 'ingokru']\")\t(-0.00011785764048331526, \"['mmoscher', 'da-snap']\")\t(-0.00011697013947334562, \"['subdavis', 'cconsidine']\")\t(-8.286283469993914e-05, \"['Beeert', 'WhiteWolf3500']\")\t(-5.853082562850996e-05, \"['jiexray', '18822265922']\")\t\n",
      "\n",
      "swift-nav/librtcm\t(-0.7453598015230589, \"['casallas', 'rpavlik', 'Oberon00', 'vdudouyt', 'janoc', 'sradigan', 'cpldcpu']\")\t(-0.7453586676325212, \"['kimmoli', 'sledges', 'Nokius', 'martinbrook', 'alinelena', 'krnlyng', 'mlehtima', 'ballock']\")\t(-0.7071756543834669, \"['vuvova', 'kevgs', 'svoj', 'elenst', 'midenok', 'knielsen', 'dr-m', 'abarkov', 'sanja-byelkin', 'montywi', 'dbart']\")\t(-0.7071592244059751, \"['timthirion', 'bastienjacquet']\")\t(-0.7071524937103597, \"['fumieval', 'aavogt', 'jstolarek']\")\t(-0.707115380306641, \"['pinotree', 'HenryMiller1']\")\t(-0.707114293229157, \"['sumeet-jain-engineer', 'andrew-elder', 'grandcat', 'intel-ethernet', 'pinealservo', 'davidcemin', 'jdkoftinoff', 'MarcinMiklas', 'christopher-s-hall', 'kencarlino', 'RikusW', 'cirust20', 'mprinn', 'k-gupta', 'rhii', 'bdthomsen', 'jfornal', 'daejungkim', 'PawelModrzejewski', 'vvacharya', 'aditpape', 'freddeng', 'jongwook-lee']\")\t(-0.7071110566189798, \"['a-ilango', 'sydidelot', 'JoZie', 'aingerson', 'dmitrygladkov', 'vkrishna', 'fzago-cray']\")\t(-0.7071096723022171, \"['davidgfnet', 'artart78']\")\t(-0.7071087085567079, \"['cadejager', 'jti-lanl', 'gransom']\")\t(-0.7071086005450822, \"['kristiana-rendon', 'thewacokid', 'wfvining', 'jschlind411', 'gmfricke', 'Antonio-Griego', 'akilandrews', 'JCHJones']\")\t(-0.7071084737556828, \"['liesrock', 'alaurenzi', 'duncanjovial', 'nkashiri', 'm-shahbazi']\")\t(-0.7071082606746788, \"['cdondrup', 'mudrole1', 'heuristicus', 'MFernandezCarmona']\")\t(-0.7071074537397494, \"['LoicCadour', 'fcollot', 'msermesant', 'mathildemerle', 'mjuhoor', 'juliencastelneau']\")\t(-0.7071074537397494, \"['fvichot', 'papadop', 'ocommowi']\")\t(-0.7071070405486111, \"['wkrzemien', 'Alvarness', 'alekgajos', 'wictus', 'grey277', 'kkacprzak']\")\t(-0.6546955705787857, \"['donatieng', 'ithinuel', 'studavekar', 'maciejbocianski', 'fkjagodzinski', 'mprse', 'cmonr', 'jamesbeyond', 'hug-dev', 'gaborkertesz', 'shuoo']\")\t(-0.6546753410409201, \"['ahornung', 'christian-rauch', 'felixendres', 'wxmerkt', 'gtinchev']\")\t(-0.6546660722462896, \"['garyservin', 'tulku', 'romainreignier']\")\t(-0.5773503614349297, \"['bobismijnnaam', 'DennisdeW']\")\t\n",
      "\n",
      "bluepeppers/archey3\t(-0.0019245029830259907, \"['jagranata', 'jianli']\")\t(-0.0017329503371566264, \"['KaijenHsiao', 'po1', 'haidai', 'cinchcircuits', 'pbaughman']\")\t(-0.0016368274410379605, \"['tackin', 'vidister']\")\t(-0.0016361763385786922, \"['pchaigno', 'memelet', 'cpliakas', 'awailly', 'paskl47', 'eastokes']\")\t(-0.00145776836428983, \"['NicoHinderling', 'a--hoang', 'lkwatson', 'agoncharova', 'mhendrick98', 'maridematte']\")\t(-0.001402905814601604, \"['KhasanovBI', 'karitra']\")\t(-0.0011469906847299983, \"['sampathP', 'muroi']\")\t(-0.0011030784224908652, \"['zamiam69', 'zsoltn']\")\t(-0.0009652761934083076, \"['DeeJay', 'helenlynn', 'topshed', 'Dan-himself', 'tracygardner', 'jonwitts', 'lawsie', 'jameshay1']\")\t(-0.0007336628787854428, \"['tribeiro', 'wschoenell', 'phsilva', 'ankanaan']\")\t(-0.000678843411729864, \"['bobh0303', 'nrsiward']\")\t(-0.000596521175619684, \"['mfenniak', 'tlocke']\")\t(-0.0005456251683325647, \"['willfurnass', 'ptheywood', 'anthonybrookfield', 'mondus', 'twinkarma']\")\t(-0.0005442991893096149, \"['caohhung', 'martin-ducar-gd']\")\t(-0.000490602749258152, \"['weylin', 'katagatame']\")\t(-0.00043178184859916035, \"['StoneyJackson', 'andrewgalisa', 'collaj']\")\t(-0.0003852391645631178, \"['adamdevigili', 'TrevorBreton']\")\t(-0.0002961561658852518, \"['ldcastell', 'mwturvey']\")\t(-0.00025593854006429536, \"['Exterminus', 'Lucasgscruz']\")\t(-0.00012358322244106456, \"['philadams', 'Lertsenem', 'eeveeta', 'robertpateii', 'synacktic']\")\t\n",
      "\n",
      "exynos5410/android_device_samsung_ja3gduosctc\t(-0.00010883740991527135, \"['viviant100', 'vickymyers', 'loriNakamura']\")\t(-0.0001087743089087949, \"['jiexray', '18822265922']\")\t(-0.00010649246143563633, \"['zactimeinc', 'cjmurphy42']\")\t(-0.00010550116796546835, \"['mtferreira', 'lucasinfoh']\")\t(-0.00010395205459669672, \"['chuan9', 'nevets963', 'wagmarcel', 'arkocal', 'jelyoussefi', 'stevenbriscoe']\")\t(-9.956272488261969e-05, \"['dlozanoarenal', 'rcarballoc']\")\t(-9.800628166206812e-05, \"['jluangphasy', 'cmd-kvn']\")\t(-9.696898639688602e-05, \"['egyptianbman', 'renuzit']\")\t(-9.215095205495472e-05, \"['subdavis', 'cconsidine']\")\t(-8.75058326734126e-05, \"['Gaohaoyang', 'TangMingliang95']\")\t(-8.601300354695211e-05, \"['laurentvaills', 'sauthieg', 'violette']\")\t(-8.59254728072279e-05, \"['samfalconer', 'asmasattar', 'Jeremy-Friedman', 'amk5401']\")\t(-8.111707212309615e-05, \"['wisegb', 'graichen']\")\t(-8.064581777341048e-05, \"['Mortymus', 'ingokru']\")\t(-8.064581777341048e-05, \"['mmoscher', 'da-snap']\")\t(-7.091499531216674e-05, \"['grantcm', 'LauY99', 'aali195']\")\t(-7.091092859383412e-05, \"['Beeert', 'WhiteWolf3500']\")\t(-6.849134896074689e-05, \"['janie-t', 'anna-marie-vos', 'lucas-wills', 'MeghanHughes']\")\t(-6.368864569836159e-05, \"['pengchengan', 'jjamay']\")\t(-5.7889882789435215e-05, \"['brianlmacdonald', 'jvpepino', 'apdjz']\")\t\n",
      "\n",
      "Flet/standard-engine\t(-0.0012179310824598304, \"['bobeagan', 'chrisshiplet', 'chrisheninger']\")\t(-0.0012117286332342506, \"['courtenayt', 'rfriedel']\")\t(-0.0011701516620898375, \"['tkdan235', 'fshost', 'AckerApple']\")\t(-0.0010355395717727186, \"['glenselle', 'yawetse', 'tom5191', 'hortondust']\")\t(-0.0009467499536113472, \"['theoephraim', 'josmcg']\")\t(-0.0008869639512488896, \"['BrunoCartier', 'JohnCoker']\")\t(-0.0008263830199973958, \"['nicolashemonic', 'cruikshj']\")\t(-0.0008169102585816972, \"['tsironis', 'eavgerinos', 'KhaledElAnsari']\")\t(-0.0007821318140682443, \"['Yogu', 'syzer', 'Zertz', 'florianholzapfel', 'dvlsg', 'wesratcliff', 'smirea']\")\t(-0.000720316672361047, \"['s100', 'mattbaileyuk']\")\t(-0.000705463606009336, \"['samaxes', 'AlexDisler', 'tiagorico']\")\t(-0.0006470734788906655, \"['openam', 'mashu-daishi']\")\t(-0.0006453405420624588, \"['pchuri', 'mdravida19']\")\t(-0.0006222516580790483, \"['samuelralak', 'janat08', 'anbud', 'paranoico', 'gazhayes', 'geekyd', 'AshHimself', 'MadanBhandari', 'chamidu-supeshala']\")\t(-0.0005554724068922053, \"['gregra81', 'cyrillef', 'rozman1234', 'zivSher']\")\t(-0.0004759907520401848, \"['benjaminparnell', 'benedfit', 'jackbrewer']\")\t(-0.0004535517997789263, \"['jonpacker', 'NukaPunk']\")\t(-0.0004353212952628186, \"['underscorebrody', 'jintoppy']\")\t(-0.00020522581422663884, \"['brozeph', 'rmomii']\")\t(-0.00015094436662245909, \"['lukasz-wronski', 'hajekj', 'kalieye', 'jsmilovic']\")\t\n",
      "\n",
      "potree/PotreeConverter\t(-0.7637977990439457, \"['jasiek', 'marksteward', 'JasperWallace']\")\t(-0.7637796225924666, \"['quozl', 'AlanJAS', 'vikramahuja1001', 'ezequielpereira', 'devAbnull', 'rdrsadhu', 'dnarvaez', 'cristian99garcia', 'ortegaps', 'zeecoder606', 'vipulgupta2048', 'yashagrawal3', 'octamois', 'shivamchadha', 'pro-panda', 'avinashbharti97']\")\t(-0.7637748840603187, \"['sgress454', 'andyhu', 'vohof', 'boogerlad', 'Karnith', 'gayanhewa', 'thomasdashney', 'delight', 'Rafi993', 'pekpon', 'acekat', 'thecjharries']\")\t(-0.7637677165442605, \"['casallas', 'rpavlik', 'Oberon00', 'vdudouyt', 'janoc', 'sradigan', 'cpldcpu']\")\t(-0.7637656477620024, \"['rdegges', 'jheld', 'sasakalaba', 'tom-smith-okta']\")\t(-0.7637642265423586, \"['kossebau', 'adityab', 'piggz']\")\t(-0.7637631820871917, \"['apiri', 'randerzander', 'jdye64', 'thesolson', 'ottobackwards', 'achristianson']\")\t(-0.7388121422226158, \"['ccrisan', 'jogu', 'jasaw', 'inodlite']\")\t(-0.7385717004342754, \"['scottrobertson', 'marcqualie', 'MatthewBooth']\")\t(-0.7385628001652176, \"['xoarinn', 'Honeybunch', 'MattGuerrette', 'JamesMarcil']\")\t(-0.7385525176786988, \"['bougyman', 'the-maldridge', 'CMB', 'benkasminbullock', 'enguerrand', 'kulinacs', 'masato9000']\")\t(-0.7385521833477364, \"['threeqube', 'cmcavoy', 'samdoshi', 'tehn', 'scanner-darkly', 'burnsauce']\")\t(-0.7385512126109482, \"['taoeffect', 'phelixbtc', 'ryancdotorg', 'shannona']\")\t(-0.7385500609103987, \"['tzlaine', 'ned14', 'ldionne', 'blastrock', 'viboes', 'akrzemi1']\")\t(-0.7342718308122501, \"['xfxyjwf', 'mcos', 'markmandel', 'drobertduke', 'xyzzyz', 'mehrdada']\")\t(-0.7338037917544675, \"['igracia', 'jcaden', 'sancane', 'rbenitez', 'mparis', 'dfernandezlop', 'rvlad', 'pabuhler']\")\t(-0.674218203499215, \"['samdroid-apps', 'goutamnair7', 'godiard', 'tchx84', 'nemesiscodex', 'inkyfingers', 'FGrose', 'Boquete', 'ezequielpereira']\")\t(-0.6742074973746109, \"['requires', 'dshafik', 'zghosts', 'Webysther']\")\t(-0.6742005134629507, \"['rogueSkib', 'mgh', 'fairfieldt', 'lunarraid', 'yofreke', 'ravitejag', 'AlexTiTanium']\")\t(-0.6030794949418081, \"['Dees-Troy', 'CaptainThrowback', 'Kra1o5', 'bigbiff', 'andi34', 'nailyk-fr', 'djselbeck', 'that1', 'kotzir', 'steadfasterX', 'drmarble', 'ThePiGuy0']\")\t\n",
      "\n",
      "ValLaboratory/dokushokai\t(-0.000378811278053254, \"['qeqar', 'elementyang']\")\t(-0.00036753209169819445, \"['davelcpanelnet', 'naptastic']\")\t(-0.0003605332501183328, \"['RedSquirrelious', 'macrobug', 'pdimitratos', 'zhz2017']\")\t(-0.0003531994079251676, \"['cziegeler', 'jsedding']\")\t(-0.0003144638524767344, \"['nukaga', 'fumikito', 'lunaluna']\")\t(-0.00031182268525165177, \"['prasanthhs', 'guru5590', 'divyasrinivasan1986']\")\t(-0.0003105457632041812, \"['chadbratton', 'sivaOSI', 'brunoOSI', 'pierreOSI', 'VinhOSI', 'amanbop']\")\t(-0.000294709513271691, \"['deadlyicon', 'punitrathore', 'lumodon', 'DianaVashti', 'mKleinCreative', 'TrevorJamesH']\")\t(-0.0002850909822644533, \"['hharnisc', 'hamstu', 'kiriappeee', 'msanroman']\")\t(-0.00027203600428715046, \"['alasarr', 'ignaciodomingo', 'isapozuelo', 'padawannn', 'alejandrohall', 'josemazo', 'Josmorsot', 'dandelea', 'ajaest', 'borjaeguia']\")\t(-0.0002713260324690977, \"['TheYorkWei', 'Lokicity']\")\t(-0.00023222975324003057, \"['nicdoye', 'melahn']\")\t(-0.0002153564208978166, \"['panlinux', 'powersj', 'simpoir']\")\t(-0.00018324912092260615, \"['astolzberg', 'seanpg94']\")\t(-0.00017669561595915433, \"['unamaria', 'stewest']\")\t(-0.0001472352094057082, \"['edgibbs', 'Sushmareddy-OSI', 'eckdanny-osi', 'mlipardo', 'RamuKammagani-osi', 'karthik-sista']\")\t(-8.185424156409425e-05, \"['stefancocora', 'lbennett-hod', 'hod-shcraigen', 'andymarke']\")\t(-8.006244216133212e-05, \"['johntconklin', 'amybuck', 'jghalam', 'hpersh']\")\t(-7.402273204508341e-05, \"['rakeshdatta', 'GarrickHe', 'atanu-mandal', 'theucke']\")\t(-1.8713788852639835e-05, \"['KonstantinRyazantsev', 'AntonSivov', 'andrey-anokhin']\")\t\n",
      "\n",
      "nhibberd/mismi\t(-0.0001312783975903483, \"['callovarne', 'jcowley']\")\t(-0.00012087104346070295, \"['stein321', 'ebracho', 'xiiishaneiiix']\")\t(-0.00011844895827583785, \"['megducharme', 'therealrmac', 'ollieOsh']\")\t(-0.00011808074365024756, \"['diafygi', 'nuxi']\")\t(-8.825709422057414e-05, \"['pengchengan', 'jjamay']\")\t(-8.124005114154323e-05, \"['chuan9', 'nevets963', 'wagmarcel', 'arkocal', 'jelyoussefi', 'stevenbriscoe']\")\t(-7.811902156100403e-05, \"['Beeert', 'WhiteWolf3500']\")\t(-6.825827506407956e-05, \"['wisegb', 'graichen']\")\t(-6.545011615626537e-05, \"['samfalconer', 'asmasattar', 'Jeremy-Friedman', 'amk5401']\")\t(-6.237215307775596e-05, \"['zactimeinc', 'cjmurphy42']\")\t(-6.0182761683205116e-05, \"['jiexray', '18822265922']\")\t(-5.9060617693407735e-05, \"['viviant100', 'vickymyers', 'loriNakamura']\")\t(-3.9621789792751665e-05, \"['jluangphasy', 'cmd-kvn']\")\t(-3.4344673079180196e-05, \"['brianlmacdonald', 'jvpepino', 'apdjz']\")\t(-2.2810074987114717e-05, \"['janie-t', 'anna-marie-vos', 'lucas-wills', 'MeghanHughes']\")\t(-1.9847686925131236e-05, \"['mtferreira', 'lucasinfoh']\")\t(-1.563513396660081e-05, \"['dlozanoarenal', 'rcarballoc']\")\t(-1.4545316084383865e-05, \"['Mortymus', 'ingokru']\")\t(-1.4545316084383865e-05, \"['mmoscher', 'da-snap']\")\t(-8.851119117580158e-06, \"['subdavis', 'cconsidine']\")\t\n",
      "\n",
      "bull-mountain/hangoutsbot\t(-0.0018161946546974364, \"['hynek-urban', 'JirkaChadima']\")\t(-0.0018128579099316354, \"['mwhamgenomics', 'tcezard', 'paalmbj', 'katieemelianova']\")\t(-0.001697355202701045, \"['tebica', 'darjeeling', 'NohSeho', 'channprj', 'woojing', 'kucuny', 'Curzy', 'rikapo', 'iiogmgo', '0x1f440', 'makeajourney']\")\t(-0.001693575957891479, \"['christopherjwang', 'JasonStoltz']\")\t(-0.0015642764058879778, \"['MrSprigster', 'StateOfTheArt89']\")\t(-0.001536376963000561, \"['sinchb', 'taiyangc']\")\t(-0.0014681394721403097, \"['aldreth', 'ninaszymor']\")\t(-0.0014063311082635444, \"['kcratie', 'birdyhuang', 'JaikrishnaTS']\")\t(-0.0013968221366564663, \"['thomasgoirand', 'edmondsw']\")\t(-0.001163181595287445, \"['kstrauser', 'jvantuyl']\")\t(-0.0010939223422579672, \"['tjone270', 'em92']\")\t(-0.0010429896334004025, \"['hansmosh', 'bschnelle', 'kevincrabbe', 'cowleyk', 'karenbowen', 'ssclay']\")\t(-0.0010429896334004025, \"['mattdodge', 'adiazg', 'f1401martin', 'kyliedale', 'jennyknuth', 'tlugger', 'deliciousmonster', 'aaronranard']\")\t(-0.0010092751167999731, \"['tyoungNIO', 'dorzel']\")\t(-0.0009712571630650181, \"['seawolf42', 'costrouc', 'chalmerlowe', '808kimosan', 'JohnJohnsonIII']\")\t(-0.0007060926412916452, \"['mape2k', 'izzy']\")\t(-0.0005460411356278816, \"['lawrancejing', 'mhuin']\")\t(-0.00041297127399388654, \"['willshulman', 'gregbanks']\")\t(-0.0003562980228712292, \"['EmlynC', 'marshallhumble']\")\t(-0.0002421390574621159, \"['im85288', 'hawkeyexp']\")\t\n",
=======
      "ccnmtl/uelc\t(-0.6666679641480108, \"['ariel-phet', 'jessegreenberg', 'phet-steele', 'dubson', 'terracoda', 'memo330179', 'mbarlow12', 'lmulhall-phet']\")\t(-0.6666679162402048, \"['pixelzoom', 'amanda-phet', 'jonathanolson', 'arouinfar', 'veillette', 'aaronsamuel137', 'zepumph', 'andrewadare', 'mattpen', 'aadish', 'schmitzware', 'Denz1994', 'andrealin', 'michaelm396']\")\t(-0.6666679162402048, \"['samreid', 'jbphet', 'andrey-zelenkov', 'AshrafSharf', 'arnabp', 'notsiddhartha', 'ChandrashekarBemagoni', 'davisv7', 'SaurabhTotey']\")\t(-0.6666675793242052, \"['Zrubi', 'Nukama', 'andrewdavidwong', 'omeg', 'desci', 'pgerber', 'gutsle', 'tokideveloper', 'na--', 'adubois']\")\t(-0.6455632894812708, \"['maethu', 'jone', 'toutpt', 'buchi', 'gbastien', 'rpatterson', 'mtrebron', 'Rotonen', 'Nachtalb']\")\t(-0.6324617533127542, \"['phgross', 'deiferni', 'mbaechtold', 'bierik', 'shylux', 'elioschmutz', 'phabegger', 'tschanzt', 'bbuehlmann', 'raphael-s', 'fguyer', 'tarnap', 'njohner']\")\t(-0.6324563005968928, \"['shyba', 'cz8s', 'bwagnerr', 'giovaneliberato', 'jeffhsta', 'tiagoferraz', 'fbernitt', 'neissi', 'kaeff']\")\t(-0.6126015224868399, \"['fabianschwarzfritz', 'shawngustaw', 'funkaoshi', 'emintham', 'JeffBain', 'RouganStriker', 'MartinPetkov', 'Gee19', 'harry-kim']\")\t(-0.6123820198037631, \"['nielsvanoch', 'gvangool', 'jgeskens', 'mrbox', 'bmoelans', 'kristofclaes', 'freeduerinckx']\")\t(-0.6123779080956637, \"['akreshuk', 'njase', 'k-dominik', 'FynnBe', 'wolny', 'Beinabih', 'paulhfu']\")\t(-0.612374993619667, \"['lsh-0', 'jhroot', 'gnott', 'Jenniferstrej']\")\t(-0.6030299023408936, \"['aweiteka', 'vpavlin', 'whitel', 'veillard', 'tkdchen', 'LalatenduMohanty', 'goern', 'bexelbie', 'riekrh']\")\t(-0.5774200168895305, \"['Demotive', 'nigelpain', 'Phemus', 'Pheonnexx', 'lendmeapound']\")\t(-0.5773562477138846, \"['alexandersoto', 'thebrianzeng', 'natebrennand', 'schlosser', 'eunicekokor', 'evantarrh', 'benlowkh']\")\t(-0.5000015402542256, \"['felixhammerl', 'albogabriel', 'cz8s', 'bwagnerr', 're-nobre', 'pmaia', 'pereiragislene', 'thaissiqueira', 'cacarrara', 'SweetVirginia']\")\t(-0.5000006546595954, \"['mathuin', 'tschuy', 'pop', 'MaraJade', 'LyonesGamer', 'aaroncohen73', 'clinew']\")\t(-0.5000005250344429, \"['kirang89', 'bravegnu', 'whiletruelearn', 'shrayasr', 'astronomersiva', 'igauravsehrawat', 'ajayk', 'gnurenga']\")\t(-0.5000002453921387, \"['rageshkrishna', 'amalfra', 'avinci', 'niranjan92', 'trriplejay', 'kanthchandra', 'prokopst', 'pranaypareek', 'himanshu0503', 'abhijitkini', 'a-murphy', 'scriptnull', 'shrivara', 'ankul-shippable', 'Riturajcse', 'Bharath92', 'jatindogra', 'deepikasl', 'ambarish2012']\")\t(-0.5000001026583958, \"['ric03uec', '0x-x0', 'stephanielingwood', 'Ranjansingh41', 'bindushree16', 'vijayreddy1991']\")\t(-0.4716148378282406, \"['keul', 'sgeulette', 'cedricmessiant', 'mitakas', 'gbastien', 'boulch', 'sdelcourt', 'spereverde', 'DieKatze']\")\t\n",
      "\n",
      "rafaecheve/startupstudygroup\t(-0.5000016021663138, \"['tamlyn', 'matthewglover', 'g-sam', 'BlueReZZ', 'diversemix', 'hdrury1', 'dryhten']\")\t(-0.5000010531955571, \"['billymeinke', 'janeatcc']\")\t(-0.5000009935543579, \"['kadmil', 'clbn', 'ptzn', 'hsw', 'berkus', 'urbansheep', 'dsumin']\")\t(-0.5000008817730536, \"['leosa83', 'Angamanga', 'miladf', 'superyass']\")\t(-0.5000008122647007, \"['sandeepchhapola', 'ianblair44', 'vineetasharma']\")\t(-0.5000007430390522, \"['jpere268', 'avill152', 'Mcond005', 'tmoor039', 'rvian003', 'vvega019']\")\t(-0.5000006602733283, \"['francois2metz', 'avernois', 'areski', 'vinyll', 'zyegfryed', 'pointbar', 'providenz', 'thibault', 'FrancoisDupayrat', 'WolffThomas', 'mjambert', 'XavCC', 'TheoVital', 'cba85', 'newick', 'Rom1deTroyes']\")\t(-0.5000005703122491, \"['JDM555', 'lakshaydulani', 'RJASeoud', 'vish250491']\")\t(-0.5000005499439866, \"['deepakshrma', 'DanielHindi', 'sakshityagi', 'jdm135', 'kmtabish', 'ahmadhmoud']\")\t(-0.5000004718087822, \"['rbaertsch', 'tedgoldstein', 'mokolodi1', 'e-t-k']\")\t(-0.5000003379393033, \"['ldionmarcil', 'TyMarc']\")\t(-0.5000001687029013, \"['asonas', 'unasuke', 'HolyGrail']\")\t(-0.5000000572227947, \"['chrisnicola', 'saem', 'tavisrudd']\")\t(-0.5000000572227947, \"['mrtns', 'acruise']\")\t(-0.5000000442880572, \"['airingursb', 'xmxxmxxmx', 'Nicole912', 'candy2512', 'JessieMelon', 'gzxiaolu', 'Soctlandblacksheep', 'Mr-Dylan', 'Klchemist', 'ningzixian', 'bbbbx', 'MoingYang', 'linjiyu97', 'shxie', 'yingfff', 'amy772147489', 'kasaimiluo', 'GaoHuangYolanda', 'Even1929']\")\t(-0.5000000363030626, \"['al-the-x', 'kellymurray', 'cmauban', 'ericksonk', 'drumslayert', 'ericquayson', 'rosalsm', 'pakesybot', 'Ricecoder', 'boshnivolo', 'ironyarder77', 's4dmw', 'ShayHall', 'nickycadavillo', 'jmcreasman', 'karjac14', 'jeremyrist', 'jeffworley']\")\t(-0.5000000304171212, \"['AlexeyAnshakov', 'rageofaxe', 'bhushano7', 'umairadeeb', 'spirinvladimir', 'madhu-lemosys', 'michbil', 'balthazzar', 'Xurma2']\")\t(-0.5000000036748401, \"['manavmanocha', 'nalinchhibber']\")\t(-0.007158433769302139, \"['kyungmin', 'cohitre', 'tildedave', 'rtymchyk', 'ethaMont', 'BrettBukowski']\")\t(-0.0010854692634305035, \"['enjikaka', 'jgillman']\")\t\n",
      "\n",
      "AtmosphereMessaging/Cumulus\t(-0.6324564186257673, \"['francois2metz', 'avernois', 'areski', 'vinyll', 'zyegfryed', 'pointbar', 'providenz', 'thibault', 'FrancoisDupayrat', 'WolffThomas', 'mjambert', 'XavCC', 'TheoVital', 'cba85', 'newick', 'Rom1deTroyes']\")\t(-0.632456413092909, \"['JDM555', 'lakshaydulani', 'RJASeoud', 'vish250491']\")\t(-0.6324564048039133, \"['Mnw2212', 'skeep', 'himanshusingh2407', 'ayushinigam', 'vatsalya25']\")\t(-0.6324564036004271, \"['deepakshrma', 'DanielHindi', 'sakshityagi', 'jdm135', 'kmtabish', 'ahmadhmoud']\")\t(-0.6324561376187654, \"['chrisnicola', 'saem', 'tavisrudd']\")\t(-0.6324561376187654, \"['mrtns', 'acruise']\")\t(-0.6324561221391716, \"['asonas', 'unasuke', 'HolyGrail']\")\t(-0.6324561081331529, \"['manavmanocha', 'nalinchhibber']\")\t(-0.6324559970536586, \"['AlexeyAnshakov', 'rageofaxe', 'bhushano7', 'umairadeeb', 'spirinvladimir', 'madhu-lemosys', 'michbil', 'balthazzar', 'Xurma2']\")\t(-0.6324559728322708, \"['airingursb', 'xmxxmxxmx', 'Nicole912', 'candy2512', 'JessieMelon', 'gzxiaolu', 'Soctlandblacksheep', 'Mr-Dylan', 'Klchemist', 'ningzixian', 'bbbbx', 'MoingYang', 'linjiyu97', 'shxie', 'yingfff', 'amy772147489', 'kasaimiluo', 'GaoHuangYolanda', 'Even1929']\")\t(-0.6324559423579843, \"['ldionmarcil', 'TyMarc']\")\t(-0.6324558897600214, \"['al-the-x', 'kellymurray', 'cmauban', 'ericksonk', 'drumslayert', 'ericquayson', 'rosalsm', 'pakesybot', 'Ricecoder', 'boshnivolo', 'ironyarder77', 's4dmw', 'ShayHall', 'nickycadavillo', 'jmcreasman', 'karjac14', 'jeremyrist', 'jeffworley']\")\t(-0.6324556811164601, \"['rbaertsch', 'tedgoldstein', 'mokolodi1', 'e-t-k']\")\t(-0.632455642286377, \"['billymeinke', 'janeatcc']\")\t(-0.6324556045495772, \"['jpere268', 'avill152', 'Mcond005', 'tmoor039', 'rvian003', 'vvega019']\")\t(-0.5773622047830366, \"['henricavalcante', 'suissa', 'antonellisantos', 'caiocutrim', 'graubassauro', 'DouglasHennrich', 'renatogravino', 'wbruno', 'renatogalvones', 'robsonbittencourt', 'nilkesede', 'davidsonsns', 'josecarlosweb', 'leandroprog', 'fauker', 'franklindias', 'guilhermepiovesan', 'guimafx', 'asfelix', 'delete', 'jackell', 'MarcoAurellio', 'jefferson-william', 'felipeands', 'Elvisley', 'jffsx', 'alxmiranda', 'heliomsolivas', 'romulomourao', 'hc3', 'JulianoPadilha', 'davidalves1', 'samverneck', 'sistemaon', 'tuchedsf', 'souzacristsf', 'tiagodurante', 'sostenesfreitas', 'marlomgirardi', 'diihfilipe', 'viniciusmazzeo', 'lcomino', 'falconeric', 'gpanassol', 'gabrielcmendes', 'carloshenriqueribeiro', 'ojaspion']\")\t(-0.4476717592004095, \"['Hazzamanic', 'SzymonSel']\")\t(-0.4476717592004095, \"['phillipsj', 'abhishekluv', 'wharri220', 'JRKelso']\")\t(-0.44743336338563733, \"['dalenewman', 'Piedone', 'mjy78', 'Xeevis', 'PaulDevenney']\")\t(-0.4472276068471352, \"['NikolayIT', 'Minkov', 'SimoPrG', 'cuklev', 'harshildarji']\")\t\n",
      "\n",
      "uqbar-project/wisit15-site-harpjs\t(-0.6324598150609438, \"['bsommardahl', 'gmahomarf', 'rsiwady29', 'justrdk', 'ferenckv']\")\t(-0.6324595732021336, \"['Wasapl', 'SergeGautherie']\")\t(-0.6324574016194363, \"['manojpandey', 'ExC0d3', 'akul08', 'ayush1997', 'htadg']\")\t(-0.632457212476358, \"['madhephaestus', 'acamilo']\")\t(-0.6324568705085278, \"['laurawhalin', 'bhargavisatpathy', 'Lydias303']\")\t(-0.6324568362722094, \"['dpickett', 'dreamingfurther']\")\t(-0.6324563079586091, \"['duanefields', 'igroff']\")\t(-0.6324561117791384, \"['LinuxMercedes', 'brhoades']\")\t(-0.632456012500926, \"['alexcu', 'macite', 'jakerenzella', 'lachlanwest', 'jarmstrong', 'AkshatBajaj']\")\t(-0.6324559195416113, \"['lvarayut', 'AlmogBaku', 'andrija-hers', 'VikramTiwari', 'rjVapes', 'emps', 'JrPribs', 'iolufemi', 'rncrtr', 'juarez9j', 'Ednas']\")\t(-0.632455864514381, \"['apj', 'hellola']\")\t(-0.6324557676246163, \"['amb26', 'maozillah', 'georgitodorov']\")\t(-0.6324557534794101, \"['andrewlimaza', 'eighty20results', 'contemplate', 'pbrocks', 'ideadude', 'kimcoleman', 'greathmaster']\")\t(-0.6324556516378138, \"['Ricky54326', 'LOZORD', 'katamaritaco', 'spwilson2', 'jdetter', 'bhans117', 'Squeakrats', 'MikeCook9994']\")\t(-0.632455631971457, \"['jobara', 'cindyli', 'michelled', 'jhung', 'acheetham', 'dayotte', 'maozillah', 'waharnum', 'grrrero', 'danailbd', 'shadxx7']\")\t(-0.5773695970786583, \"['krmaxwell', 'alexcpsec', 'blackfist']\")\t(-0.5000010636765674, \"['nsuitter', 'ncrhodes', 'aethomp', 'acoe', 'IsabelleSetti', 'nweinberger', 'benwhuynh', 'Pennylele', 'brossi1', 'jdirico', 'daphne4375', 'wentingz', 'hyoon13', 'rzubiate', 'lgh119120']\")\t(-0.4473571431214051, \"['hellatan', 'infinityfarm', 'antialias', 'robrichard', 'kostasmanionis', 'prestifidibs', 'twhid', 'ascagnel', 'nameofname', 'brettjashford', 'querybyexample', 'PeteJodo', 'alejandromaka']\")\t(-0.4472236826337496, \"['4Giedrius', 'vaidas-lungis', 'fordnox', 'zygintas']\")\t(-0.4472163294296726, \"['asimpson', 'robtarr', 'pfulton', 'yock', 'bryanbraun', 'patricksimpson', 'RobHarr', 'nrambeck', 'zastrow', 'aspencer116']\")\t\n",
      "\n",
      "daniel-cotton/polymer-redux-starter\t(-0.9701506524403721, \"['adibas03', 'lsaether', 'kosecki123', 'Bagaric']\")\t(-0.9701470942454705, \"['rabinrai44', 'aneagoie', 'thisisabdus', 'drood87', 'MattCSmith', 'juliangilquin', 'skylar01', 'tonydc1997']\")\t(-0.9701446392738328, \"['gdequeiroz', 'chucheria', 'hfrick']\")\t(-0.9701430291758631, \"['Stereck', 'aaron-martin', 'awesselburg']\")\t(-0.9682485239601007, \"['denisgranha', 'giacomolicari']\")\t(-0.9666464613805658, \"['vigzmv', 'TheoVitkovskiy']\")\t(-0.9661395161212214, \"['ryanoglesby08', 'githubjosh']\")\t(-0.9660920441515968, \"['ryandrewjohnson', 'thchia']\")\t(-0.9642591981893774, \"['ShMcK', 'llh911001']\")\t(-0.9636282488282443, \"['masad-frost', 'BrunoWilkinson']\")\t(-0.9622516679966263, \"['colllin', 'jwmann', 'RemeJuan', 'Sharlaan', 'hyjeko', 'TarikHuber', 'MaximilianPichler', 'p-funky']\")\t(-0.9608892641518427, \"['bbaia', 'vigneshnrfs']\")\t(-0.9574285842963376, \"['jmargolisvt', 'kbeaulieu802', 'smaraf', 'johnneed']\")\t(-0.9534681422268019, \"['jeffijoe', 'dburrows', 'cztomsik']\")\t(-0.9534659585532459, \"['JMEspiz', 'AlexR1712']\")\t(-0.9486841981278941, \"['tanyagupta', 'scottwestover', 'desdemonhu', 'khusbuchandra', 'sonalikatara']\")\t(-0.9428423615907516, \"['fgarci03', 'andrewglancy']\")\t(-0.9428204061829318, \"['carlio', 'mbertolacci', 'pconerly', 'lfrodrigues', 'smirolo', 'andrealmar', 'dopeboy', 'unklphil', 'DFilipeS']\")\t(-0.942809365936642, \"['kodeebo', 'narhen', 'runesto', 'oyvinmar', 'sebastianjg', 'oskarkvamme', 'IvarBorthen']\")\t(-0.9354146022249861, \"['kstigen', 'jnatten', 'chrpeter', 'kievu']\")\t\n",
      "\n",
      "elifesciences/elife-bot\t(-0.6324582992822881, \"['yourcelf', 'AndrewMagliozzi', 'dalloro', 'alexzaporozhets']\")\t(-0.6324580438767657, \"['Ricky54326', 'LOZORD', 'katamaritaco', 'spwilson2', 'jdetter', 'bhans117', 'Squeakrats', 'MikeCook9994']\")\t(-0.6324579518952582, \"['breyten', 'siccovansas', 'jurrian']\")\t(-0.6324579010752225, \"['EmbeddedAndroid', 'khilman', 'MiloCasagrande', 'mattface', 'gctucker', 'loysollivier', 'jeromebrunet', 'montjoie']\")\t(-0.6324575120088738, \"['jomann09', 'jvandermeulen']\")\t(-0.6324573866548567, \"['PaynePei', 'helloarys', 'MarkMa001']\")\t(-0.6324571872677925, \"['kikocorreoso', 'yamila-moreno', 'manugarri', 'eskerda', 'hershaw', 'jtascensao', 'PedroGFonseca']\")\t(-0.5773526790073679, \"['felixhammerl', 'albogabriel', 'cz8s', 'bwagnerr', 're-nobre', 'pmaia', 'pereiragislene', 'thaissiqueira', 'cacarrara', 'SweetVirginia']\")\t(-0.500028274272105, \"['natduca', 'petrcermak', 'eakuefner', 'aschulm', 'randomascii', 'Apeliotes', 'dave-2', 'benshayden', 'zeptonaut', 'simonhatch']\")\t(-0.5000177791074725, \"['naymesh', 'jeback1']\")\t(-0.500007807404356, \"['zeffii', 'mifth', 'nutti', 'meta-androcto', 'DolphinDream']\")\t(-0.5000076010178679, \"['88manpreet', 'ny2ko']\")\t(-0.5000064584487934, \"['iffy', 'mankyd']\")\t(-0.5000055280253047, \"['ecanzonieri', 'neoeahit']\")\t(-0.5000041438862042, \"['motivator', 'thekad']\")\t(-0.5000038890413302, \"['achalv', 'milanocookies93']\")\t(-0.5000030403520409, \"['diwu1989', 'NullSoldier', 'mgeist']\")\t(-0.5000030081678131, \"['Florin65', 'Ratler', 'fredrikt', 'dagbrown', 'stumbles', 'lhw828']\")\t(-0.5000019261162537, \"['pospi', 'fosterlynn', 'bhaugen']\")\t(-0.5000018081010641, \"['wuy1', 'sharkconi']\")\t\n",
      "\n",
      "straycat0000/ss13_cobra\t(-0.5774375145133916, \"['jobara', 'cindyli', 'michelled', 'jhung', 'acheetham', 'dayotte', 'maozillah', 'waharnum', 'grrrero', 'danailbd', 'shadxx7']\")\t(-0.5774352047981196, \"['WillEngler', 'geosir', 'HeyZoos', 'pbeckman']\")\t(-0.5774329147368511, \"['vcharpenay', 'domguinard', 'mmccool', 'draggett', 'sebastiankb', 'takuki']\")\t(-0.5774257965939065, \"['halsk', 'PharaohKJ', 'kenchif', 'smellman', '50river']\")\t(-0.5774173344943043, \"['allisoncorey', 'rchadwic', 'ty-', 'ljwolford', 'creighton', 'jonopoltrack']\")\t(-0.5774168241687977, \"['EfrenRey', 'davisein', 'gsanchezu', 'DiegoSanjuan']\")\t(-0.5774127982897255, \"['rollick', 'gannetson', 'aethemba', 'JhonM']\")\t(-0.5350194312197167, \"['redmunds', 'mvujovic', 'chrisbank', 'marekhrabe', 'joelrbrandt', 'jaredadobe', 'RafaelOlivra']\")\t(-0.5347555460086615, \"['faassen', 'keul', 'href', 'sureshvv', 'msom', 'naro', 'taschini']\")\t(-0.5346628514409516, \"['thusithak', 'harsha1979', 'hasinthaindrajee', 'danushkaf', 'ruwanta', 'emswbandara', 'IsurangaPerera']\")\t(-0.5346449153451898, \"['lfrancke', 'joewitt', 'trixpan', 'jvwing', 'trkurc', 'jskora', 'JPercivall', 'alopresto', 'mosermw', 'michalklempa']\")\t(-0.5346308892535498, \"['krmaxwell', 'alexcpsec', 'blackfist']\")\t(-0.534621259960177, \"['pixelzoom', 'amanda-phet', 'jonathanolson', 'arouinfar', 'veillette', 'aaronsamuel137', 'zepumph', 'andrewadare', 'mattpen', 'aadish', 'schmitzware', 'Denz1994', 'andrealin', 'michaelm396']\")\t(-0.534621259960177, \"['samreid', 'jbphet', 'andrey-zelenkov', 'AshrafSharf', 'arnabp', 'notsiddhartha', 'ChandrashekarBemagoni', 'davisv7', 'SaurabhTotey']\")\t(-0.534621103786306, \"['ariel-phet', 'jessegreenberg', 'phet-steele', 'dubson', 'terracoda', 'memo330179', 'mbarlow12', 'lmulhall-phet']\")\t(-0.5346204873076646, \"['rageshkrishna', 'amalfra', 'avinci', 'niranjan92', 'trriplejay', 'kanthchandra', 'prokopst', 'pranaypareek', 'himanshu0503', 'abhijitkini', 'a-murphy', 'scriptnull', 'shrivara', 'ankul-shippable', 'Riturajcse', 'Bharath92', 'jatindogra', 'deepikasl', 'ambarish2012']\")\t(-0.5346204553158767, \"['felixhammerl', 'albogabriel', 'cz8s', 'bwagnerr', 're-nobre', 'pmaia', 'pereiragislene', 'thaissiqueira', 'cacarrara', 'SweetVirginia']\")\t(-0.5346196943834969, \"['kirang89', 'bravegnu', 'whiletruelearn', 'shrayasr', 'astronomersiva', 'igauravsehrawat', 'ajayk', 'gnurenga']\")\t(-0.5346195996919264, \"['ric03uec', '0x-x0', 'stephanielingwood', 'Ranjansingh41', 'bindushree16', 'vijayreddy1991']\")\t(-0.5346087652385468, \"['mathuin', 'tschuy', 'pop', 'MaraJade', 'LyonesGamer', 'aaroncohen73', 'clinew']\")\t\n",
      "\n",
      "livestreet/livestreet-framework\t(-0.6324611880972293, \"['malvese', 'jenstornell', 'fabianmichael']\")\t(-0.632458048603498, \"['nimatg', 'ashishsthanp']\")\t(-0.632458048603498, \"['rabinstha', 'rabindratharu', 'romosamatya', 'mebishalnapit', 'saazaan7']\")\t(-0.6324575649115654, \"['vrcAlbert', 'Foine', 'Meroje', 'jguyomard', 'Seb-C', 'DOMEYD']\")\t(-0.6324571090337442, \"['miloskroulik', 'iBobik', 'miromichalicka', 'martincollar', 'radimklaska', 'petrillek', 'jakubsuchy', 'martin-klima', 'kmajzlik']\")\t(-0.6324568783985998, \"['fre5h', 'LogansUA', 'svatok13', 'stfalcon']\")\t(-0.6324565994939427, \"['kstover', 'jameslaws', 'kjohnson', 'wpnzach']\")\t(-0.632456508599283, \"['deb1990', 'dhavalsharma', 'bmnepali']\")\t(-0.6324564286581492, \"['neerukoul', 'sandeeprhbwsl']\")\t(-0.6324563352676853, \"['conantp', 'Jtmichel']\")\t(-0.6324562443880559, \"['richardbporter', 'joewhitsitt', 'markahrens', 'brandonneil', 'briand44', 'genjohnson', 'adamdelaney', 'dhannad', 'GaryRidgway']\")\t(-0.6324560546931572, \"['serverfire', 'alenoosh', 'IProSoft', 'svtlichnijj']\")\t(-0.6324555742434204, \"['dgmstuart', 'onishiweb', 'duncanjbrown', 'harry-m', 'mallorydxw', 'gazaston', 'tahb', 'robbiepaul', 'Stretch96', 'magdamaciaszczyk', 'leeky', 'RobjS']\")\t(-0.5773514746923049, \"['joshfinnie', 'andris9', 'danmactough', 'adunkman', 'Nearhan', 'robbiethegeek', 'kylehill', 'ddombrow', 'asheren']\")\t(-0.44723152218394696, \"['matthiaskunkel', 'wanze', 'colin-kiegel', 'Uwe-Kohnle', 'alex40724', 'smeyer-ilias', 'Amstutz', 'shecken', 'otruffer', 'fneumann', 'klees', 'alygin', 'jbraun-ilias', 'xus', 'eqsoft']\")\t(-0.4472175470832364, \"['reneolivo', 'swastikpareek', 'igorpavlov', 'tunbola', 'ajesamson']\")\t(-0.44721555964379767, \"['NateWr', 'jalperin', 'withanage', 'kaschioudi', 'Vitaliy-1', 'sssoz', 'samplet']\")\t(-0.4472137830511247, \"['beghelli', 'asmecher', 'ctgraham', 'marchitelli', 'lepidus', 'samueloph', 'bozana', 'selwyntcy', 'crism', 'WaDelma', 'forgive38', 'ali-sokhandan']\")\t(-0.4472137544906608, \"['jnugent', 'asmecher', 'gonetil', 'mtub', 'mittinatten', 'marchitelli', 'martinpub', 'vormia', 'ppv1979', 'josekarvalho', 'michaelmeneses', 'WaDelma', 'tgc', 'vedranvucic', 'mohammadrizki', 'pnault', 'MarHerUMR', 'szmigieldesign', 'paflov']\")\t(-0.44721373730923897, \"['NateWr', 'axfelix', 'jmacgreg', 'lilients', 'bozana', 'marcbria', 'mfelczak', 'ajnyga', 'defstat', 'RahulChakravarthy', 'carzamora']\")\t\n",
      "\n",
      "ezbuy/ezorm\t(-0.7071079294901531, \"['frenchfrywpepper', 'joeblubaugh', 'malafeev', 'danielamiao', 'MatthewDolan']\")\t(-0.7071078091620221, \"['andrei-m', 'BenjaminTrapani']\")\t(-0.7071077637551297, \"['abramhindle', 'murphygc', 'andyjko', 'timm', 'andymeneely', 'CaptainEmerson', 'lauriew', 'brusso123', 'baishakhir', 'cabird', 'barik', 'bramadams', 'aysebener', 'fayola21']\")\t(-0.7071077637551297, \"['rtholmes', 'sback', 'JimWhiteheadUCSC', 'rvprasad', 'prechelt', 'tzimmermsr', 'trevorcarnahan', 'pgbovine', 'pruneson46', 'taoxiease', 'siravegas', 'andreas-zeller', 'sdeal', 'wagnerst', 'minkull', 'theisencr', 'maoivo', 'nataliajuristo', 'tomFr', 'maleknaz']\")\t(-0.7071074897879961, \"['peterh', 'abates', 'ElPincheTopo', 'flisky', 'michaelmacinnis']\")\t(-0.7071070317822237, \"['yvasiyarov', 'bfitzsimmons', 'abdollar', 'jordanshoebox', 'mash', 'nazwa', 'bolshoy', 'yoshiyaka']\")\t(-0.7071070027180779, \"['divolgin', 'marccampbell', 'emosbaugh', 'mhald']\")\t(-0.7071067851673843, \"['docstun', 'fredv', 'gfrey', 'sacry-dyn', 'kennell']\")\t(-0.7071067851673843, \"['theSoenke', 'alexanderwilling', 'timleers']\")\t(-0.5773633188824845, \"['jacqueline-stripe', 'pantera-stripe']\")\t(-0.5773522556284191, \"['Mast3rPlan', 'Maescool']\")\t(-0.5773505671749958, \"['yuewko', 'jkraj', 'adsri']\")\t(-0.5773502866674992, \"['riethm', 'renier', 'minsikl', 'ivan-n16']\")\t(-0.5773502816706666, \"['Wuvist', 'dtynn']\")\t(-0.004963721804382494, \"['harmw', 'HarryKroes']\")\t(-0.004147069825977854, \"['d-sparks', 'rzendacott']\")\t(-0.0019992546072455605, \"['joshk0', 'jgraettinger']\")\t(-0.0009536907582139698, \"['JonathonReinhart', 'kiview']\")\t(-0.0006573193883572647, \"['dexhorthy', 'jadengore', 'areed', 'laverya']\")\t(-0.000554063640061094, \"['prateek', 'richardartoul', 'schallert', 'xichen2020', 'jeromefroe', 'cw9', 'martin-mao']\")\t\n",
      "\n",
      "ONSdigital/eq-survey-runner\t(-1.050810899624429, \"['mhausenblas', 'minyk', 'whyjustin', 'TimonVS', 'luhkevin', 'us3r', 'sibblegp', 'realmbgl', 'ryadav88', 'somnathmesos']\")\t(-1.0488092716760418, \"['drvinceknight', 'JasYoung314', 'timothyf1', 'geraintpalmer', 'marcharper', 'alcarney', 'Huaraz2', 'sluenenglish', 'mojones']\")\t(-1.0486749959104562, \"['leoc', 'rbray89', 'micw', 'l00mi', 'badele', 'lukas-hetzenecker', 'turbokongen', 'partofthething', 'seedzero', 'ishults', 'capellini', 'justweb1', 'Cinntax', 'Instagraeme']\")\t(-1.047364837959639, \"['jhgg', 'jkimbo', 'luisincrespo', 'danpalmer', 'marcoacierno', 'syrusakbary', 'patrick91', 'pizzapanther', 'blx', 'gjcarneiro', 'BossGrand', 'dfee', 'JamieRL', 'dan98765']\")\t(-1.0441460981632522, \"['benwerd', 'mapkyca', 'erinjo', 'physcocode', 'pierreozoux', 'srcr', 'tinokremer', 'cleverdevil', 'paulcmal', 'lil5']\")\t(-1.04083804183014, \"['eads', 'wilbertom', 'suymilk', 'brianboyer', 'bepetersn']\")\t(-1.0371874806519261, \"['aravindet', 'gargsms', 'asdofindia', 'karthikb351', 'miteshashar', 'ermauliks', 'knightsamar', 'abhi12ravi']\")\t(-1.0371873565416334, \"['iambibhas', 'shreyas-satish', 'jace', 'sindhus', 'samyakbhuta', 'iamsudip', 'vidya-ram', 'iAmMrinal0', 'zainabbawa']\")\t(-1.0124228819563466, \"['alexmorris', 'weapdiv-david', 'collisdigital', 'jonnyshaw89', 'ajmaddaford', 'yoganandkunche', 'gbanas', 'dcdarrell9', 'adoublebarrel', 'berianjones', 'ryangrundy7']\")\t(-1.0118349279067906, \"['maxious', 'nathf', 'matt-sm', 'marcoalfonso']\")\t(-1.0064039206171733, \"['caesar2164', 'dcadams', 'azimpradhan', 'sigberto', 'caseylitton', 'jspayd', 'karandikar', 'libremente', 'jlikhuva', 'potsui']\")\t(-1.0063997628617487, \"['dylanrhodes', 'stvstnfrd', 'jrbl', 'stanford-online-robot', 'kabirkhan', 'saharm1', 'tkim135']\")\t(-1.0000027321238198, \"['manishas', 'vivex', 'deepakpathania', 'harryi3t', 'balavignesh-s', 'ChaitanyaVootla']\")\t(-1.0000003163111373, \"['ric03uec', '0x-x0', 'stephanielingwood', 'Ranjansingh41', 'bindushree16', 'vijayreddy1991']\")\t(-1.0000001944220884, \"['rageshkrishna', 'amalfra', 'avinci', 'niranjan92', 'trriplejay', 'kanthchandra', 'prokopst', 'pranaypareek', 'himanshu0503', 'abhijitkini', 'a-murphy', 'scriptnull', 'shrivara', 'ankul-shippable', 'Riturajcse', 'Bharath92', 'jatindogra', 'deepikasl', 'ambarish2012']\")\t(-0.9847354176766662, \"['jgmize', 'bobsilverberg', 'stephendonner', 'camd', 'm8ttyB', 'rbillings', 'bebef1987', 'krupa', 'lmandel', 'klrmn', 'stupchiy', 'bitgeeky', 'oremj', 'auzelac91', 'justinpotts', 'karlht', 'tccharles', 'tarun1992', 'IamAdiSri', 'dudepare', 'terrameijar', 'kimberlythegeek']\")\t(-0.9511897507801489, \"['hamishtaplin', 'WickyNilliams', 'bennpearson', 'armstrongb', 'saedwards', 'leannecook', 'will-madebymoon', 'boxadesign']\")\t(-0.8987172244649357, \"['bitdivision', 'benhowes', 'michaelboulton']\")\t(-0.8257229606539808, \"['iwootten', 'dgunthor', 'davidcarboni', 'howellsaj']\")\t(-0.8017838998508262, \"['samiwel', 'SamGodwin2']\")\t\n",
>>>>>>> c849f31281632f98c226baba69733d917cc315bf
      "\n"
     ]
    }
   ],
   "source": [
    "for i,rec in enumerate(team_recommendations):\n",
    "    print(repo_profiles_df.iloc[i].name,end='\\t')\n",
    "    for tm in rec:\n",
    "        print(tm,end='\\t')\n",
    "    print('\\n')"
   ]
<<<<<<< HEAD
=======
  },
  {
   "cell_type": "code",
   "execution_count": null,
   "metadata": {},
   "outputs": [],
   "source": []
>>>>>>> c849f31281632f98c226baba69733d917cc315bf
  }
 ],
 "metadata": {
  "kernelspec": {
   "display_name": "Python 3",
   "language": "python",
   "name": "python3"
  },
  "language_info": {
   "codemirror_mode": {
    "name": "ipython",
    "version": 3
   },
   "file_extension": ".py",
   "mimetype": "text/x-python",
   "name": "python",
   "nbconvert_exporter": "python",
   "pygments_lexer": "ipython3",
   "version": "3.7.0"
  }
 },
 "nbformat": 4,
 "nbformat_minor": 2
}
