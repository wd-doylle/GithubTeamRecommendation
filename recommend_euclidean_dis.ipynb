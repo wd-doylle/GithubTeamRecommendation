{
 "cells": [
  {
   "cell_type": "code",
   "execution_count": 1,
   "metadata": {},
   "outputs": [],
   "source": [
    "import json\n",
    "import pandas as pd\n",
    "\n",
    "repo_profiles = {}\n",
    "repo_teams = {}\n",
    "with open('repo_profiles_new.json') as rj:\n",
    "    for rl in rj.readlines():\n",
    "        line = rl.split('\\t')\n",
    "        repo = line[0]\n",
    "        profile = json.loads(line[1])\n",
    "        repo_profiles[repo] = profile\n",
    "        repo_teams[repo] = repo_profiles[repo].pop('teams')\n",
    "    \n",
    "team_profiles = []\n",
    "teams = []\n",
    "with open('team_profiles.json') as tj:\n",
    "    for tl in tj.readlines():\n",
    "        line = tl.split('\\t')\n",
    "        team = line[0]\n",
    "        profile = json.loads(line[1])\n",
    "        team_profiles.append(profile)\n",
    "        teams.append(team)"
   ]
  },
  {
   "cell_type": "code",
   "execution_count": 2,
   "metadata": {},
   "outputs": [],
   "source": [
    "repo_profiles_df = pd.DataFrame(repo_profiles).transpose()\n",
    "repo_profiles_df.fillna('',inplace=True)\n",
    "team_profiles_df = pd.DataFrame(team_profiles,index=teams)\n",
    "team_profiles_df.rename(columns={\n",
    "                                   'repo_size':'size',\n",
    "                                   'repo_forks':'forks',\n",
    "                                   'repo_subscribers':'subscribers',\n",
    "                                   'repo_watchers':'watchers',\n",
    "                                   'languages':'languages',\n",
    "                                   'topics':'topics'\n",
    "                               },inplace=True)\n",
    "\n",
    "numerics = ['size','forks','subscribers','watchers']"
   ]
  },
  {
   "cell_type": "code",
   "execution_count": 3,
   "metadata": {},
   "outputs": [
    {
     "data": {
      "text/plain": [
       "array([[<matplotlib.axes._subplots.AxesSubplot object at 0x000001C61B0D6D30>,\n",
       "        <matplotlib.axes._subplots.AxesSubplot object at 0x000001C61B387F98>],\n",
       "       [<matplotlib.axes._subplots.AxesSubplot object at 0x000001C61B3B8438>,\n",
       "        <matplotlib.axes._subplots.AxesSubplot object at 0x000001C61B3DDAC8>]],\n",
       "      dtype=object)"
      ]
     },
     "execution_count": 3,
     "metadata": {},
     "output_type": "execute_result"
    }
   ],
   "source": [
    "repo_profiles_df[numerics].hist()"
   ]
  },
  {
   "cell_type": "code",
   "execution_count": 4,
   "metadata": {},
   "outputs": [
    {
     "data": {
      "text/plain": [
       "array([[<matplotlib.axes._subplots.AxesSubplot object at 0x000001C61B69A160>,\n",
       "        <matplotlib.axes._subplots.AxesSubplot object at 0x000001C61B6C0DD8>],\n",
       "       [<matplotlib.axes._subplots.AxesSubplot object at 0x000001C61B6F0470>,\n",
       "        <matplotlib.axes._subplots.AxesSubplot object at 0x000001C61B718B00>]],\n",
       "      dtype=object)"
      ]
     },
     "execution_count": 4,
     "metadata": {},
     "output_type": "execute_result"
    },
    {
     "data": {
      "image/png": "[encoded data removed]",
      "text/plain": [
       "<Figure size 432x288 with 4 Axes>"
      ]
     },
     "metadata": {
      "needs_background": "light"
     },
     "output_type": "display_data"
    }
   ],
   "source": [
    "team_profiles_df[numerics].hist()"
   ]
  },
  {
   "cell_type": "code",
   "execution_count": 5,
   "metadata": {},
   "outputs": [
    {
     "name": "stdout",
     "output_type": "stream",
     "text": [
      "forks                    0\n",
      "languages      [HTML, CSS]\n",
      "size            4.0849e-05\n",
      "subscribers    0.000116741\n",
      "topics                    \n",
      "watchers                 0\n",
      "Name: Starbound-Dev/starbound-dev, dtype: object\n",
      "languages      [HTML, Python, CSS, JavaScript, Shell]\n",
      "forks                                     0.000245237\n",
      "size                                      0.000391448\n",
      "subscribers                                 0.0037357\n",
      "watchers                                  0.000256156\n",
      "target                    Starbound-Dev/starbound-dev\n",
      "topics                                             []\n",
      "Name: [\"AMorporkian\", \"kharidiron\"], dtype: object\n"
     ]
    }
   ],
   "source": [
    "min = repo_profiles_df[numerics].min()\n",
    "max = repo_profiles_df[numerics].max()\n",
    "repo_profiles_df[numerics] = (repo_profiles_df[numerics]-min)/(max-min)\n",
    "team_profiles_df[numerics] = (team_profiles_df[numerics]-min)/(max-min)\n",
    "\n",
    "print(repo_profiles_df.iloc[0])\n",
    "print(team_profiles_df.iloc[0])"
   ]
  },
  {
   "cell_type": "code",
   "execution_count": 6,
   "metadata": {
    "scrolled": true
   },
   "outputs": [
    {
     "data": {
      "text/html": [
       "<div>\n",
       "<style scoped>\n",
       "    .dataframe tbody tr th:only-of-type {\n",
       "        vertical-align: middle;\n",
       "    }\n",
       "\n",
       "    .dataframe tbody tr th {\n",
       "        vertical-align: top;\n",
       "    }\n",
       "\n",
       "    .dataframe thead th {\n",
       "        text-align: right;\n",
       "    }\n",
       "</style>\n",
       "<table border=\"1\" class=\"dataframe\">\n",
       "  <thead>\n",
       "    <tr style=\"text-align: right;\">\n",
       "      <th></th>\n",
       "      <th>forks</th>\n",
       "      <th>size</th>\n",
       "      <th>subscribers</th>\n",
       "      <th>watchers</th>\n",
       "    </tr>\n",
       "  </thead>\n",
       "  <tbody>\n",
       "    <tr>\n",
       "      <th>count</th>\n",
       "      <td>14447.000000</td>\n",
       "      <td>14447.000000</td>\n",
       "      <td>14447.000000</td>\n",
       "      <td>14447.000000</td>\n",
       "    </tr>\n",
       "    <tr>\n",
       "      <th>mean</th>\n",
       "      <td>0.001187</td>\n",
       "      <td>0.008558</td>\n",
       "      <td>0.007715</td>\n",
       "      <td>0.002713</td>\n",
       "    </tr>\n",
       "    <tr>\n",
       "      <th>std</th>\n",
       "      <td>0.010268</td>\n",
       "      <td>0.032399</td>\n",
       "      <td>0.026758</td>\n",
       "      <td>0.014474</td>\n",
       "    </tr>\n",
       "    <tr>\n",
       "      <th>min</th>\n",
       "      <td>0.000000</td>\n",
       "      <td>0.000000</td>\n",
       "      <td>0.000000</td>\n",
       "      <td>0.000000</td>\n",
       "    </tr>\n",
       "    <tr>\n",
       "      <th>25%</th>\n",
       "      <td>0.000026</td>\n",
       "      <td>0.000143</td>\n",
       "      <td>0.000934</td>\n",
       "      <td>0.000013</td>\n",
       "    </tr>\n",
       "    <tr>\n",
       "      <th>50%</th>\n",
       "      <td>0.000136</td>\n",
       "      <td>0.000893</td>\n",
       "      <td>0.002452</td>\n",
       "      <td>0.000111</td>\n",
       "    </tr>\n",
       "    <tr>\n",
       "      <th>75%</th>\n",
       "      <td>0.000543</td>\n",
       "      <td>0.004988</td>\n",
       "      <td>0.005837</td>\n",
       "      <td>0.000883</td>\n",
       "    </tr>\n",
       "    <tr>\n",
       "      <th>max</th>\n",
       "      <td>1.000000</td>\n",
       "      <td>1.000000</td>\n",
       "      <td>1.000000</td>\n",
       "      <td>1.000000</td>\n",
       "    </tr>\n",
       "  </tbody>\n",
       "</table>\n",
       "</div>"
      ],
      "text/plain": [
       "              forks          size   subscribers      watchers\n",
       "count  14447.000000  14447.000000  14447.000000  14447.000000\n",
       "mean       0.001187      0.008558      0.007715      0.002713\n",
       "std        0.010268      0.032399      0.026758      0.014474\n",
       "min        0.000000      0.000000      0.000000      0.000000\n",
       "25%        0.000026      0.000143      0.000934      0.000013\n",
       "50%        0.000136      0.000893      0.002452      0.000111\n",
       "75%        0.000543      0.004988      0.005837      0.000883\n",
       "max        1.000000      1.000000      1.000000      1.000000"
      ]
     },
     "execution_count": 6,
     "metadata": {},
     "output_type": "execute_result"
    }
   ],
   "source": [
    "repo_profiles_df.describe()"
   ]
  },
  {
   "cell_type": "code",
   "execution_count": 7,
   "metadata": {},
   "outputs": [
    {
     "data": {
      "text/html": [
       "<div>\n",
       "<style scoped>\n",
       "    .dataframe tbody tr th:only-of-type {\n",
       "        vertical-align: middle;\n",
       "    }\n",
       "\n",
       "    .dataframe tbody tr th {\n",
       "        vertical-align: top;\n",
       "    }\n",
       "\n",
       "    .dataframe thead th {\n",
       "        text-align: right;\n",
       "    }\n",
       "</style>\n",
       "<table border=\"1\" class=\"dataframe\">\n",
       "  <thead>\n",
       "    <tr style=\"text-align: right;\">\n",
       "      <th></th>\n",
       "      <th>forks</th>\n",
       "      <th>size</th>\n",
       "      <th>subscribers</th>\n",
       "      <th>watchers</th>\n",
       "    </tr>\n",
       "  </thead>\n",
       "  <tbody>\n",
       "    <tr>\n",
       "      <th>count</th>\n",
       "      <td>22330.000000</td>\n",
       "      <td>22330.000000</td>\n",
       "      <td>22330.000000</td>\n",
       "      <td>22330.000000</td>\n",
       "    </tr>\n",
       "    <tr>\n",
       "      <th>mean</th>\n",
       "      <td>0.002056</td>\n",
       "      <td>0.012387</td>\n",
       "      <td>0.011767</td>\n",
       "      <td>0.004819</td>\n",
       "    </tr>\n",
       "    <tr>\n",
       "      <th>std</th>\n",
       "      <td>0.005308</td>\n",
       "      <td>0.034114</td>\n",
       "      <td>0.024004</td>\n",
       "      <td>0.015330</td>\n",
       "    </tr>\n",
       "    <tr>\n",
       "      <th>min</th>\n",
       "      <td>0.000000</td>\n",
       "      <td>0.000000</td>\n",
       "      <td>0.000000</td>\n",
       "      <td>0.000000</td>\n",
       "    </tr>\n",
       "    <tr>\n",
       "      <th>25%</th>\n",
       "      <td>0.000188</td>\n",
       "      <td>0.001228</td>\n",
       "      <td>0.002495</td>\n",
       "      <td>0.000153</td>\n",
       "    </tr>\n",
       "    <tr>\n",
       "      <th>50%</th>\n",
       "      <td>0.000698</td>\n",
       "      <td>0.004055</td>\n",
       "      <td>0.005565</td>\n",
       "      <td>0.001029</td>\n",
       "    </tr>\n",
       "    <tr>\n",
       "      <th>75%</th>\n",
       "      <td>0.002045</td>\n",
       "      <td>0.011029</td>\n",
       "      <td>0.012145</td>\n",
       "      <td>0.004452</td>\n",
       "    </tr>\n",
       "    <tr>\n",
       "      <th>max</th>\n",
       "      <td>0.123320</td>\n",
       "      <td>1.674898</td>\n",
       "      <td>0.668457</td>\n",
       "      <td>0.666754</td>\n",
       "    </tr>\n",
       "  </tbody>\n",
       "</table>\n",
       "</div>"
      ],
      "text/plain": [
       "              forks          size   subscribers      watchers\n",
       "count  22330.000000  22330.000000  22330.000000  22330.000000\n",
       "mean       0.002056      0.012387      0.011767      0.004819\n",
       "std        0.005308      0.034114      0.024004      0.015330\n",
       "min        0.000000      0.000000      0.000000      0.000000\n",
       "25%        0.000188      0.001228      0.002495      0.000153\n",
       "50%        0.000698      0.004055      0.005565      0.001029\n",
       "75%        0.002045      0.011029      0.012145      0.004452\n",
       "max        0.123320      1.674898      0.668457      0.666754"
      ]
     },
     "execution_count": 7,
     "metadata": {},
     "output_type": "execute_result"
    }
   ],
   "source": [
    "team_profiles_df.describe()"
   ]
  },
  {
   "cell_type": "code",
   "execution_count": 26,
   "metadata": {},
   "outputs": [
    {
     "name": "stdout",
     "output_type": "stream",
     "text": [
      "0.0036531546696178785\n"
     ]
    }
   ],
   "source": [
    "import numpy as np\n",
    "\n",
    "def euclidean_distance(p1,p2):\n",
    "    distance = np.linalg.norm(p1[numerics]-p2[numerics])**2\n",
    "    langs = set(p1['languages']).union(p2['languages'])\n",
    "    topics = set(p1['topics']).union(p2['topics'])\n",
    "    p1_langs = pd.Series([lang in p1['languages'] for lang in langs])/np.sqrt(len(langs))\n",
    "    p2_langs = pd.Series([lang in p2['languages'] for lang in langs])/np.sqrt(len(langs))\n",
    "    p1_topics = pd.Series([topic in p1['topics'] for topic in topics])/np.sqrt(len(topics))\n",
    "    p2_topics = pd.Series([topic in p2['topics'] for topic in topics])/np.sqrt(len(topics))\n",
    "    distance += np.linalg.norm(p1_langs-p2_langs)**2 + np.linalg.norm(p1_topics-p2_topics)**2\n",
    "    distance = np.sqrt(distance)\n",
    "    return distance\n",
    "\n",
    "\n",
    "\n",
    "p1 = repo_profiles_df.iloc[0]\n",
    "p2 = team_profiles_df.iloc[0]\n",
    "print(euclidean_distance(p1,p2))"
   ]
  },
  {
   "cell_type": "code",
   "execution_count": null,
   "metadata": {},
   "outputs": [],
   "source": [
    "from queue import PriorityQueue\n",
    "\n",
    "team_recommendations = []\n",
    "cnt = 0\n",
    "for repo,repo_profile in repo_profiles_df.iterrows():\n",
    "    cnt += 1\n",
    "    if cnt > 1:\n",
    "        break\n",
    "    print(cnt)\n",
    "    rec = []\n",
    "    queue = PriorityQueue()\n",
    "    for team,team_profile in team_profiles_df.iterrows():\n",
    "        if team in repo_teams[repo]:\n",
    "            continue\n",
    "        dis = euclidean_distance(repo_profile,team_profile)\n",
    "        queue.put_nowait((-dis,team))\n",
    "        if queue.qsize() > 20:\n",
    "            queue.get_nowait()\n",
    "    while queue.qsize()>0:\n",
    "        rec.append(queue.get_nowait())\n",
    "    team_recommendations.append(rec)\n"
   ]
  },
  {
   "cell_type": "code",
   "execution_count": null,
   "metadata": {
    "scrolled": false
   },
   "outputs": [],
   "source": [
    "for i,rec in enumerate(team_recommendations):\n",
    "    print(repo_profiles_df.iloc[i].name,end='\\t')\n",
    "    for tm in rec:\n",
    "        print(json.dumps(list(tm)),end='\\t')\n",
    "    print('\\n')"
   ]
  },
  {
   "cell_type": "code",
   "execution_count": 54,
   "metadata": {},
   "outputs": [
    {
     "name": "stdout",
     "output_type": "stream",
     "text": [
      "[0.77460528 0.7746002  1.39690072 1.38790632 1.00000445 1.4142159\n",
      " 0.70715035 1.34165317 1.00001335 0.57751631]\n"
     ]
    }
   ],
   "source": [
    "euclidean_numerics_v = np.vectorize(\n",
    "    lambda p1,p2: np.linalg.norm(p1-p2)**2,signature=\"(n),(n)->()\"\n",
    ")\n",
    "\n",
    "def euclidean_non_numerics(p1,p2):\n",
    "    langs = set(p1[0]).union(p2[0])\n",
    "    topics = set(p1[1]).union(p2[1])\n",
    "    p1_langs = pd.Series([lang in p1[0] for lang in langs])/np.sqrt(len(langs))\n",
    "    p2_langs = pd.Series([lang in p2[0] for lang in langs])/np.sqrt(len(langs))\n",
    "    p1_topics = pd.Series([topic in p1[1] for topic in topics])/np.sqrt(len(topics))\n",
    "    p2_topics = pd.Series([topic in p2[1] for topic in topics])/np.sqrt(len(topics))\n",
    "    return np.linalg.norm(p1_langs-p2_langs)**2 + np.linalg.norm(p1_topics-p2_topics)**2\n",
    "\n",
    "euclidean_non_numerics_v =  np.vectorize(euclidean_non_numerics,signature=\"(n),(n)->()\")\n",
    "\n",
    "\n",
    "euclidean_v = np.vectorize(lambda num,non_num:np.sqrt(num+non_num))\n",
    "\n",
    "non_numerics = ['languages','topics']\n",
    "dis1 = euclidean_numerics_v(repo_profiles_df.iloc[0][numerics],team_profiles_df.iloc[:10][numerics])\n",
    "dis2 = euclidean_non_numerics_v(repo_profiles_df.iloc[0][non_numerics],team_profiles_df.iloc[:10][non_numerics])\n",
    "print(euclidean_v(dis1,dis2))"
   ]
  },
  {
   "cell_type": "code",
   "execution_count": 59,
   "metadata": {},
   "outputs": [
    {
     "name": "stdout",
     "output_type": "stream",
     "text": [
      "1\n",
      "[\"AMorporkian\", \"kharidiron\"]\n",
      "[\"joseph-ortiz\", \"tacksoo\"]\n",
      "[\"SimonGoring\", \"andydawson\", \"IceAgeEcologist\"]\n",
      "[\"pkoro\", \"skanct\", \"themiszamani\", \"dpavlos\", \"kkoumantaros\"]\n",
      "[\"IgorDePaula\", \"flavianohonorato\"]\n",
      "[\"Thooms\", \"flavray\", \"florent1933\", \"AntoineGirard\", \"Walz\", \"Wonskcalb\", \"Alterrien\", \"jordankevi\"]\n",
      "[\"dethe\", \"eddieantonio\", \"JarrettSpiker\", \"CelticMinstrel\", \"amaclean199\", \"kotarCreative\"]\n",
      "[\"bsyu1125\", \"oeon\"]\n",
      "[\"weaverbel\", \"ndalyrose\", \"evanwill\", \"alexandermendes\", \"kekoziar\", \"elizabethwilliams8\"]\n",
      "[\"HazCod\", \"danielfarrell\", \"shatran\", \"thephw\"]\n",
      "[\"only-a-ptr\", \"AnotherFoxGuy\", \"mikadou\"]\n",
      "[\"avernet\", \"ebruchez\", \"ajw625\"]\n",
      "[\"mxplusb\", \"seviet\", \"kartiklunkad26\", \"doddatpivotal\"]\n",
      "[\"sux13\", \"elmerehbi\"]\n",
      "[\"Jan0707\", \"jferiante\"]\n",
      "[\"ivanbarlog\", \"RamonSmit\"]\n",
      "[\"jungor\", \"williamking\", \"WarpPrism\", \"lucifan\"]\n",
      "[\"54017\", \"dengal3\"]\n",
      "[\"jayjiahua\", \"BillBillBillBill\", \"dayinji\"]\n",
      "[\"Ckins\", \"1900zyh\", \"laiy\"]\n",
      "[\"linytsysu\", \"MchCyLh\", \"SimbaScorpio\", \"ValenW\"]\n",
      "[\"cbroeren\", \"michaelw8\"]\n",
      "[\"drmohundro\", \"benjaminjrobin\"]\n",
      "[\"eluciano11\", \"digia\", \"gertjanwytynck\"]\n",
      "[\"thomaschampagne\", \"KamensekD\", \"j0nes2k\", \"glandais\", \"erikvankempen\"]\n",
      "[\"mrtns\", \"acruise\"]\n",
      "[\"chrisnicola\", \"saem\", \"tavisrudd\"]\n",
      "[\"CWSpear\", \"tubia\"]\n",
      "[\"Deph0\", \"RobertMaaskant\"]\n",
      "[\"khloke\", \"josutus\", \"maciex\", \"antoine-morisseau\"]\n",
      "[\"hashd\", \"vekon\", \"MohitSuhane\"]\n",
      "[\"mallowigi\", \"bmkmanoj\"]\n",
      "[\"scambra\", \"courtland\"]\n",
      "[\"lfuelling\", \"nicolaisueper\"]\n",
      "[\"nlepage\", \"EmrysMyrddin\"]\n",
      "[\"lawnsea\", \"savetheclocktower\", \"rmurphey\", \"brianarn\"]\n",
      "[\"pavlakis\", \"sdh100shaun\"]\n",
      "[\"akiroom\", \"ymrl\"]\n",
      "[\"jeffnv\", \"shawndromat\"]\n",
      "[\"Haseeb-Qureshi\", \"akingabramson\"]\n",
      "[\"deepakshrma\", \"DanielHindi\", \"sakshityagi\", \"jdm135\", \"kmtabish\", \"ahmadhmoud\"]\n",
      "[\"francois2metz\", \"avernois\", \"areski\", \"vinyll\", \"zyegfryed\", \"pointbar\", \"providenz\", \"thibault\", \"FrancoisDupayrat\", \"WolffThomas\", \"mjambert\", \"XavCC\", \"TheoVital\", \"cba85\", \"newick\", \"Rom1deTroyes\"]\n",
      "[\"JDM555\", \"lakshaydulani\", \"RJASeoud\", \"vish250491\"]\n",
      "[\"sburns\", \"briandailey\"]\n",
      "[\"sagarrayudu\", \"Gauravnag\"]\n",
      "[\"Mnw2212\", \"skeep\", \"himanshusingh2407\", \"ayushinigam\", \"vatsalya25\"]\n",
      "[\"jludwig\", \"damienmckenna\", \"Ashwini7\"]\n",
      "[\"bdaroz\", \"technonerdz\"]\n",
      "[\"sandeepchhapola\", \"ianblair44\", \"vineetasharma\"]\n",
      "[\"felipesoares6\", \"CaiqueMitsuoka\", \"juliofortunato\", \"mightyjimmy9\"]\n",
      "[\"BobbieBarker\", \"SystemDisc\"]\n",
      "2\n"
     ]
    }
   ],
   "source": [
    "cnt = 0\n",
    "for repo,repo_profile in repo_profiles_df.iterrows():\n",
    "    cnt += 1\n",
    "    print(cnt)\n",
    "    if cnt > 1:\n",
    "        break\n",
    "\n",
    "    teams = [t for t,p in team_profiles_df.iterrows() if not t in repo_teams[repo]]\n",
    "    print(teams[0])\n",
    "    dis_num = euclidean_numerics_v(repo_profile[numerics],team_profiles_df.loc[teams,numerics])\n",
    "    dis_non_num = euclidean_non_numerics_v(repo_profile[non_numerics],team_profiles_df.loc[teams,non_numerics])\n",
    "    dis = euclidean_v(dis_num,dis_non_num)\n",
    "    idxs = sorted(list(range(len(teams))),key=lambda i:dis[i])\n",
    "    for i in range(50):\n",
    "        print(teams[idxs[i]])"
   ]
  },
  {
   "cell_type": "code",
   "execution_count": null,
   "metadata": {},
   "outputs": [],
   "source": []
  }
 ],
 "metadata": {
  "kernelspec": {
   "display_name": "Python 3",
   "language": "python",
   "name": "python3"
  },
  "language_info": {
   "codemirror_mode": {
    "name": "ipython",
    "version": 3
   },
   "file_extension": ".py",
   "mimetype": "text/x-python",
   "name": "python",
   "nbconvert_exporter": "python",
   "pygments_lexer": "ipython3",
   "version": "3.7.0"
  }
 },
 "nbformat": 4,
 "nbformat_minor": 2
}
