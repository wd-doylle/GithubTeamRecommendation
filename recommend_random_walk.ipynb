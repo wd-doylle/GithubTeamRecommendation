{
 "cells": [
  {
   "cell_type": "code",
   "execution_count": 1,
   "metadata": {},
   "outputs": [],
   "source": [
    "import json\n",
    "import pandas as pd\n",
    "\n",
    "repo_profiles = {}\n",
    "repo_teams = {}\n",
    "with open('repo_profiles_new.json') as rj:\n",
    "    for rl in rj.readlines():\n",
    "        line = rl.split('\\t')\n",
    "        repo = line[0]\n",
    "        profile = json.loads(line[1])\n",
    "        repo_profiles[repo] = profile\n",
    "        repo_teams[repo] = repo_profiles[repo].pop('teams')\n",
    "        repo_profiles[repo]\n",
    "    \n",
    "team_profiles = []\n",
    "teams = []\n",
    "with open('team_profiles.json') as tj:\n",
    "    for tl in tj.readlines():\n",
    "        line = tl.split('\\t')\n",
    "        team = line[0]\n",
    "        profile = json.loads(line[1])\n",
    "        team_profiles.append(profile)\n",
    "        teams.append(team)\n",
    "\n",
    "repo_profiles_df = pd.DataFrame(repo_profiles).transpose()\n",
    "repo_profiles_df.fillna('',inplace=True)\n",
    "team_profiles_df = pd.DataFrame(team_profiles,index=teams)\n",
    "team_profiles_df.rename(columns={\n",
    "                                   'repo_size':'size',\n",
    "                                   'repo_forks':'forks',\n",
    "                                   'repo_subscribers':'subscribers',\n",
    "                                   'repo_watchers':'watchers',\n",
    "                                   'languages':'languages',\n",
    "                                   'topics':'topics'\n",
    "                               },inplace=True)\n",
    "\n",
    "numerics = ['size','forks','subscribers','watchers']\n",
    "non_numerics = ['languages','topics']\n",
    "\n",
    "min = repo_profiles_df[numerics].min()\n",
    "max = repo_profiles_df[numerics].max()\n",
    "repo_profiles_df[numerics] = (repo_profiles_df[numerics]-min)/(max-min)\n",
    "team_profiles_df[numerics] = (team_profiles_df[numerics]-min)/(max-min)"
   ]
  },
  {
   "cell_type": "code",
   "execution_count": 2,
   "metadata": {},
   "outputs": [],
   "source": [
    "import numpy as np\n",
    "\n",
    "euclidean_numerics_v = np.vectorize(\n",
    "    lambda p1,p2: np.linalg.norm(p1-p2)**2,signature=\"(n),(n)->()\"\n",
    ")\n",
    "def euclidean_non_numerics(p1,p2):\n",
    "    langs = set(p1[0]).union(p2[0])\n",
    "    topics = set(p1[1]).union(p2[1])\n",
    "    p1_langs = pd.Series([lang in p1[0] for lang in langs])/np.sqrt(len(langs))\n",
    "    p2_langs = pd.Series([lang in p2[0] for lang in langs])/np.sqrt(len(langs))\n",
    "    p1_topics = pd.Series([topic in p1[1] for topic in topics])/np.sqrt(len(topics))\n",
    "    p2_topics = pd.Series([topic in p2[1] for topic in topics])/np.sqrt(len(topics))\n",
    "    return np.linalg.norm(p1_langs-p2_langs)**2 + np.linalg.norm(p1_topics-p2_topics)**2\n",
    "euclidean_non_numerics_v =  np.vectorize(euclidean_non_numerics,signature=\"(n),(n)->()\")\n",
    "euclidean_v = np.vectorize(lambda num,non_num:np.sqrt(num+non_num))"
   ]
  },
  {
   "cell_type": "code",
   "execution_count": 3,
   "metadata": {},
   "outputs": [
    {
     "name": "stdout",
     "output_type": "stream",
     "text": [
      "0.7746006611479885\n"
     ]
    }
   ],
   "source": [
    "repo_graph = {}\n",
    "repos = list(repo_profiles_df.index)\n",
    "for i in range(1):\n",
    "    repo = repos[i]\n",
    "    if not repo in repo_graph:\n",
    "        repo_graph[repo] = {}\n",
    "    dis_num = euclidean_numerics_v(repo_profiles_df.iloc[i][numerics],repo_profiles_df.iloc[i+1:][numerics])\n",
    "    dis_non_num = euclidean_non_numerics_v(repo_profiles_df.iloc[i][non_numerics],repo_profiles_df.iloc[i+1:][non_numerics])\n",
    "    dis = euclidean_v(dis_num,dis_non_num)\n",
    "    for j,d in enumerate(dis):\n",
    "        r = repos[i+1+j]\n",
    "        repo_graph[repo][r] = d\n",
    "        if not r in repo_graph:\n",
    "            repo_graph[r] = {}\n",
    "        repo_graph[r][repo] = d\n",
    "\n",
    "print(repo_graph['Starbound-Dev/starbound-dev']['betheluniversity/Tinker'])"
   ]
  },
  {
   "cell_type": "code",
   "execution_count": null,
   "metadata": {},
   "outputs": [],
   "source": []
  },
  {
   "cell_type": "code",
   "execution_count": null,
   "metadata": {},
   "outputs": [],
   "source": []
  }
 ],
 "metadata": {
  "kernelspec": {
   "display_name": "Python 3",
   "language": "python",
   "name": "python3"
  },
  "language_info": {
   "codemirror_mode": {
    "name": "ipython",
    "version": 3
   },
   "file_extension": ".py",
   "mimetype": "text/x-python",
   "name": "python",
   "nbconvert_exporter": "python",
   "pygments_lexer": "ipython3",
   "version": "3.7.4"
  }
 },
 "nbformat": 4,
 "nbformat_minor": 2
}
