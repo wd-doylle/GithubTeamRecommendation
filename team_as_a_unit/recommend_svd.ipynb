{
 "cells": [
  {
   "cell_type": "code",
   "execution_count": 1,
   "metadata": {},
   "outputs": [],
   "source": [
    "import json\n",
    "import pandas as pd\n",
    "\n",
    "ratings = []\n",
    "repos = []\n",
    "teams = set()\n",
    "repo_teams = {}\n",
    "with open('repo_profiles_new.json') as rj:\n",
    "    for rl in rj.readlines():\n",
    "        line = rl.split('\\t')\n",
    "        repo = line[0]\n",
    "        profile = json.loads(line[1])\n",
    "        repos.append(repo)\n",
    "        teams.update(profile['teams'])\n",
    "        repo_teams[repo] = set(profile['teams'])\n",
    "        for team in profile['teams']:\n",
    "            ratings.append([repo,team,1])"
   ]
  },
  {
   "cell_type": "code",
   "execution_count": 2,
   "metadata": {},
   "outputs": [],
   "source": [
    "from surprise import Reader, SVD, Dataset, accuracy\n",
    "from surprise.model_selection import train_test_split\n",
    "\n",
    "reader = Reader(rating_scale=(0,1))\n",
    "dataset = Dataset.load_from_df(pd.DataFrame(ratings),reader)\n",
    "trainset, testset = train_test_split(dataset, test_size=.25)"
   ]
  },
  {
   "cell_type": "code",
   "execution_count": 3,
   "metadata": {},
   "outputs": [
    {
     "name": "stdout",
     "output_type": "stream",
     "text": [
      "RMSE: 0.0625\n"
     ]
    },
    {
     "data": {
      "text/plain": [
       "0.06251704701003759"
      ]
     },
     "execution_count": 3,
     "metadata": {},
     "output_type": "execute_result"
    }
   ],
   "source": [
    "algo = SVD()\n",
    "\n",
    "predictions = algo.fit(trainset).test(testset)\n",
    "accuracy.rmse(predictions)"
   ]
  },
  {
   "cell_type": "code",
   "execution_count": 4,
   "metadata": {},
   "outputs": [
    {
     "name": "stdout",
     "output_type": "stream",
     "text": [
      "1\n",
      "user: Starbound-Dev/starbound-dev item: [\"pgrm\", \"lgrignon\", \"optical\", \"horiuchi\", \"xt0rted\", \"cyrilschumacher\", \"nalbion\", \"darkl\", \"mkozhukh\", \"mzsm\", \"zlumer\", \"vangorra\", \"phillips1012\", \"dreampulse\", \"borislavjivkov\", \"outring\", \"marcinporebski\", \"flyfishMT\", \"joewashear007\", \"JacobDanton\", \"DeadAlready\", \"kwiateusz\", \"damianog\", \"eirikhm\", \"rdennis\", \"hellopao\", \"gandjustas\", \"arma-gast\", \"frankbille\", \"dalie\", \"kwilson\", \"leonardochaia\", \"woutergd\", \"luzianz\", \"andrewarchi\", \"stpettersens\", \"divillysausages\", \"igochkov\", \"gjunge\", \"MrHen\", \"Justin-Credible\", \"RWander\", \"benzid-wael\", \"DeividasBakanas\", \"oizie\", \"mmckenziedev\", \"danny8002\"] r_ui = None   est = 1.00   {'was_impossible': False}\n",
      "user: Starbound-Dev/starbound-dev item: [\"m-vo\", \"MDevster\"] r_ui = None   est = 0.99   {'was_impossible': False}\n",
      "user: Starbound-Dev/starbound-dev item: [\"strugee\", \"Hainish\", \"cowlicks\", \"sinak\", \"wioux\", \"codec\", \"vbrown608\", \"TheNotary\", \"gcosta\", \"JanKoppe\", \"matzegebbe\", \"Bisaloo\", \"jeremyn\", \"the-st0rm\", \"gloomy-ghost\", \"dvd2000\", \"bcyphers\"] r_ui = None   est = 0.98   {'was_impossible': False}\n",
      "user: Starbound-Dev/starbound-dev item: [\"hunger\", \"josuedhg\", \"obedmr\", \"mrkz\", \"bryteise\", \"markdryan\", \"fenrus75\", \"ahkok\", \"nesiusra\"] r_ui = None   est = 0.98   {'was_impossible': False}\n",
      "user: Starbound-Dev/starbound-dev item: [\"davidrapson\", \"rtyley\", \"mattandrews\", \"jmhofer\", \"afiore\", \"tudorraul\", \"dominickendrick\", \"ostapneko\", \"vivekkr\", \"chrisjowen\", \"joelochlann\", \"tomverran\", \"amyhughes\"] r_ui = None   est = 0.97   {'was_impossible': False}\n",
      "user: Starbound-Dev/starbound-dev item: [\"bevacqua\", \"paulirish\", \"paambaati\", \"DuncanMacWeb\", \"aslushnikov\", \"dgozman\", \"debone\", \"ConnorKrammer\", \"mfsousa\", \"MaxxWyndham\", \"wwwillchen\", \"JoelEinbinder\", \"nojvek\", \"ak239\", \"caseq\", \"pavelfeldman\", \"a1ph\"] r_ui = None   est = 0.96   {'was_impossible': False}\n",
      "user: Starbound-Dev/starbound-dev item: [\"pkozlowski-opensource\", \"maksimr\", \"DavidSouther\", \"mprobst\", \"olegskl\", \"aymericbeaumet\", \"nadavsinai\", \"sjbarker\", \"FlamesoFF\", \"zzo\", \"wzr1337\", \"bekos\", \"lugovsky\", \"jarstingstall\", \"alias-mac\", \"wkwiatek\", \"JDeuker\", \"jennyraj\", \"MilanLempera\"] r_ui = None   est = 0.96   {'was_impossible': False}\n",
      "user: Starbound-Dev/starbound-dev item: [\"didrocks\", \"rednoah\", \"ivuk\", \"mariogrip\", \"alex-spataru\", \"dholbach\", \"LyzardKing\", \"ernesst\", \"dplanella\", \"Winael\", \"egara\", \"mhall119\"] r_ui = None   est = 0.96   {'was_impossible': False}\n",
      "user: Starbound-Dev/starbound-dev item: [\"jbrantly\", \"adidahiya\", \"ngbrown\", \"jsg2021\", \"rob-bateman\", \"cspotcode\", \"jeffmay\", \"use-strict\", \"malekpour\", \"isman-usoh\"] r_ui = None   est = 0.94   {'was_impossible': False}\n"
     ]
    }
   ],
   "source": [
    "from queue import PriorityQueue\n",
    "\n",
    "full_data = dataset.build_full_trainset()\n",
    "algo.fit(full_data)\n",
    "\n",
    "team_recommendations = []\n",
    "cnt = 0\n",
    "for repo in repos:\n",
    "    cnt += 1\n",
    "    if cnt > 1:\n",
    "        break\n",
    "    print(cnt)\n",
    "    rec = []\n",
    "    queue = PriorityQueue()\n",
    "    min_p = 1\n",
    "    for team in teams:\n",
    "        if team in repo_teams[repo]:\n",
    "            continue\n",
    "        p = algo.predict(repo,team)\n",
    "        if p[3] < min_p:\n",
    "            print(p)\n",
    "            min_p = p[3]\n",
    "        queue.put_nowait((p[3],team))\n",
    "        if queue.qsize() > 50:\n",
    "            queue.get_nowait()\n",
    "    while queue.qsize()>0:\n",
    "        rec.append(queue.get_nowait())\n",
    "    team_recommendations.append(rec)"
   ]
  },
  {
   "cell_type": "code",
   "execution_count": 5,
   "metadata": {},
   "outputs": [
    {
     "name": "stdout",
     "output_type": "stream",
     "text": [
      "Starbound-Dev/starbound-dev\n",
      "[1, \"[\\\"zenangst\\\", \\\"bcylin\\\", \\\"chendo\\\", \\\"dev4dev\\\", \\\"jawwad\\\", \\\"bmnick\\\", \\\"JARMourato\\\", \\\"goktugyil\\\", \\\"bahlo\\\", \\\"poboke\\\", \\\"kumapo\\\", \\\"r-mckay\\\", \\\"Yu-w\\\"]\"]\n",
      "[1, \"[\\\"zenorocha\\\", \\\"fsbatista\\\", \\\"SauloSilva\\\", \\\"rands0n\\\", \\\"heinst\\\", \\\"dsifford\\\", \\\"Ulthes\\\", \\\"epidemicz\\\"]\"]\n",
      "[1, \"[\\\"zeppelin\\\", \\\"tonywok\\\", \\\"pootsbook\\\", \\\"quaertym\\\", \\\"digitaltoad\\\", \\\"FelixAkk\\\"]\"]\n",
      "[1, \"[\\\"zerok\\\", \\\"codersquid\\\", \\\"lorenanicole\\\", \\\"justmarkham\\\", \\\"paulcollinsiii\\\", \\\"logston\\\", \\\"mattboehm\\\", \\\"cldershem\\\", \\\"mikeckennedy\\\", \\\"elzilrac\\\", \\\"tfors\\\", \\\"Dinkins\\\", \\\"b-jazz\\\", \\\"smarlowucf\\\", \\\"ivan-bilan\\\"]\"]\n",
      "[1, \"[\\\"zerok\\\", \\\"willkg\\\", \\\"codersquid\\\", \\\"redapple\\\", \\\"mattboehm\\\", \\\"dhoffman34\\\", \\\"Daniel-at-github\\\", \\\"lgh2\\\"]\"]\n",
      "[1, \"[\\\"zerolab\\\", \\\"coredumperror\\\", \\\"timheap\\\", \\\"mhindery\\\", \\\"jimr\\\", \\\"chrxr\\\", \\\"SableWalnut\\\", \\\"m1kola\\\", \\\"nfletton\\\", \\\"benebun\\\", \\\"AdamBolfik\\\"]\"]\n",
      "[1, \"[\\\"zfkang-talend\\\", \\\"pbabin\\\", \\\"sbliu\\\"]\"]\n",
      "[1, \"[\\\"zflamig\\\", \\\"frickjack\\\", \\\"fauzigo\\\", \\\"trevars\\\", \\\"giangbui\\\"]\"]\n",
      "[1, \"[\\\"zgotsch\\\", \\\"joelburget\\\", \\\"markya0616\\\", \\\"bts\\\", \\\"patrickmn\\\", \\\"mohanson\\\", \\\"tylobban\\\", \\\"jpmsam\\\", \\\"fixanoid\\\"]\"]\n",
      "[1, \"[\\\"zhang-hua\\\", \\\"vitoc\\\", \\\"dluc\\\", \\\"peterfelts\\\", \\\"jillcary\\\", \\\"molly-moen\\\"]\"]\n",
      "[1, \"[\\\"zhangkun83\\\", \\\"savaki\\\", \\\"erikmcc\\\", \\\"denyska\\\", \\\"bogdandrutu\\\", \\\"sebright\\\", \\\"reyang\\\", \\\"dinooliva\\\", \\\"kevinmdavis\\\", \\\"Sebruck\\\", \\\"songy23\\\", \\\"ubschmidt2\\\", \\\"HailongWen\\\", \\\"rghetia\\\", \\\"adamgarza\\\"]\"]\n",
      "[1, \"[\\\"zhangsoledad\\\", \\\"TheWaWaR\\\", \\\"yangby-cryptape\\\", \\\"volzkzg\\\"]\"]\n",
      "[1, \"[\\\"zhenyao\\\", \\\"qjia7\\\", \\\"Kangz\\\", \\\"jdashg\\\", \\\"shannonwoods\\\", \\\"Richard-Yunchao\\\", \\\"Oletus\\\", \\\"RafaelCintron\\\", \\\"kainino0x\\\", \\\"qkmiao\\\", \\\"xhcao\\\", \\\"null77\\\", \\\"Jiawei-Shao\\\", \\\"vonture\\\", \\\"JiangYizhou\\\", \\\"jchen10\\\", \\\"jdarpinian\\\", \\\"SenorBlanco\\\"]\"]\n",
      "[1, \"[\\\"zhigang1992\\\", \\\"bcapps\\\", \\\"diogoguimaraes\\\", \\\"aaronpearce\\\", \\\"Vkt0r\\\", \\\"fishcharlie\\\", \\\"jamesjn\\\", \\\"jeneumeier\\\", \\\"SumoSimo\\\"]\"]\n",
      "[1, \"[\\\"zhil\\\", \\\"eliecharra\\\", \\\"jcrombez\\\", \\\"yanndegat\\\"]\"]\n",
      "[1, \"[\\\"zhouxinyu\\\", \\\"wenfengwang\\\", \\\"a2888409\\\", \\\"StyleTang\\\", \\\"tcrow\\\", \\\"RaymondCode\\\", \\\"hooligan520\\\"]\"]\n",
      "[1, \"[\\\"zhut19\\\", \\\"jingqiangye\\\"]\"]\n",
      "[1, \"[\\\"ziggi\\\", \\\"IstuntmanI\\\", \\\"karimcambridge\\\", \\\"WoutProvost\\\", \\\"rt-2\\\"]\"]\n",
      "[1, \"[\\\"zilongshanren\\\", \\\"darkfeline\\\", \\\"TheBB\\\", \\\"mahinshaw\\\", \\\"gdkrmr\\\", \\\"lyallcooper\\\", \\\"declanqian\\\", \\\"jackkamm\\\", \\\"fmdkdd\\\"]\"]\n",
      "[1, \"[\\\"zimbatm\\\", \\\"davidak\\\", \\\"retrry\\\", \\\"dywedir\\\", \\\"igsha\\\"]\"]\n",
      "[1, \"[\\\"zimmerle\\\", \\\"dstelter\\\", \\\"client9\\\", \\\"rcbarnett\\\", \\\"p0pr0ck5\\\", \\\"LinuxJedi\\\", \\\"dune73\\\", \\\"marceldiass\\\", \\\"defanator\\\", \\\"victorhora\\\", \\\"phantom-az\\\", \\\"allanbomsft\\\", \\\"pamiel\\\"]\"]\n",
      "[1, \"[\\\"zivkaziv\\\", \\\"ofiron01\\\"]\"]\n",
      "[1, \"[\\\"ziyangli\\\", \\\"dagar\\\", \\\"anuppari\\\", \\\"nicolaerosia\\\", \\\"bkueng\\\", \\\"stmoon\\\", \\\"sgstreet\\\", \\\"gianni-carbone\\\", \\\"HidenoriKobayashi\\\", \\\"mazahner\\\", \\\"junhohan\\\", \\\"IeiuniumLux\\\", \\\"fredmcc\\\", \\\"stephanbro\\\", \\\"davidaroyer\\\", \\\"western-co-at\\\", \\\"AlexisPotvin\\\", \\\"crossa\\\", \\\"jeyong\\\", \\\"darioxz\\\", \\\"lukegluke\\\", \\\"garfieldG\\\", \\\"oneWayOut\\\", \\\"alexshirley\\\", \\\"arwagoner\\\", \\\"mje-nz\\\", \\\"gigorvd\\\", \\\"jingego\\\", \\\"DanielePettenuzzo\\\", \\\"joshuawhitehead\\\", \\\"nicovanduijn\\\"]\"]\n",
      "[1, \"[\\\"zjf\\\", \\\"liubenyuan\\\", \\\"wac81\\\", \\\"sxjscience\\\", \\\"rfarouni\\\", \\\"flyers\\\", \\\"jonasrla\\\", \\\"lightingghost\\\", \\\"jennyzhang0215\\\", \\\"minazou\\\", \\\"WellyZhang\\\", \\\"loofahcus\\\", \\\"shiyangdaisy23\\\", \\\"kenjewu\\\"]\"]\n",
      "[1, \"[\\\"zjnue\\\", \\\"frabbit\\\", \\\"andyli\\\", \\\"delahee\\\", \\\"hughsando\\\", \\\"aduros\\\", \\\"tml\\\", \\\"ousado\\\", \\\"mockey\\\", \\\"tong\\\", \\\"RealyUniqueName\\\", \\\"yar3333\\\", \\\"TheoSabattie\\\", \\\"porfirioribeiro\\\"]\"]\n",
      "[1, \"[\\\"zkincaid\\\", \\\"ibnfirnas\\\", \\\"alavrik\\\", \\\"gitoleg\\\", \\\"ivg\\\", \\\"dbrumley\\\", \\\"KennethAdamMiller\\\", \\\"maverickwoo\\\"]\"]\n",
      "[1, \"[\\\"zmb3\\\", \\\"datianshi\\\", \\\"xchapter7x\\\", \\\"calebwashburn\\\", \\\"aegershman\\\", \\\"z4ce\\\", \\\"ktpv\\\"]\"]\n",
      "[1, \"[\\\"zmerlynn\\\", \\\"erictune\\\", \\\"ddysher\\\", \\\"lhuard1A\\\", \\\"ravigadde\\\", \\\"sdminonne\\\", \\\"wojtek-t\\\", \\\"rsokolowski\\\", \\\"bcbroussard\\\", \\\"linzichang\\\", \\\"ravilr\\\", \\\"jijun2\\\", \\\"magicwang-cn\\\", \\\"ping035627\\\", \\\"mborsz\\\"]\"]\n",
      "[1, \"[\\\"znation\\\", \\\"TobyRoseman\\\", \\\"srikris\\\", \\\"gustavla\\\", \\\"shantanuchhabra\\\"]\"]\n",
      "[1, \"[\\\"znk\\\", \\\"bitadj\\\", \\\"simonhochrein\\\", \\\"spelunk\\\", \\\"JiniHendrix\\\", \\\"markmarcelo\\\"]\"]\n",
      "[1, \"[\\\"zoepage\\\", \\\"lewiscowper\\\", \\\"varjmes\\\", \\\"verpixelt\\\", \\\"Sly777\\\", \\\"Regaddi\\\", \\\"bastianalbers\\\", \\\"Fischaela\\\"]\"]\n",
      "[1, \"[\\\"zohar\\\", \\\"liorkesos\\\", \\\"shai-weinstein\\\", \\\"ellman\\\", \\\"zlokomatic\\\", \\\"oritpersik\\\", \\\"vtdave\\\", \\\"chanakaDe\\\", \\\"rivkabenshalom\\\"]\"]\n",
      "[1, \"[\\\"zorgiepoo\\\", \\\"jjac\\\", \\\"fletcher\\\", \\\"danielpunkass\\\", \\\"peterb180369\\\"]\"]\n",
      "[1, \"[\\\"zquestz\\\", \\\"akb\\\", \\\"m4ktub\\\", \\\"rickal\\\", \\\"MohamedKiouaz\\\"]\"]\n",
      "[1, \"[\\\"zqzhang\\\", \\\"kangxu\\\", \\\"foolip\\\", \\\"xinliux\\\", \\\"chenxix\\\", \\\"rhauck\\\", \\\"chunywang\\\", \\\"Shao-Feng\\\"]\"]\n",
      "[1, \"[\\\"zsiddique\\\", \\\"powdahound\\\", \\\"rmanalan\\\", \\\"mpcowan\\\"]\"]\n",
      "[1, \"[\\\"zsmb13\\\", \\\"AlexanderPrendota\\\"]\"]\n",
      "[1, \"[\\\"zsxwing\\\", \\\"akarnokd\\\", \\\"davidmoten\\\", \\\"benjchristensen\\\", \\\"daschl\\\", \\\"headinthebox\\\", \\\"abersnaze\\\", \\\"samuelgruetter\\\", \\\"DavidMGross\\\", \\\"quidryan\\\", \\\"jbripley\\\", \\\"flatmap13\\\", \\\"mikebaum\\\", \\\"raksoras\\\", \\\"zsiegel\\\", \\\"ahmed-mahran\\\"]\"]\n",
      "[1, \"[\\\"zsxwing\\\", \\\"yhuai\\\", \\\"davies\\\", \\\"jacek-lewandowski\\\", \\\"alexliu68\\\", \\\"pkolaczk\\\", \\\"nongli\\\", \\\"RussellSpitzer\\\", \\\"artem-aliev\\\", \\\"djvulee\\\", \\\"sameeragarwal\\\", \\\"tejasapatil\\\", \\\"robbinspg\\\", \\\"windpiger\\\", \\\"jtgrabowski\\\", \\\"petermaxlee\\\"]\"]\n",
      "[1, \"[\\\"zugz\\\", \\\"antis81\\\", \\\"agilob\\\", \\\"yurivict\\\", \\\"sudden6\\\", \\\"SkyzohKey\\\", \\\"Diadlo\\\", \\\"kurnevsky\\\", \\\"bmng-dev\\\", \\\"isotoxin\\\", \\\"anthonybilinski\\\", \\\"tox-user\\\", \\\"NamsooCho\\\"]\"]\n",
      "[1, \"[\\\"zurbrandon\\\", \\\"blacklizard\\\", \\\"Ne-Ne\\\", \\\"gerardkcohen\\\", \\\"adriantombu\\\", \\\"imranomari\\\", \\\"viniciusban\\\", \\\"TvrtkoM\\\"]\"]\n",
      "[1, \"[\\\"zvili\\\", \\\"orimarco\\\", \\\"idabran\\\", \\\"AviadCo\\\", \\\"IdanAtias\\\"]\"]\n",
      "[1, \"[\\\"zvili\\\", \\\"orimarco\\\", \\\"leyaniv\\\", \\\"OmriBS\\\", \\\"danabra\\\", \\\"alexvitho\\\", \\\"kobybs\\\", \\\"Lidkin5\\\", \\\"SapirBismot\\\", \\\"nikitadizhur\\\", \\\"kfir-marx\\\"]\"]\n",
      "[1, \"[\\\"zvyn\\\", \\\"jhillacre\\\"]\"]\n",
      "[1, \"[\\\"zxc0328\\\", \\\"kasheemlew\\\"]\"]\n",
      "[1, \"[\\\"zxdong262\\\", \\\"julesbou\\\", \\\"darrynten\\\", \\\"brillout\\\", \\\"Zhangdroid\\\", \\\"delay\\\", \\\"websemantics\\\", \\\"bradstewart\\\", \\\"joearcher\\\", \\\"xiaokaike\\\", \\\"devfake\\\", \\\"foxbenjaminfox\\\", \\\"brianvoe\\\", \\\"ilyashubin\\\", \\\"lajosbencz\\\", \\\"mustardamus\\\", \\\"nguyenvanduocit\\\", \\\"MopTym\\\", \\\"mahmoudmy\\\", \\\"mhayes\\\", \\\"Sopamo\\\", \\\"rajabishek\\\", \\\"ecerroni\\\", \\\"qxl1231\\\", \\\"weinot\\\", \\\"forehalo\\\", \\\"calebroseland\\\", \\\"hilongjw\\\", \\\"haydenbbickerton\\\", \\\"santiblanko\\\", \\\"cngu\\\", \\\"budiadiono\\\", \\\"mgyongyosi\\\", \\\"danielcherubini\\\", \\\"caolinjian\\\", \\\"vace\\\", \\\"lokyoung\\\", \\\"c01nd01r\\\", \\\"irwansyahwii\\\", \\\"zhangxin840\\\", \\\"XeonPowder\\\", \\\"Wanderxx\\\", \\\"loujiayu\\\", \\\"freearhey\\\", \\\"OYsun\\\", \\\"elijan\\\", \\\"andylei18\\\", \\\"phoenixwong\\\", \\\"GeoffZhu\\\", \\\"kylestlb\\\", \\\"wangdahoo\\\", \\\"Roeefl\\\", \\\"reinerBa\\\", \\\"TIGERB\\\", \\\"superwf\\\", \\\"chenz24\\\", \\\"leonardovilarinho\\\", \\\"pluto1114\\\", \\\"RobinCK\\\", \\\"samcrosoft\\\", \\\"superman66\\\", \\\"pramjeet\\\", \\\"iFgR\\\", \\\"xiaoluoboding\\\", \\\"MattyRad\\\", \\\"ZeroDark1991\\\", \\\"akifo\\\", \\\"atwxp\\\", \\\"blue0728\\\", \\\"compmeist\\\", \\\"cs1707\\\", \\\"cucygh\\\", \\\"echoVic\\\", \\\"eliep\\\", \\\"gustaYo\\\", \\\"ihanyang\\\", \\\"katik\\\", \\\"saivarunk\\\", \\\"sandeepk01\\\", \\\"HKskn\\\", \\\"dinony\\\"]\"]\n",
      "[1, \"[\\\"zxwing\\\", \\\"liningone\\\", \\\"ZStack-Robot\\\", \\\"HeathHose\\\", \\\"Alvin-Lau\\\", \\\"MaJin1996\\\", \\\"camilesing\\\", \\\"zsyzsyhao\\\", \\\"newbiet\\\"]\"]\n",
      "[1, \"[\\\"zzak\\\", \\\"rohit\\\", \\\"j0ni\\\", \\\"marcomorain\\\", \\\"Azolo\\\", \\\"pete\\\", \\\"jamesdabbs\\\", \\\"eric-hu\\\", \\\"tonyta\\\", \\\"ryanwohara\\\", \\\"jeltz\\\", \\\"petedmarsh\\\", \\\"kimh\\\", \\\"NebuPookins\\\", \\\"nzwsch\\\", \\\"rennex\\\", \\\"gordonsyme\\\", \\\"conormcd\\\", \\\"michelle-luna\\\"]\"]\n",
      "[1, \"[\\\"zzcclp\\\", \\\"397090770\\\", \\\"xubo245\\\", \\\"kunal642\\\", \\\"akashrn5\\\", \\\"sounakr\\\"]\"]\n",
      "[1, \"[\\\"zzorba\\\", \\\"Kamalisk\\\", \\\"drawntotheflame\\\"]\"]\n"
     ]
    }
   ],
   "source": [
    "for i,rec in enumerate(team_recommendations):\n",
    "    print(repos[i])\n",
    "    for tm in rec:\n",
    "        print(json.dumps(list(tm)))"
   ]
  },
  {
   "cell_type": "code",
   "execution_count": 6,
   "metadata": {},
   "outputs": [],
   "source": [
    "import numpy as np\n",
    "from matplotlib import pyplot as plt\n",
    "\n",
    "def NDCG(repo,rec,team_target):\n",
    "    dcg = 0\n",
    "    for i,tm in enumerate(rec):\n",
    "        if tm in team_target and repo == team_target[tm]:\n",
    "            dcg += 1/np.log2(i+2)\n",
    "    target_cnt = 0\n",
    "    idcg =  0\n",
    "    for tm in team_target:\n",
    "        target = team_target[tm]\n",
    "        if target == repo:\n",
    "            target_cnt += 1\n",
    "            idcg += 1/np.log2(target_cnt+1)\n",
    "    dcg /= idcg\n",
    "    return dcg\n",
    "\n",
    "recommendations = {}\n",
    "with open('recommend_svd.json') as rj:\n",
    "    for l in rj.readlines():\n",
    "        line = l.strip().split('\\t')\n",
    "        repo = line[0]\n",
    "        recs = [json.loads(t)[1] for t in line[1:]]\n",
    "        recommendations[repo] = recs[::-1]\n",
    "team_target = {}\n",
    "with open('team_profiles.json') as tj:\n",
    "    for tl in tj.readlines():\n",
    "        line = tl.split('\\t')\n",
    "        team = line[0]\n",
    "        profile = json.loads(line[1])\n",
    "        team_target[team] = profile['target']"
   ]
  },
  {
   "cell_type": "code",
   "execution_count": 7,
   "metadata": {},
   "outputs": [
    {
     "data": {
      "image/png": "[encoded data removed]",
      "text/plain": [
       "<Figure size 432x288 with 1 Axes>"
      ]
     },
     "metadata": {
      "needs_background": "light"
     },
     "output_type": "display_data"
    }
   ],
   "source": [
    "NDCGs = []\n",
    "for repo in recommendations:\n",
    "    NDCGs.append(NDCG(repo,recommendations[repo],team_target))\n",
    "plt.hist(NDCGs)\n",
    "plt.show()"
   ]
  },
  {
   "cell_type": "code",
   "execution_count": null,
   "metadata": {},
   "outputs": [],
   "source": []
  }
 ],
 "metadata": {
  "kernelspec": {
   "display_name": "Python 3",
   "language": "python",
   "name": "python3"
  },
  "language_info": {
   "codemirror_mode": {
    "name": "ipython",
    "version": 3
   },
   "file_extension": ".py",
   "mimetype": "text/x-python",
   "name": "python",
   "nbconvert_exporter": "python",
   "pygments_lexer": "ipython3",
   "version": "3.7.0"
  }
 },
 "nbformat": 4,
 "nbformat_minor": 2
}
